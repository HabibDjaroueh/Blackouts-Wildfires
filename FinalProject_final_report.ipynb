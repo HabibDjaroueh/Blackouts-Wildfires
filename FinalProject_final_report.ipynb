{
 "cells": [
  {
   "cell_type": "markdown",
   "metadata": {},
   "source": [
    "# ER131 Final Project Template\n",
    "Fall 2024\\\n",
    "by Habib Djaroueh, Riccardo Conte, Jack Rogers"
   ]
  },
  {
   "cell_type": "markdown",
   "metadata": {},
   "source": [
    "# Prediction Models on Power Outages and Fire Size\n",
    "\n",
    "**Riccardo Conte**: I contributed to this project in several ways. Early on, I made sure we had brainstorming sessions to discuss options for this project and look for suitable datasets. I created a google doc with outlines to organize the work for the team and communicate as we worked together. I helped dowloading and organizing data excel files. I edited the abstract, wrote the project objective and data description. I mainly wrote the 3 prediction models for fire size, and wrote their results' analysis. I co-created the presentation slides and wrote speaker notes and bullet points. Lastly, I assembled a good part of this final project report, editing code and makdown cells. I estimate I spent about 40-50 hours on this project.\n",
    "\n",
    "**Habib Djaroueh**: Habib worked on acquiring the weather dataset using the OpenWeatherAPI and the data cleaning of the utilities power outages dataset. Habib merged the datasets together. Habib performed EDA in order to see patterns in the dataset, like the number of null values that exist for each column. Habib did feature engineering to prepare the data for modeling, he ended up running 6 models, namely: DecisionTreeClassifier, BaggingClassifier, RandomForestClassifier,\n",
    "RandomizedSearchCV, GradientBoostingClassifier, and Logistic Regression. Ended up with an 87.6% accuracy with the RandomForestClassifier. Habib estimates he worked: around 50 hours on this project.\n",
    "\n",
    "**Jack Rogers**: I spent a lot of my time learning the ins and outs of the weather API, particularly how to call it to our code which was a massive bottleneck in our process. I also devoted time to creating all of the EDA visualization for our project, covering both of the target variables and even a prediction accuracy scatterplot for the blackout model. In the beginning of the project, I also had to reaggregate both the SCE and PG&E datasets, making sure that there was no awkward formatting problems and that all columns were lined up correctly (since the utilities release the data by year). I also assisted with the data cleaning of the resultant data frame, as well. Estimated Time Spent On Project: 40-45 hours.\n"
   ]
  },
  {
   "cell_type": "markdown",
   "metadata": {},
   "source": [
    "## Abstract (5 points)\n",
    "\n",
    "In this research project, we analyzed California utilities fire and power outage data from all major utilities, over the years 2014-2023, to discover any correlations among a large number of features to predict and prepare for the event of a power outage and an outage-related fire. We used a number of predictive model approaches based on the type of model and the datasets. We used random forest, gradient boosting, bagging, decision tree, randomized search, and logistic regression to create our blackout model. The most accurate model out of them was the random forest approach which resulted with an 87.7% testing accuracy, and an optimal classification report. Upon inspecting the results, we found that dew point (unit: Kelvin, feature importance (FI) = 100%) was most heavily correlated to predicting a power outage, followed by “feels like” temperature (unit: Kelvin, FI=96.11%), and temperature (unit: Kelvin, FI=91.34%), humidity (unit: %, FI=89.12%), and wind direction (unit: degrees, FI=83.65%). The second predictive model used random forest regression, support vector machine (SVM), and K-nearest neighbor (KNN) to predict the size of a wildfire caused by an accidental ignition. This model was also most accurately predicted by random foresting with a testing accuracy of 81.9%. Due to the nature of the wildfire data, we noticed an imbalance distribution among the fire size categories, as most of the observations represent wildfires under one acre in size. We presume this data characteristic had an significant impact on the performance of our prediction models. The features found to be most heavily correlated with fire size prediction were dew point (unit: Kelvin, FI=89.83%), “feels like” temperature (unit: Kelvin, FI=88.22%), temperature (unit: Kelvin, PI=87.68%), and wind direction (unit: degrees, FI=82.53%). We learned that dew point is the most prevalent indicator for not only whether or not a blackout is going to occur, but also the size that a fire will spread to. We also correctly expected that temperature and wind conditions have strong correlations to both of these outcomes as well."
   ]
  },
  {
   "cell_type": "markdown",
   "metadata": {},
   "source": [
    "## Project Background (5 points)\n",
    "\n",
    "For the past century, especially in the past twenty five years of the 21st century, American culture has placed climate change on the podium of challenges that it has chosen to address – putting it at the forefront of the global sphere in climate tech innovation. Within this sphere, California has been the leader in American politics, pushing for greater government spending and incentives than all other states. One of the main areas touched in the cleaning of the energy portfolio as well as expanding and increasing the resiliency of energy infrastructure throughout the state. To this end, California has three major energy utilities – Pacific Gas & Electric (PG&E), Southern California Edison (SCE), and San Diego Gas and Electric (SDGE) – that are all looking for the most efficient ways to allocate their resources and get the cleanest and most reliable energy system that they can with the resources available.\\\n",
    "An inherent problem with the current infrastructure is the rampant spread of wildfires that has plagued California for the past few decades. This costs the state tens of billions of dollars if not more to repair homes, businesses, and land damaged by these natural disasters. Not to mention, the blackouts that often come with these fires can lead to serious detriments to quality of life in service areas, even threatening lives in some instances. Whether the cause is extreme weather events, overgrown trees, or dry seasons, these companies are constantly looking for ways to mitigate not only the damage but also the maintenance efforts that they have to put in as a result of these trends.\\\n",
    "In fact, California as a whole has a market size of around 3 billion per year just on wildfire mitigation alone. Add that to the roughly $22 billion spent on infrastructure hardening and upgrading from 2020 to 2022 and it is clear to see that the demand is there for answers on where to spend the next dollar in the budget for the most effect (Lazo).\\\n",
    "One solution to this resource allocation problem is quantitative analysis. This solution provides a unique opportunity to look at physical data and from the outputs determine the best way to solve the problem. This method creates reproducible results that allow you to have an objective understanding of the most efficient way to address a situation that you have already seen before. On top of that, if allows for model computing that is able to learn from itself as it fails and succeeds. By optimizing itself over time, the wide scale adoption of a solution such as this would ensure a very reliable read out of things such as: areas that are susceptible to the next blackout, and areas susceptible to large scale wildfires based on a pre-set table of features that are collected.\n",
    "\n",
    "\n",
    "      "
   ]
  },
  {
   "cell_type": "markdown",
   "metadata": {},
   "source": [
    "## Project Objective (5 points)\n",
    "\n",
    "The purpose of this project is to train and evaluate various predictive models to forecast power outages in California, particularly focusing on those potentially initiated by wildfires. Additionally, the project aims to develop a complementary model to predict the size and spread of wildfires based on historical data and environmental factors.\\\n",
    "These objectives hold significant importance for multiple reasons. First, by improving the ability to predict power outages, utility companies can better prepare for and mitigate service interruptions, reducing their impact on communities. Second, forecasting the size of wildfires can enhance emergency response planning, enabling first responders to allocate personnel and equipment to areas at greatest risk. Together, these models can inform decision-making for proactive safety measures such as Public Safety Power Shutoffs (PSPS), evacuation orders, and resource pre-positioning.\\\n",
    "The broader implications of this work include increased public safety, as faster and more accurate predictions reduce the risk to human life and property. Furthermore, enhanced resource allocation saves money, labor, and time for utilities and emergency management organizations. These savings can be redirected to strengthen infrastructure and improve community preparedness. From a policy perspective, insights gained through this analysis can help prioritize investments in fire prevention and grid resiliency measures, contributing to long-term solutions for California’s wildfire and energy challenges.\\\n",
    "In essence, this project aims to combine machine learning techniques with real-world data to address critical societal needs, making communities safer and utilities more efficient.\n"
   ]
  },
  {
   "cell_type": "markdown",
   "metadata": {},
   "source": [
    "## Input Data Description (5 points)\n",
    "\n",
    "To accomplish the objectives of this project, we sourced data from multiple reputable sources, ensuring a comprehensive dataset to train and evaluate our predictive models. Below is an initial description of the datasets, including their origins, attributes, and intended roles:\n",
    "1. Data Origins and Collection Methods\\\n",
    "We sourced the fire incident data directly from the California Public Utilities Commission (CPUC) on wildfire safety. If you scroll down to “Fire Ignition Data”, you can find links to the data from these utilities: SDG&E, SCE, & PG&E. The original datasets were downloaded as annual excel workbooks, and then combined. The original datasets include detailed information about utility name, fire incident date, time, latitude and longitude, material at origin, land use at origin, size, presence of power outage, and more.\\\n",
    "We also retrieved the weather data from OpenWeatherMap using this link: https://api.openweathermap.org/data/3.0/onecall/timemachine?lat={lat}&lon={lon}&dt={time}&appid={API key} and an API key (“c4f120b33c59fae75c8b731da1756e0e”) that is on the One Call API plan (free subscription APIs would not work here). Using the link above, and inputting Latitude (Latitude coordinate [degrees]), Longitude (Longitude coordinate [degrees]), datetime (Full timestamp of the incident), datetime_unix (Timestamp in Unix format [seconds]), and the API key into each {“”} section to retrieve weather data from that given data point. We automated this process to extract weather data with the proper scope and temporality, and created a dataset. This dataset provides detailed weather observations, including hourly and daily metrics like temperature, wind speed, humidity, and pressure. These factors play a critical role in understanding wildfire behavior and power grid vulnerability.\\\n",
    "These datasets provide a well-rounded view of the problem, addressing both environmental and infrastructure-related dimensions of fire and power outage dynamics.\n",
    "\n",
    "2. Data Structure, Granularity, Scope, Temporality, and Faithfulness (SGSTF)\\\n",
    "**Structure**: The datasets include structured data fields that provide both temporal and spatial information alongside categorical descriptors. Key fields include: the exact date and time of fire events, which are critical for temporal analysis and matching with weather and power outage data; spatial coordinates pinpointing the location of fire origins, enabling geospatial analysis and integration with other location-based datasets; and categorical data such as material at origin, and land use at origin.\\\n",
    "**Granularity**: The dataset includes fine-grained temporal details, such as the exact start date and time (down to the minute) of wildfires. This precision allows for a more accurate correlation between weather conditions, fire incidents, and power outages. Coupled with spatial data (latitude and longitude), this granularity enables the analysis to focus on localized patterns and immediate temporal trends, which are essential for predicting wildfire behavior and its impact on power grid infrastructure.\\\n",
    "**Scope**: The focus is on California, encompassing its diverse ecosystems, wildfire-prone zones, and utility service areas.\\\n",
    "**Temporality**: Datasets span at least the last decade (2014-2023) to capture trends and patterns in wildfire activity, weather variability, and grid performance.\\\n",
    "**Faithfulness**: Each dataset has been vetted for accuracy, completeness, and relevance to ensure reliability and representativeness. They were obtained from an official governmental database and an open weather source.\n",
    "\n",
    "3. Target Variables and Features\n",
    "The target variable for the power outage model is a binary indicator of outages: \"Outage\" or \"No Outage\". The features for this model are: Material at Origin (Type of material involved at fire origin), Land Use at Origin (Type of land use where fire started, e.g., residential, commercial), Size (Size of the incident area [acres]), Voltage (Volts) (Voltage level involved in the incident [kV]), Equipment Involved With Ignition (Type of equipment involved in ignition), Type (Categorization of incident type), temp (Daily mean temperature [Kelvin]), feels_like (Perceived temperature [Kelvin]), pressure (Atmospheric pressure [hPa]), humidity (Relative humidity [%]), dew_point (Dew point temperature [Kelvin]), clouds (Cloud cover percentage [%]), wind_speed (Average daily wind speed [meters/second]), wind_deg (Wind direction [degrees]), and wind_gust (Wind gust speed [meters/second]).\\\n",
    "The target variable for the fire size model is a multi-categorical size prediction model, these are the categories: 0-0.99 Acres, 1-9.99 Acres, 10-99.9 Acres, 100-999.9 Acres, 1000-5000 Acres and more. The features for this model are the same as the previous model; however, we hot-encoded them into ranges of values (e.g. Voltage_Low Voltage(0-1kV), Voltage_Medium Voltage (1–15kV)) and unique categories for categorical features (e.g. Material at Origin_Vegetation', 'Material at Origin_Vehicle'). The features for this model are: temp (Daily mean temperature [Kelvin]), feels_like (Perceived temperature [Kelvin]), pressure (Atmospheric pressure [hPa]), humidity (Relative humidity [%]), dew_point (Dew point temperature [Kelvin]), clouds (Cloud cover percentage [%]), wind_speed (Average daily wind speed [meters/second]), wind_deg (Wind direction [degrees]), Land Use at Origin (Type of land use where fire started, e.g., residential, commercial), Voltage (Volts) (Voltage level involved in the incident [kV]), Material at Origin (Type of material involved at fire origin), Equipment Involved With Ignition (Type of equipment involved in ignition), Type (Categorization of incident type)\\\n",
    "Here's a photo of the features, we will be able to run this later on in the project:\n",
    "\n",
    "![alt text](fire_features.png \"Fire Size model Features\")\n",
    "\n",
    "The weather data from OpenWeatherMap will be crucial for tracking environmental conditions leading up to outages or wildfires. The fire incident and power outage data will provide the historical context necessary for identifying patterns and correlations. Data will be cleaned and merged using common keys, such as geographic locations and timestamps, to create a unified dataset for analysis. By integrating these datasets, we aim to develop robust predictive models that address our project’s goals of forecasting power outages and wildfire sizes."
   ]
  },
  {
   "cell_type": "markdown",
   "metadata": {},
   "source": [
    "## Data Cleaning (10 points)"
   ]
  },
  {
   "cell_type": "code",
   "execution_count": 1,
   "metadata": {},
   "outputs": [],
   "source": [
    "# loading required libraries\n",
    "import pandas as pd\n",
    "import numpy as np\n",
    "import matplotlib.pyplot as plt\n",
    "from datetime import datetime\n",
    "import requests\n",
    "from sklearn.preprocessing import MinMaxScaler\n",
    "import statsmodels.api as sm\n",
    "from sklearn.model_selection import GridSearchCV\n",
    "from sklearn.ensemble import GradientBoostingClassifier\n",
    "from random import randint\n",
    "from sklearn.model_selection import RandomizedSearchCV\n",
    "from sklearn.ensemble import BaggingClassifier\n",
    "from sklearn.ensemble import RandomForestClassifier\n",
    "from sklearn.metrics import confusion_matrix\n",
    "import seaborn as sns# \n",
    "import pandas as pd\n",
    "import numpy as np\n",
    "from sklearn.model_selection import train_test_split, cross_val_score, GridSearchCV\n",
    "from sklearn.ensemble import RandomForestClassifier\n",
    "from sklearn.preprocessing import MinMaxScaler\n",
    "from sklearn.metrics import confusion_matrix, classification_report\n",
    "import seaborn as sns\n",
    "import matplotlib.pyplot as plt\n",
    "from sklearn.tree import DecisionTreeClassifier\n",
    "from sklearn.model_selection import cross_val_score\n",
    "from sklearn import tree"
   ]
  },
  {
   "cell_type": "markdown",
   "metadata": {},
   "source": [
    "--\n",
    "\n",
    "Data Cleaning Southern California Edinson (SCE) outage data.\n",
    "\n",
    "--"
   ]
  },
  {
   "cell_type": "code",
   "execution_count": 2,
   "metadata": {},
   "outputs": [],
   "source": [
    "# loading file\n",
    "sce = pd.read_csv('sce.csv')\n",
    "\n",
    "# Data cleaning process\n",
    "sce.columns = sce.iloc[0]  # Setting the first row as column names\n",
    "sce = sce[1:]  # Removing the first row since it's now the header\n",
    "\n",
    "# Renaming specific columns for clarity\n",
    "sce.rename(columns={np.nan: 'Utility Name', \n",
    "                    'Date': 'Fire Start Date', \n",
    "                    'Time': 'Fire Start Time'}, inplace=True)\n",
    "\n",
    "# Dropping unnecessary columns\n",
    "sce.drop(columns=['Suppressed by', 'Suppressing Agency', 'Other Companies', 'Facility Contacted'], inplace=True)\n",
    "\n",
    "# Removing duplicated columns and limit rows to the desired range\n",
    "sce_b_m = sce.loc[:, ~sce.columns.duplicated()]  # Removing duplicate columns\n",
    "sce_b_m = sce_b_m.iloc[:1120, :]  # Keeping only the first 1120 rows"
   ]
  },
  {
   "cell_type": "markdown",
   "metadata": {},
   "source": [
    "--\n",
    "\n",
    "Data Cleaning San Diego Gas & Electric (SDG&E) outage data.\n",
    "\n",
    "--"
   ]
  },
  {
   "cell_type": "code",
   "execution_count": 3,
   "metadata": {},
   "outputs": [],
   "source": [
    "sdge = pd.read_csv('sdge_new.csv', encoding='latin-1')  # Loading data with appropriate encoding\n",
    "sdge.columns = sdge.iloc[0]  # Setting the first row as column names\n",
    "sdge = sdge[1:]  # Removing the first row as it is now the header\n",
    "\n",
    "# Renaming specific columns for clarity\n",
    "sdge.rename(columns={np.nan: 'Utility Name', \n",
    "                     'Date': 'Fire Start Date', \n",
    "                     'Time': 'Fire Start Time'}, inplace=True)\n",
    "\n",
    "# Removing duplicate columns\n",
    "sdge_b_m = sdge.loc[:, ~sdge.columns.duplicated()]  # Keep only unique columns"
   ]
  },
  {
   "cell_type": "markdown",
   "metadata": {},
   "source": [
    "--\n",
    "\n",
    "Data Cleaning Pacific Gas & Electric (PG&E) outage data\n",
    "\n",
    "--"
   ]
  },
  {
   "cell_type": "code",
   "execution_count": 4,
   "metadata": {},
   "outputs": [],
   "source": [
    "# loading data\n",
    "pge = pd.read_csv('PG&E.csv')\n",
    "\n",
    "#  PG&E: renaming Equipment /Facility \\nFailure'-> 'Equipment /Facility Failure' and 'Contact From \\nObject'-> 'Contact From Object'\n",
    "pge.rename(columns = {'Unnamed: 0' : 'Utility Name', \n",
    "                      'Equipment /Facility \\nFailure' : 'Equipment /Facility Failure',\n",
    "                      'Contact From \\nObject' : 'Contact From Object', 'Fire Size' : 'Size'}, inplace = True)\n",
    "\n",
    "pge_b_m = pge.loc[:, ~pge.columns.duplicated()]"
   ]
  },
  {
   "cell_type": "markdown",
   "metadata": {},
   "source": [
    "--\n",
    "\n",
    "Combining the 3 utilities cleaned data into one dataframe: resultant.\n",
    "\n",
    "--"
   ]
  },
  {
   "cell_type": "markdown",
   "metadata": {},
   "source": [
    "The fact that we have at least 5200 full rows of utility power outage information from 2014-2023 from a trusted reliable source, assures us that we have sufficient data to make a good prediction."
   ]
  },
  {
   "cell_type": "code",
   "execution_count": 5,
   "metadata": {},
   "outputs": [],
   "source": [
    "result_a = pd.concat([sce_b_m, pge_b_m], axis=0, join = 'inner')\n",
    "resultant = pd.concat([result_a, sdge_b_m], axis=0, join = 'inner')"
   ]
  },
  {
   "cell_type": "code",
   "execution_count": 6,
   "metadata": {},
   "outputs": [
    {
     "name": "stdout",
     "output_type": "stream",
     "text": [
      "<class 'pandas.core.frame.DataFrame'>\n",
      "Index: 15749 entries, 1 to 278\n",
      "Data columns (total 13 columns):\n",
      " #   Column                            Non-Null Count  Dtype \n",
      "---  ------                            --------------  ----- \n",
      " 0   Utility Name                      5446 non-null   object\n",
      " 1   Fire Start Date                   5446 non-null   object\n",
      " 2   Fire Start Time                   5444 non-null   object\n",
      " 3   Latitude                          5443 non-null   object\n",
      " 4   Longitude                         5443 non-null   object\n",
      " 5   Material at Origin                5239 non-null   object\n",
      " 6   Land Use at Origin                5446 non-null   object\n",
      " 7   Size                              5446 non-null   object\n",
      " 8   Facility Identification           5394 non-null   object\n",
      " 9   Voltage\n",
      "(Volts)                   5446 non-null   object\n",
      " 10  Equipment Involved With Ignition  5440 non-null   object\n",
      " 11  Type                              5446 non-null   object\n",
      " 12  Was There an Outage               5444 non-null   object\n",
      "dtypes: object(13)\n",
      "memory usage: 1.7+ MB\n"
     ]
    }
   ],
   "source": [
    "resultant.info()"
   ]
  },
  {
   "cell_type": "code",
   "execution_count": 7,
   "metadata": {},
   "outputs": [
    {
     "data": {
      "text/plain": [
       "(15749, 13)"
      ]
     },
     "execution_count": 7,
     "metadata": {},
     "output_type": "execute_result"
    }
   ],
   "source": [
    "resultant.shape"
   ]
  },
  {
   "cell_type": "markdown",
   "metadata": {},
   "source": [
    "--\n",
    "\n",
    "Cleaning the resultant dataframe, removing all non-existant/NaN values, modifying human input errors as API expects a clean input for Longitude, Latitude, and datetime_unix. For example, some input values have tabs, spacing, semi-collons instead of collons.\n",
    "\n",
    "--"
   ]
  },
  {
   "cell_type": "code",
   "execution_count": 8,
   "metadata": {},
   "outputs": [
    {
     "name": "stderr",
     "output_type": "stream",
     "text": [
      "/tmp/ipykernel_59/2701340172.py:8: FutureWarning: ChainedAssignmentError: behaviour will change in pandas 3.0!\n",
      "You are setting values through chained assignment. Currently this works in certain cases, but when using Copy-on-Write (which will become the default behaviour in pandas 3.0) this will never work to update the original DataFrame or Series, because the intermediate object on which we are setting values will behave as a copy.\n",
      "A typical example is when you are setting values in a column of a DataFrame, like:\n",
      "\n",
      "df[\"col\"][row_indexer] = value\n",
      "\n",
      "Use `df.loc[row_indexer, \"col\"] = values` instead, to perform the assignment in a single step and ensure this keeps updating the original `df`.\n",
      "\n",
      "See the caveats in the documentation: https://pandas.pydata.org/pandas-docs/stable/user_guide/indexing.html#returning-a-view-versus-a-copy\n",
      "\n",
      "  resultant.iloc[911, :]['Fire Start Time'] = '13:23'\n",
      "/tmp/ipykernel_59/2701340172.py:10: FutureWarning: ChainedAssignmentError: behaviour will change in pandas 3.0!\n",
      "You are setting values through chained assignment. Currently this works in certain cases, but when using Copy-on-Write (which will become the default behaviour in pandas 3.0) this will never work to update the original DataFrame or Series, because the intermediate object on which we are setting values will behave as a copy.\n",
      "A typical example is when you are setting values in a column of a DataFrame, like:\n",
      "\n",
      "df[\"col\"][row_indexer] = value\n",
      "\n",
      "Use `df.loc[row_indexer, \"col\"] = values` instead, to perform the assignment in a single step and ensure this keeps updating the original `df`.\n",
      "\n",
      "See the caveats in the documentation: https://pandas.pydata.org/pandas-docs/stable/user_guide/indexing.html#returning-a-view-versus-a-copy\n",
      "\n",
      "  resultant.iloc[4975, :]['Fire Start Date'] = '2/18/16'\n",
      "/tmp/ipykernel_59/2701340172.py:15: FutureWarning: ChainedAssignmentError: behaviour will change in pandas 3.0!\n",
      "You are setting values through chained assignment. Currently this works in certain cases, but when using Copy-on-Write (which will become the default behaviour in pandas 3.0) this will never work to update the original DataFrame or Series, because the intermediate object on which we are setting values will behave as a copy.\n",
      "A typical example is when you are setting values in a column of a DataFrame, like:\n",
      "\n",
      "df[\"col\"][row_indexer] = value\n",
      "\n",
      "Use `df.loc[row_indexer, \"col\"] = values` instead, to perform the assignment in a single step and ensure this keeps updating the original `df`.\n",
      "\n",
      "See the caveats in the documentation: https://pandas.pydata.org/pandas-docs/stable/user_guide/indexing.html#returning-a-view-versus-a-copy\n",
      "\n",
      "  resultant.iloc[4967, :]['Fire Start Time'] = '13:04'\n",
      "/tmp/ipykernel_59/2701340172.py:16: FutureWarning: ChainedAssignmentError: behaviour will change in pandas 3.0!\n",
      "You are setting values through chained assignment. Currently this works in certain cases, but when using Copy-on-Write (which will become the default behaviour in pandas 3.0) this will never work to update the original DataFrame or Series, because the intermediate object on which we are setting values will behave as a copy.\n",
      "A typical example is when you are setting values in a column of a DataFrame, like:\n",
      "\n",
      "df[\"col\"][row_indexer] = value\n",
      "\n",
      "Use `df.loc[row_indexer, \"col\"] = values` instead, to perform the assignment in a single step and ensure this keeps updating the original `df`.\n",
      "\n",
      "See the caveats in the documentation: https://pandas.pydata.org/pandas-docs/stable/user_guide/indexing.html#returning-a-view-versus-a-copy\n",
      "\n",
      "  resultant.iloc[5130, :]['Fire Start Time'] = '18:26'\n"
     ]
    }
   ],
   "source": [
    "resultant.dropna(how = 'any', inplace = True)\n",
    "resultant = resultant[resultant['Fire Start Time'] != 'Not Provided']\n",
    "resultant = resultant[resultant['Latitude'] != 'Not Provided']\n",
    "resultant = resultant[resultant['Latitude'] != 'N/A']\n",
    "resultant = resultant[resultant['Latitude'] != '0']\n",
    "resultant = resultant.loc[resultant['Fire Start Time'] != 'Unknown']\n",
    "resultant = resultant.loc[resultant['Fire Start Time'] != 'unknown']\n",
    "resultant.iloc[911, :]['Fire Start Time'] = '13:23'\n",
    "resultant.loc[4967, 'Fire Start Time'] = '13:04'\n",
    "resultant.iloc[4975, :]['Fire Start Date'] = '2/18/16'\n",
    "resultant.loc[317, 'Latitude'] = '35.427678'\n",
    "resultant.loc[825, 'Latitude'] = '33.862869' # had tab\n",
    "resultant.loc[883, 'Latitude'] = '33.850691' # had tab\n",
    "resultant.loc[674, 'Longitude'] = '-118.133591'\n",
    "resultant.iloc[4967, :]['Fire Start Time'] = '13:04'\n",
    "resultant.iloc[5130, :]['Fire Start Time'] = '18:26'"
   ]
  },
  {
   "cell_type": "markdown",
   "metadata": {},
   "source": [
    "Using 2 columns, 'Fire Start Date' and 'Fire Start Time' we created a datetime column named 'datetime'."
   ]
  },
  {
   "cell_type": "code",
   "execution_count": 9,
   "metadata": {},
   "outputs": [
    {
     "name": "stderr",
     "output_type": "stream",
     "text": [
      "/tmp/ipykernel_59/1142980940.py:2: FutureWarning: The behavior of 'isin' with dtype=datetime64[ns] and castable values (e.g. strings) is deprecated. In a future version, these will not be considered matching by isin. Explicitly cast to the appropriate dtype before calling isin instead.\n",
      "  resultant = resultant[~resultant['datetime'].isin(['NaT'])]\n"
     ]
    }
   ],
   "source": [
    "resultant['datetime'] = pd.to_datetime(resultant['Fire Start Date'] + ' ' + resultant['Fire Start Time'], format='mixed')\n",
    "resultant = resultant[~resultant['datetime'].isin(['NaT'])]"
   ]
  },
  {
   "cell_type": "markdown",
   "metadata": {},
   "source": [
    "Converted 'datetime' column into unix timestamp format because API takes 4 arguments: 'Latitude', 'Longitude', 'datetime' (in UNIX format), and 'API Key'."
   ]
  },
  {
   "cell_type": "code",
   "execution_count": 10,
   "metadata": {},
   "outputs": [],
   "source": [
    "resultant['datetime_unix'] = (resultant['datetime'].apply(lambda x: x.timestamp())).astype(int)"
   ]
  },
  {
   "cell_type": "markdown",
   "metadata": {},
   "source": [
    "The function 'scrape_weather_data' iterates over every single observation within the resultant dataframe, for every observation we have a\n",
    "longitude, latitude, dt object value each of these together will result in an API call with this format: \n",
    "\n",
    "'https://api.openweathermap.org/data/3.0/onecall/timemachine?lat=38.045&lon=-122.25333&dt=1643803200&appid=c4f120b33c59fae75c8b731da1756e0e'\n",
    "\n",
    "For API call we scrape the website for the values for temp, feels_like, pressure, humidity, dew_point, clouds, wind_speed, wind_deg, wind_gust\n",
    "\n",
    "For context, an example of information that exists on a website: \n",
    "\n",
    "'{\"lat\":38.045,\"lon\":-122.2533,\"timezone\":\"America/Los_Angeles\",\"timezone_offset\":-28800,\"data\":[{\"dt\":1643803200,\"sunrise\":1643814756,\"sunset\":1643851969,\"temp\":281.94,\"feels_like\":280.74,\"pressure\":1020,\"humidity\":54,\"dew_point\":273.15,\"clouds\":0,\"wind_speed\":2.24,\"wind_deg\":315,\"wind_gust\":2.68,\"weather\":[{\"id\":800,\"main\":\"Clear\",\"description\":\"clear sky\",\"icon\":\"01n\"}]}]}'\n",
    "\n",
    "After extracting these values, we create a dataframe, containing, longitude, latitude, dt object AND temp, feels_like, pressure, humidity, dew_point, clouds, wind_speed, wind_deg, wind_gust.\n"
   ]
  },
  {
   "cell_type": "code",
   "execution_count": 11,
   "metadata": {},
   "outputs": [],
   "source": [
    "def scrape_weather_data(resultant):\n",
    "    # Base API URL and API Key\n",
    "    api_base = \"https://api.openweathermap.org/data/3.0/onecall/timemachine\"\n",
    "    api_key = \"c4f120b33c59fae75c8b731da1756e0e\"\n",
    "    \n",
    "    # List to hold the results\n",
    "    weather_data = []\n",
    "    \n",
    "    # Iterate over the DataFrame rows\n",
    "    for _, row in resultant.iterrows():\n",
    "        lat = row['Latitude']\n",
    "        lon = row['Longitude']\n",
    "        dt = row['datetime_unix']\n",
    "        \n",
    "        # Construct the API URL\n",
    "        api_url = f\"{api_base}?lat={lat}&lon={lon}&dt={dt}&appid={api_key}\"\n",
    "        \n",
    "        try:\n",
    "            # Make the API call\n",
    "            response = requests.get(api_url)\n",
    "            response.raise_for_status()  # Raise an error for bad responses\n",
    "            \n",
    "            # Parse the JSON response\n",
    "            data = response.json()\n",
    "            weather = data['data'][0]  # Access the first element in the \"data\" list\n",
    "            \n",
    "            # Extract required fields\n",
    "            extracted = {\n",
    "                \"Latitude\": lat,\n",
    "                \"Longitude\": lon,\n",
    "                \"datetime_unix\": dt,\n",
    "                \"temp\": weather.get(\"temp\"),\n",
    "                \"feels_like\": weather.get(\"feels_like\"),\n",
    "                \"pressure\": weather.get(\"pressure\"),\n",
    "                \"humidity\": weather.get(\"humidity\"),\n",
    "                \"dew_point\": weather.get(\"dew_point\"),\n",
    "                \"clouds\": weather.get(\"clouds\"),\n",
    "                \"wind_speed\": weather.get(\"wind_speed\"),\n",
    "                \"wind_deg\": weather.get(\"wind_deg\"),\n",
    "                \"wind_gust\": weather.get(\"wind_gust\")\n",
    "            }\n",
    "            \n",
    "            # Append the extracted data\n",
    "            weather_data.append(extracted)\n",
    "        \n",
    "        except Exception as e:\n",
    "            print(f\"Error processing row {row.name}: {e}\")\n",
    "    \n",
    "    # Create a DataFrame from the collected data\n",
    "    weather_df = pd.DataFrame(weather_data)\n",
    "    return weather_df"
   ]
  },
  {
   "cell_type": "markdown",
   "metadata": {},
   "source": [
    "Further cleanining the dataset, preparing it for the process_and_save_batches function, the function errors the moment it encounters an input value that is unconventional and wouldn't result in the weather dataframe that we want. As a result, with the interest of perserving as much information as much, we modified each cell, that was putting of the data procurement process."
   ]
  },
  {
   "cell_type": "code",
   "execution_count": 12,
   "metadata": {},
   "outputs": [],
   "source": [
    "resultant.loc[4983, 'Longitude'] = '-117.12045'"
   ]
  },
  {
   "cell_type": "markdown",
   "metadata": {},
   "source": [
    "Getting the function to extract data for each of the 5200 rows took too long, we broke up the procurement into 600 batches and downloaded them one at a time, then we proceeded to concatenate the batches together, resulting in the weather dataset. "
   ]
  },
  {
   "cell_type": "code",
   "execution_count": 13,
   "metadata": {},
   "outputs": [],
   "source": [
    "def process_and_save_batches(container, scrape_weather_data, start_index=4694, batch_size=500, start_batch_number=10):\n",
    "    \"\"\"\n",
    "    Process and save DataFrame in batches.\n",
    "\n",
    "    Parameters:\n",
    "        container (pd.DataFrame): The input DataFrame to process.\n",
    "        scrape_weather_data (function): Function to apply to each batch of data.\n",
    "        start_index (int): The starting index for batching. Default is 4694.\n",
    "        batch_size (int): The size of each batch. Default is 500.\n",
    "        start_batch_number (int): The starting file number for naming output files. Default is 10.\n",
    "    \"\"\"\n",
    "    batch_number = start_batch_number  # Initialize batch number\n",
    "\n",
    "    for i in range(start_index, len(container), batch_size):\n",
    "        # Get the current batch\n",
    "        batch = container.iloc[i:i + batch_size]\n",
    "        \n",
    "        # Apply the function to the batch\n",
    "        processed_batch = scrape_weather_data(batch)\n",
    "        \n",
    "        # Save the processed batch to a CSV file\n",
    "        file_name = f\"df_{batch_number}.csv\"\n",
    "        processed_batch.to_csv(file_name, index=False)\n",
    "        print(f'Done processing batch {batch_number}')\n",
    "        \n",
    "        # Increment the batch number\n",
    "        batch_number += 1"
   ]
  },
  {
   "cell_type": "code",
   "execution_count": 14,
   "metadata": {},
   "outputs": [
    {
     "data": {
      "text/html": [
       "<div>\n",
       "<style scoped>\n",
       "    .dataframe tbody tr th:only-of-type {\n",
       "        vertical-align: middle;\n",
       "    }\n",
       "\n",
       "    .dataframe tbody tr th {\n",
       "        vertical-align: top;\n",
       "    }\n",
       "\n",
       "    .dataframe thead th {\n",
       "        text-align: right;\n",
       "    }\n",
       "</style>\n",
       "<table border=\"1\" class=\"dataframe\">\n",
       "  <thead>\n",
       "    <tr style=\"text-align: right;\">\n",
       "      <th></th>\n",
       "      <th>Latitude</th>\n",
       "      <th>Longitude</th>\n",
       "      <th>datetime_unix</th>\n",
       "      <th>temp</th>\n",
       "      <th>feels_like</th>\n",
       "      <th>pressure</th>\n",
       "      <th>humidity</th>\n",
       "      <th>dew_point</th>\n",
       "      <th>clouds</th>\n",
       "      <th>wind_speed</th>\n",
       "      <th>wind_deg</th>\n",
       "      <th>wind_gust</th>\n",
       "    </tr>\n",
       "  </thead>\n",
       "  <tbody>\n",
       "    <tr>\n",
       "      <th>0</th>\n",
       "      <td>33.903630</td>\n",
       "      <td>-118.038698</td>\n",
       "      <td>1401386400</td>\n",
       "      <td>296.22</td>\n",
       "      <td>296.10</td>\n",
       "      <td>1012</td>\n",
       "      <td>58</td>\n",
       "      <td>287.52</td>\n",
       "      <td>0</td>\n",
       "      <td>3.10</td>\n",
       "      <td>0</td>\n",
       "      <td>NaN</td>\n",
       "    </tr>\n",
       "    <tr>\n",
       "      <th>1</th>\n",
       "      <td>34.555046</td>\n",
       "      <td>-118.117789</td>\n",
       "      <td>1401960000</td>\n",
       "      <td>291.41</td>\n",
       "      <td>290.21</td>\n",
       "      <td>1010</td>\n",
       "      <td>35</td>\n",
       "      <td>275.71</td>\n",
       "      <td>0</td>\n",
       "      <td>2.66</td>\n",
       "      <td>180</td>\n",
       "      <td>NaN</td>\n",
       "    </tr>\n",
       "    <tr>\n",
       "      <th>2</th>\n",
       "      <td>33.680885</td>\n",
       "      <td>-117.948719</td>\n",
       "      <td>1402250400</td>\n",
       "      <td>295.11</td>\n",
       "      <td>295.14</td>\n",
       "      <td>1010</td>\n",
       "      <td>68</td>\n",
       "      <td>288.94</td>\n",
       "      <td>40</td>\n",
       "      <td>3.60</td>\n",
       "      <td>220</td>\n",
       "      <td>NaN</td>\n",
       "    </tr>\n",
       "    <tr>\n",
       "      <th>3</th>\n",
       "      <td>35.715100</td>\n",
       "      <td>-118.511067</td>\n",
       "      <td>1402664400</td>\n",
       "      <td>286.06</td>\n",
       "      <td>284.66</td>\n",
       "      <td>1013</td>\n",
       "      <td>48</td>\n",
       "      <td>275.32</td>\n",
       "      <td>0</td>\n",
       "      <td>1.18</td>\n",
       "      <td>326</td>\n",
       "      <td>NaN</td>\n",
       "    </tr>\n",
       "    <tr>\n",
       "      <th>4</th>\n",
       "      <td>34.162642</td>\n",
       "      <td>-118.676722</td>\n",
       "      <td>1403103600</td>\n",
       "      <td>288.48</td>\n",
       "      <td>288.11</td>\n",
       "      <td>1013</td>\n",
       "      <td>78</td>\n",
       "      <td>284.67</td>\n",
       "      <td>3</td>\n",
       "      <td>1.28</td>\n",
       "      <td>118</td>\n",
       "      <td>NaN</td>\n",
       "    </tr>\n",
       "  </tbody>\n",
       "</table>\n",
       "</div>"
      ],
      "text/plain": [
       "    Latitude   Longitude  datetime_unix    temp  feels_like  pressure  \\\n",
       "0  33.903630 -118.038698     1401386400  296.22      296.10      1012   \n",
       "1  34.555046 -118.117789     1401960000  291.41      290.21      1010   \n",
       "2  33.680885 -117.948719     1402250400  295.11      295.14      1010   \n",
       "3  35.715100 -118.511067     1402664400  286.06      284.66      1013   \n",
       "4  34.162642 -118.676722     1403103600  288.48      288.11      1013   \n",
       "\n",
       "   humidity  dew_point  clouds  wind_speed  wind_deg  wind_gust  \n",
       "0        58     287.52       0        3.10         0        NaN  \n",
       "1        35     275.71       0        2.66       180        NaN  \n",
       "2        68     288.94      40        3.60       220        NaN  \n",
       "3        48     275.32       0        1.18       326        NaN  \n",
       "4        78     284.67       3        1.28       118        NaN  "
      ]
     },
     "execution_count": 14,
     "metadata": {},
     "output_type": "execute_result"
    }
   ],
   "source": [
    "file_numbers = [1, 2, 2.5, 3, 4, 5, 6, 7, 8, 9, 10]\n",
    "file_names = [f'df_{num}.csv' for num in file_numbers]\n",
    "\n",
    "# Read and concatenate all CSV files\n",
    "weather = pd.concat([pd.read_csv(file) for file in file_names])\n",
    "\n",
    "weather.drop(columns=['Unnamed: 0'], inplace=True)\n",
    "weather.head()"
   ]
  },
  {
   "cell_type": "markdown",
   "metadata": {},
   "source": [
    "We converted the columns into the same column type for the merging."
   ]
  },
  {
   "cell_type": "code",
   "execution_count": 15,
   "metadata": {},
   "outputs": [],
   "source": [
    "weather['datetime_unix'] = weather['datetime_unix'].astype('object')\n",
    "resultant['datetime_unix'] = resultant['datetime_unix'].astype('object')"
   ]
  },
  {
   "cell_type": "code",
   "execution_count": 16,
   "metadata": {},
   "outputs": [
    {
     "name": "stdout",
     "output_type": "stream",
     "text": [
      "<class 'pandas.core.frame.DataFrame'>\n",
      "RangeIndex: 5267 entries, 0 to 5266\n",
      "Data columns (total 26 columns):\n",
      " #   Column                            Non-Null Count  Dtype         \n",
      "---  ------                            --------------  -----         \n",
      " 0   Utility Name                      5267 non-null   object        \n",
      " 1   Fire Start Date                   5267 non-null   object        \n",
      " 2   Fire Start Time                   5267 non-null   object        \n",
      " 3   Latitude_x                        5267 non-null   object        \n",
      " 4   Longitude_x                       5267 non-null   object        \n",
      " 5   Material at Origin                5267 non-null   object        \n",
      " 6   Land Use at Origin                5267 non-null   object        \n",
      " 7   Size                              5267 non-null   object        \n",
      " 8   Facility Identification           5267 non-null   object        \n",
      " 9   Voltage\n",
      "(Volts)                   5267 non-null   object        \n",
      " 10  Equipment Involved With Ignition  5267 non-null   object        \n",
      " 11  Type                              5267 non-null   object        \n",
      " 12  Was There an Outage               5267 non-null   object        \n",
      " 13  datetime                          5267 non-null   datetime64[ns]\n",
      " 14  datetime_unix                     5267 non-null   object        \n",
      " 15  Latitude_y                        5267 non-null   float64       \n",
      " 16  Longitude_y                       5267 non-null   float64       \n",
      " 17  temp                              5267 non-null   float64       \n",
      " 18  feels_like                        5267 non-null   float64       \n",
      " 19  pressure                          5267 non-null   int64         \n",
      " 20  humidity                          5267 non-null   int64         \n",
      " 21  dew_point                         5267 non-null   float64       \n",
      " 22  clouds                            5267 non-null   int64         \n",
      " 23  wind_speed                        5267 non-null   float64       \n",
      " 24  wind_deg                          5267 non-null   int64         \n",
      " 25  wind_gust                         764 non-null    float64       \n",
      "dtypes: datetime64[ns](1), float64(7), int64(4), object(14)\n",
      "memory usage: 1.0+ MB\n"
     ]
    }
   ],
   "source": [
    "df = pd.merge(resultant, weather, on=['datetime_unix'], how = 'inner')\n",
    "df.info()"
   ]
  },
  {
   "cell_type": "markdown",
   "metadata": {},
   "source": [
    "## Data Summary and Exploratory Data Analysis (10 points)\n",
    "\n",
    "As communicated to GSI Dawson, due to having to work on different laptops, our EDA plots and analysis work is placed within the **Forecasting and Prediction Modeling** section. Thank you for understanding."
   ]
  },
  {
   "cell_type": "markdown",
   "metadata": {},
   "source": [
    "## Forecasting and Prediction Modeling (25 points)\n",
    "\n",
    "## 1. Power Outage Prediction Models"
   ]
  },
  {
   "cell_type": "code",
   "execution_count": 17,
   "metadata": {},
   "outputs": [
    {
     "data": {
      "text/plain": [
       "Index(['Utility Name', 'Fire Start Date', 'Fire Start Time', 'Latitude_x',\n",
       "       'Longitude_x', 'Material at Origin', 'Land Use at Origin', 'Size',\n",
       "       'Facility Identification', 'Voltage\\n(Volts)',\n",
       "       'Equipment Involved With Ignition', 'Type', 'Was There an Outage',\n",
       "       'datetime', 'datetime_unix', 'Latitude_y', 'Longitude_y', 'temp',\n",
       "       'feels_like', 'pressure', 'humidity', 'dew_point', 'clouds',\n",
       "       'wind_speed', 'wind_deg', 'wind_gust'],\n",
       "      dtype='object')"
      ]
     },
     "execution_count": 17,
     "metadata": {},
     "output_type": "execute_result"
    }
   ],
   "source": [
    "df.columns"
   ]
  },
  {
   "cell_type": "markdown",
   "metadata": {},
   "source": [
    "Converting the dataframe, df into a matrix of numbers, called variable X. To do that we drop columns that do not serve us with the prediction problem of attempting to predict whether an outage occured or not.\n",
    "\n",
    "Created a variable target, which holds the observed y observations for each row within the dataset."
   ]
  },
  {
   "cell_type": "code",
   "execution_count": 18,
   "metadata": {},
   "outputs": [],
   "source": [
    "df.drop(columns=['Utility Name', 'Fire Start Date', 'Fire Start Time', 'Facility Identification'], inplace=True)\n",
    "target = df['Was There an Outage']"
   ]
  },
  {
   "cell_type": "markdown",
   "metadata": {},
   "source": [
    "### Feature Engineering and Preparing Model for Fitting"
   ]
  },
  {
   "cell_type": "code",
   "execution_count": 19,
   "metadata": {},
   "outputs": [],
   "source": [
    "def one_hot_encode_columns(df, columns):\n",
    "    \"\"\"\n",
    "    Performing sequential one-hot encoding on specified columns of a DataFrame.\n",
    "    \n",
    "    Parameters:\n",
    "        df (pd.DataFrame): The input DataFrame.\n",
    "        columns (list): List of column names to one-hot encode in order.\n",
    "    \n",
    "    Returns:\n",
    "        pd.DataFrame: The resulting DataFrame after applying one-hot encoding.\n",
    "    \"\"\"\n",
    "    for column in columns:\n",
    "        df = pd.get_dummies(df, columns=[column], prefix=column, drop_first=False)\n",
    "    return df\n",
    "\n",
    "# Function to normalize and categorize voltages\n",
    "def categorize_voltage(voltage_series):\n",
    "    def clean_and_convert(value):\n",
    "        # Remove unwanted characters and convert to numerical value\n",
    "        value = str(value).lower().replace(\",\", \"\").replace(\"kv\", \"000\").replace(\"v\", \"\")\n",
    "        value = value.split(\"–\")[0].strip()  # Handle ranges like \"0 – 750\"\n",
    "        try:\n",
    "            return float(value)\n",
    "        except ValueError:\n",
    "            return None\n",
    "\n",
    "    def categorize(value):\n",
    "        if value is None:\n",
    "            return \"Unknown\"\n",
    "        elif value <= 1000:\n",
    "            return \"Low Voltage (0–1kV)\"\n",
    "        elif 1000 < value <= 15000:\n",
    "            return \"Medium Voltage (1–15kV)\"\n",
    "        elif 15000 < value <= 100000:\n",
    "            return \"High Voltage (15–100kV)\"\n",
    "        elif 100000 < value <= 500000:\n",
    "            return \"Extra High Voltage (100–500kV)\"\n",
    "        else:\n",
    "            return \"Ultra High Voltage (>500kV)\"\n",
    "\n",
    "    # Cleaning and converting the voltages\n",
    "    cleaned_values = voltage_series.apply(clean_and_convert)\n",
    "\n",
    "    # Categorize based on ranges\n",
    "    categories = cleaned_values.apply(categorize)\n",
    "    return categories\n",
    "\n",
    "df['Voltage'] = categorize_voltage(df['Voltage\\n(Volts)'])"
   ]
  },
  {
   "cell_type": "code",
   "execution_count": 20,
   "metadata": {},
   "outputs": [],
   "source": [
    "def one_hot_encode(df, column):\n",
    "    \"\"\"\n",
    "    Perform one-hot encoding on a categorical column in a pandas DataFrame.\n",
    "\n",
    "    Parameters:\n",
    "    df (pd.DataFrame): The DataFrame containing the categorical column.\n",
    "    column (str): The name of the column to one-hot encode.\n",
    "\n",
    "    Returns:\n",
    "    pd.DataFrame: The original DataFrame with one-hot encoded columns added and the original column dropped.\n",
    "    \"\"\"\n",
    "    # Check if the column exists in the DataFrame\n",
    "    if column not in df.columns:\n",
    "        raise ValueError(f\"Column '{column}' does not exist in the DataFrame.\")\n",
    "    \n",
    "    # Perform one-hot encoding and ensure output is integers\n",
    "    one_hot = pd.get_dummies(df[column], prefix=column).astype(int)\n",
    "    \n",
    "    # Drop the original column and concatenate the one-hot encoded columns\n",
    "    df = df.drop(column, axis=1)\n",
    "    df = pd.concat([df, one_hot], axis=1)\n",
    "    \n",
    "    return df\n",
    "\n",
    "def one_hot_encode_columns(df, columns):\n",
    "    \"\"\"\n",
    "    Perform sequential one-hot encoding on specified columns of a DataFrame.\n",
    "    \n",
    "    Parameters:\n",
    "        df (pd.DataFrame): The input DataFrame.\n",
    "        columns (list): List of column names to one-hot encode in order.\n",
    "    \n",
    "    Returns:\n",
    "        pd.DataFrame: The resulting DataFrame after applying one-hot encoding.\n",
    "    \"\"\"\n",
    "    for column in columns:\n",
    "        df = pd.get_dummies(df, columns=[column], prefix=column, drop_first=False)\n",
    "    return df\n",
    "\n",
    "# Function to normalize and categorize voltages\n",
    "def categorize_voltage(voltage_series):\n",
    "    def clean_and_convert(value):\n",
    "        # Remove unwanted characters and convert to numerical value\n",
    "        value = str(value).lower().replace(\",\", \"\").replace(\"kv\", \"000\").replace(\"v\", \"\")\n",
    "        value = value.split(\"–\")[0].strip()  # Handle ranges like \"0 – 750\"\n",
    "        try:\n",
    "            return float(value)\n",
    "        except ValueError:\n",
    "            return None\n",
    "\n",
    "    def categorize(value):\n",
    "        if value is None:\n",
    "            return \"Unknown\"\n",
    "        elif value <= 1000:\n",
    "            return \"Low Voltage (0–1kV)\"\n",
    "        elif 1000 < value <= 15000:\n",
    "            return \"Medium Voltage (1–15kV)\"\n",
    "        elif 15000 < value <= 100000:\n",
    "            return \"High Voltage (15–100kV)\"\n",
    "        elif 100000 < value <= 500000:\n",
    "            return \"Extra High Voltage (100–500kV)\"\n",
    "        else:\n",
    "            return \"Ultra High Voltage (>500kV)\"\n",
    "\n",
    "    # Clean and convert the voltages\n",
    "    cleaned_values = voltage_series.apply(clean_and_convert)\n",
    "\n",
    "    # Categorize based on ranges\n",
    "    categories = cleaned_values.apply(categorize)\n",
    "    return categories\n",
    "\n",
    "df['Voltage'] = categorize_voltage(df['Voltage\\n(Volts)'])"
   ]
  },
  {
   "cell_type": "code",
   "execution_count": 21,
   "metadata": {},
   "outputs": [
    {
     "data": {
      "text/plain": [
       "4503"
      ]
     },
     "execution_count": 21,
     "metadata": {},
     "output_type": "execute_result"
    }
   ],
   "source": [
    "sum(df['wind_gust'].isna())"
   ]
  },
  {
   "cell_type": "markdown",
   "metadata": {},
   "source": [
    "Further cleaning on the dataframe in order to convert it into a matrix of numbers, called variable X. To do that we drop columns that do not serve us with the prediction problem of attempting to predict whether an outage occured or not.\n",
    "\n",
    "We drop 'wind_gust' as 85% of the observations are null, we can't really make use of that variable to make good predictions."
   ]
  },
  {
   "cell_type": "code",
   "execution_count": 22,
   "metadata": {},
   "outputs": [
    {
     "data": {
      "text/plain": [
       "Index(['Latitude_x', 'Longitude_x', 'Material at Origin', 'Land Use at Origin',\n",
       "       'Size', 'Voltage\\n(Volts)', 'Equipment Involved With Ignition', 'Type',\n",
       "       'Was There an Outage', 'datetime', 'datetime_unix', 'Latitude_y',\n",
       "       'Longitude_y', 'temp', 'feels_like', 'pressure', 'humidity',\n",
       "       'dew_point', 'clouds', 'wind_speed', 'wind_deg', 'wind_gust',\n",
       "       'Voltage'],\n",
       "      dtype='object')"
      ]
     },
     "execution_count": 22,
     "metadata": {},
     "output_type": "execute_result"
    }
   ],
   "source": [
    "df.columns"
   ]
  },
  {
   "cell_type": "code",
   "execution_count": 23,
   "metadata": {},
   "outputs": [],
   "source": [
    "dating = df['datetime'] # dating is for our visualiztions\n",
    "df.drop(columns=['Voltage\\n(Volts)', 'datetime', 'datetime_unix', 'Was There an Outage', 'wind_gust', \n",
    "                'Latitude_x', 'Latitude_y', 'Longitude_x', 'Longitude_y'], inplace=True)"
   ]
  },
  {
   "cell_type": "markdown",
   "metadata": {},
   "source": [
    "Feature Engineering relevant categorical columns. In order to convert the columns into a numerical format, in order to be able to fit the model. In order to perform y = f(X), f takes in only numerical values, we are attempting to get it in that form."
   ]
  },
  {
   "cell_type": "code",
   "execution_count": 24,
   "metadata": {},
   "outputs": [],
   "source": [
    "columns_to_encode = [\n",
    "    'Land Use at Origin',\n",
    "    'Voltage',\n",
    "    'Material at Origin',\n",
    "    'Equipment Involved With Ignition',\n",
    "    'Type'\n",
    "]\n",
    "\n",
    "# Apply the function\n",
    "resultant_ohe = one_hot_encode_columns(df, columns_to_encode)"
   ]
  },
  {
   "cell_type": "markdown",
   "metadata": {},
   "source": [
    "Feature Engineering Fire Size. The reason for this is because the 'Size' column contained values that feel into inconsistent categories, for example we had 3 categories for the same category, namely: 'Less Than .25 Acres', '< 0.25 Acres', and '<0.25'. Thus we had to do feature engineering to create 5 distinct categories that hosted different sizes of land. This has helped us in order to create X."
   ]
  },
  {
   "cell_type": "code",
   "execution_count": 25,
   "metadata": {},
   "outputs": [],
   "source": [
    "def linear_meters_to_acres(meters):\n",
    "    square_meters = meters * 1  # Linear meters times width (1 meter)\n",
    "    return square_meters * 0.000247105  # Conversion factor from square meters to acres\n",
    "\n",
    "def classify_acre_size(acres):\n",
    "    if acres < 1:\n",
    "        return '0-0.99 Acres'\n",
    "    elif 1 <= acres < 10:\n",
    "        return '1-9.99 Acres'\n",
    "    elif 10 <= acres < 100:\n",
    "        return '10-99.9 Acres'\n",
    "    elif 100 <= acres < 1000:\n",
    "        return '100-999.9 Acres'\n",
    "    else:\n",
    "        return '1000-5000 Acres and more'\n",
    "\n",
    "size_mapping = {\n",
    "    # Area ranges\n",
    "    'Less Than .25 Acres': '0-0.99 Acres',\n",
    "    '< 0.25 Acres': '0-0.99 Acres',\n",
    "    '<0.25': '0-0.99 Acres',\n",
    "    '.26 - 9.99 Acres': '1-9.99 Acres',\n",
    "    '0.26-9.99': '1-9.99 Acres',\n",
    "    '0.26-9.99 Acres': '1-9.99 Acres',\n",
    "    '10 - 99 Acres': '10-99.9 Acres',\n",
    "    '10-99': '10-99.9 Acres',\n",
    "    '10-99 Acres': '10-99.9 Acres',\n",
    "    '100 - 299 Acres': '100-999.9 Acres',\n",
    "    '300 - 999 Acres': '100-999.9 Acres',\n",
    "    '1000 - 4999 Acres': '1000-5000 Acres and more',\n",
    "    'Greater than 5000 Acres': '1000-5000 Acres and more',\n",
    "    '> 5000 Acres': '1000-5000 Acres and more',\n",
    "    '100+ Acres': '100-999.9 Acres',\n",
    "    '100 + Acres': '100-999.9 Acres',\n",
    "\n",
    "    # Structure-related\n",
    "    'Structure Only': '0-0.99 Acres',\n",
    "    'Structure Only ': '0-0.99 Acres',\n",
    "    'Structure-only': '0-0.99 Acres',\n",
    "\n",
    "    # Small Linear Travel (convert linear meters to acres)\n",
    "    'Less than three (3) meters of linear travel': classify_acre_size(linear_meters_to_acres(3)),\n",
    "    '< 3 meters ': classify_acre_size(linear_meters_to_acres(3)),\n",
    "    '< 3 meters': classify_acre_size(linear_meters_to_acres(3)),\n",
    "    '< 3 Meters': classify_acre_size(linear_meters_to_acres(3)),\n",
    "    '<3 meters of linear travel': classify_acre_size(linear_meters_to_acres(3)),\n",
    "    'Less than three(3) meters of linear travel': classify_acre_size(linear_meters_to_acres(3)),\n",
    "    'Less than three {3} meters of linear travel': classify_acre_size(linear_meters_to_acres(3)),\n",
    "    '< 1 meter': classify_acre_size(linear_meters_to_acres(1)),\n",
    "    '1 meter - < 3 meters': classify_acre_size(linear_meters_to_acres(3)),\n",
    "    '3 meters - 0.25 Acres': '0-0.99 Acres',\n",
    "\n",
    "    # Miscellaneous\n",
    "    'Other': 'Unknown',\n",
    "    'Unknown': 'Unknown',\n",
    "    '0.25 - 10 Acres': '1-9.99 Acres',\n",
    "    '10 - 100 Acres': '10-99.9 Acres'\n",
    "}\n",
    "\n",
    "resultant_ohe['Size'] = resultant_ohe['Size'].replace(size_mapping)\n",
    "res = one_hot_encode(resultant_ohe, 'Size')"
   ]
  },
  {
   "cell_type": "markdown",
   "metadata": {},
   "source": [
    "We standardize the dataframe to a 0–1 range to ensure that features are on a comparable scale, improve model performance and to achieve convergence when when performing prediction."
   ]
  },
  {
   "cell_type": "code",
   "execution_count": 26,
   "metadata": {},
   "outputs": [
    {
     "data": {
      "text/plain": [
       "(5267, 109)"
      ]
     },
     "execution_count": 26,
     "metadata": {},
     "output_type": "execute_result"
    }
   ],
   "source": [
    "scaler = MinMaxScaler()\n",
    "columns_to_scale = ['temp', 'feels_like', 'pressure', 'humidity', 'dew_point', 'clouds', 'wind_speed', 'wind_deg']\n",
    "res[columns_to_scale] = scaler.fit_transform(res[columns_to_scale])\n",
    "res.shape"
   ]
  },
  {
   "cell_type": "markdown",
   "metadata": {},
   "source": [
    "At this point we have X (each column is a relevant numerical column) and y (our target variable), we can begin modeling. We begin with a Logistic Regression model."
   ]
  },
  {
   "cell_type": "markdown",
   "metadata": {},
   "source": [
    "### Logistic Regression Model"
   ]
  },
  {
   "cell_type": "code",
   "execution_count": 27,
   "metadata": {},
   "outputs": [],
   "source": [
    "from sklearn.linear_model import LogisticRegression as LR\n",
    "from sklearn.model_selection import train_test_split\n",
    "from sklearn.model_selection import train_test_split\n",
    "from sklearn.tree import DecisionTreeClassifier\n",
    "from sklearn.model_selection import cross_val_score\n",
    "from sklearn import tree"
   ]
  },
  {
   "cell_type": "code",
   "execution_count": 28,
   "metadata": {},
   "outputs": [],
   "source": [
    "# converting the target variable from boolean values into numerical 1 and 0 values.\n",
    "y_mapped = target.replace({'Y': 'Yes', 'yes': 'Yes', 'no': 'No', 'N': 'No'})\n",
    "y = y_mapped.map({'Yes': 1, 'No': 0})\n",
    "\n",
    "# converting dataframe into a matrix X\n",
    "X = res[list(res.columns)]\n",
    "\n",
    "# splitting X and y into X_train, X_test, Y_train, Y_test\n",
    "X_train, X_test, Y_train, Y_test = train_test_split(X,y, test_size=0.25, random_state=42)\n",
    "def add_bias_column(X):\n",
    "    return np.hstack([np.ones((len(X), 1)), X])\n",
    "\n",
    "X_intercept_train = add_bias_column(X_train)\n",
    "\n",
    "#saving these variables for modeling\n",
    "grindx = X_train\n",
    "grindy = Y_train"
   ]
  },
  {
   "cell_type": "code",
   "execution_count": 29,
   "metadata": {},
   "outputs": [],
   "source": [
    "my_model = LR(fit_intercept = True, penalty ='l1', solver = \"liblinear\")\n",
    "my_model.fit(X_train, Y_train)\n",
    "\n",
    "#saving for modeling/visualization\n",
    "y_hat_train = my_model.predict(X_train)"
   ]
  },
  {
   "cell_type": "code",
   "execution_count": 30,
   "metadata": {},
   "outputs": [
    {
     "data": {
      "text/plain": [
       "0.8632911392405064"
      ]
     },
     "execution_count": 30,
     "metadata": {},
     "output_type": "execute_result"
    }
   ],
   "source": [
    "# Based on the model we have created, we attempt to predict X_train, then we see how accurate it is compared to Y_Train\n",
    "train_predictions = my_model.predict(X_train)\n",
    "training_accuracy = np.mean(train_predictions == Y_train)\n",
    "training_accuracy"
   ]
  },
  {
   "cell_type": "markdown",
   "metadata": {},
   "source": [
    "This logistic regression model con train the model succesfully 86.3% of the time."
   ]
  },
  {
   "cell_type": "markdown",
   "metadata": {},
   "source": [
    "We attempt to optimize for 2 hyperparameters using sci-kit learns GridSearchCV.\n",
    "\n",
    "C: Inverse of regularization strength; must be a positive float. Like in support vector machines, smaller values specify stronger regularization.\n",
    "\n",
    "max_iter: Maximum number of iterations taken for the solvers to converge.\n",
    "\n",
    "I decide to go with cv = 7 because that number of folds increases has the highest testing accuracy. \n",
    "\n",
    "I used a logistic regression model to predict power outages because it is efficient for binary classification problems, with a probabilistic threshold of 0.5 to determine class membership. A 7-fold cross-validation process was applied to evaluate model performance, where the data is split into 7 subsets, and the model is trained and validated iteratively to ensure generalizability and reduce overfitting."
   ]
  },
  {
   "cell_type": "code",
   "execution_count": 31,
   "metadata": {},
   "outputs": [
    {
     "name": "stdout",
     "output_type": "stream",
     "text": [
      "[0.85772386 0.85747057 0.856205   0.85671069 0.85645785 0.85645785\n",
      " 0.85645829 0.85645829 0.85645829 0.85645829 0.85595171 0.85595171\n",
      " 0.85645785 0.856205   0.85671114 0.85671114 0.85721728 0.85721728]\n"
     ]
    },
    {
     "data": {
      "text/plain": [
       "0.85041761579347"
      ]
     },
     "execution_count": 31,
     "metadata": {},
     "output_type": "execute_result"
    }
   ],
   "source": [
    "# Defining the parameters to test in the grid search\n",
    "parameters = {\n",
    "    'C': [2, 3, 4, 6, 5, 7, 8, 9, 19],  # List of values for the hyperparameter 'C' (regularization strength)\n",
    "    'max_iter': [1000, 100000]     # Number of iterations to allow for the solver to converge\n",
    "}\n",
    "\n",
    "# Performing Grid Search with Cross-Validation\n",
    "grid = GridSearchCV(  \n",
    "    estimator=my_model,       # The model to tune (e.g., logistic regression, SVM, etc.)\n",
    "    param_grid=parameters,    # The dictionary of hyperparameters to test\n",
    "    cv=7                      # Use 7-fold cross-validation for validation\n",
    ")\n",
    "\n",
    "# Fitting the grid search model to the training data\n",
    "grid_result = grid.fit(X_train, Y_train)\n",
    "\n",
    "# Printing the mean test scores for each parameter combination\n",
    "print(grid_result.cv_results_['mean_test_score'])\n",
    "\n",
    "# Retrieving the best model (the one with the best cross-validation performance)\n",
    "best_model = grid_result.best_estimator_\n",
    "\n",
    "# Using the best model to make predictions on the test set\n",
    "predictions = best_model.predict(X_test)\n",
    "\n",
    "# Calculating the accuracy on the test set\n",
    "testing_accuracy = np.mean(predictions == Y_test)\n",
    "\n",
    "# Printing the final test set accuracy\n",
    "testing_accuracy"
   ]
  },
  {
   "cell_type": "markdown",
   "metadata": {},
   "source": [
    "The logistic regression model can accurately predict a power outage even 85.0% of the time."
   ]
  },
  {
   "cell_type": "markdown",
   "metadata": {},
   "source": [
    "## Back to Data Summary and Exploratory Data Analysis (10 points) \n",
    "Now we can finally plot our polished dataset and observe features possible correlations"
   ]
  },
  {
   "cell_type": "markdown",
   "metadata": {},
   "source": [
    "### Logistic Regression Training Data versus Prediction plot"
   ]
  },
  {
   "cell_type": "code",
   "execution_count": 32,
   "metadata": {},
   "outputs": [
    {
     "data": {
      "image/png": "[encoded data removed]",
      "text/plain": [
       "<Figure size 640x480 with 1 Axes>"
      ]
     },
     "metadata": {},
     "output_type": "display_data"
    }
   ],
   "source": [
    "plt.scatter(grindx['wind_speed'], grindy, color='black', label = 'Training Data', linewidth=0.0001) # plot the observations as a scatter plot\n",
    "plt.scatter(grindx['wind_speed'], y_hat_train, color='red', linewidth=0.0001, label = 'Prediction Data', marker = 's') # plot the predictions as a regression line\n",
    "\n",
    "plt.title('Blackout Probability vs. Wind Speed')\n",
    "plt.xlabel('Wind Speed (0 = min speed, 1 = max speed)')\n",
    "plt.ylabel('Was There a Power Outage?', size = 12)\n",
    "plt.legend()\n",
    "plt.show()"
   ]
  },
  {
   "cell_type": "markdown",
   "metadata": {},
   "source": [
    "This graph shows the relationship between wind speed (normalized between 0 and 1) and power outages (0 for no outage, 1 for outage). Both the training and prediction data are biased towards slower wind speeds. At higher speeds, the model is good at predicting when there is power outages, but bad at predicting when there will not be an outage. The model is quite good at predicting outage or not at lower wind speeds, however."
   ]
  },
  {
   "cell_type": "markdown",
   "metadata": {},
   "source": [
    "### Bar graph showing number of observations (started fires) that caused a power outage versus did not cause an outage."
   ]
  },
  {
   "cell_type": "code",
   "execution_count": 33,
   "metadata": {},
   "outputs": [
    {
     "data": {
      "image/png": "[encoded data removed]",
      "text/plain": [
       "<Figure size 640x480 with 1 Axes>"
      ]
     },
     "metadata": {},
     "output_type": "display_data"
    }
   ],
   "source": [
    "#Group the similar responses together\n",
    "outage_nos = target.value_counts()['No'] + target.value_counts()['N'] + target.value_counts()['no']\n",
    "outage_yes = target.value_counts()['Yes'] + target.value_counts()['Y'] + target.value_counts()['yes']\n",
    "\n",
    "#Data\n",
    "\n",
    "categories = ['Outage', 'No Outage']\n",
    "values = [outage_yes, outage_nos]\n",
    "\n",
    "# Create Bar Graph\n",
    "plt.bar(categories, values, color='skyblue')\n",
    "plt.title('Number of Outage Observations versus Not')\n",
    "plt.xlabel('Categories')\n",
    "plt.ylabel('Values')\n",
    "plt.show()"
   ]
  },
  {
   "cell_type": "markdown",
   "metadata": {},
   "source": [
    "This bar graph shows the ratio of observations, or fires, that ended up causing a power outage versus not. As shown in the chart, the vast majority of cases resulted in an outage."
   ]
  },
  {
   "cell_type": "markdown",
   "metadata": {},
   "source": [
    "### Bar graph to show the distribution of fire sizes throughout our data set"
   ]
  },
  {
   "cell_type": "code",
   "execution_count": 34,
   "metadata": {},
   "outputs": [],
   "source": [
    "fire_count_1 = res['Size_0-0.99 Acres'].sum()\n",
    "fire_count_2 = res['Size_1-9.99 Acres'].sum()\n",
    "fire_count_3 = res['Size_10-99.9 Acres'].sum()\n",
    "fire_count_4 = res['Size_100-999.9 Acres'].sum()\n",
    "fire_count_5 = res['Size_1000-5000 Acres and more'].sum()\n",
    "fire_count_unk = res['Size_Unknown'].sum()"
   ]
  },
  {
   "cell_type": "code",
   "execution_count": 35,
   "metadata": {},
   "outputs": [
    {
     "data": {
      "image/png": "[encoded data removed]",
      "text/plain": [
       "<Figure size 640x480 with 1 Axes>"
      ]
     },
     "metadata": {},
     "output_type": "display_data"
    }
   ],
   "source": [
    "#Data\n",
    "categories = ['0-0.99', '1-9.99', '10-99.9', '100-999.9', '1000-5000+', 'Unknown Size']\n",
    "values = [fire_count_1, fire_count_2, fire_count_3, fire_count_4, fire_count_5, fire_count_unk]\n",
    "\n",
    "# Create Bar Graph\n",
    "plt.bar(categories, values, color='red')\n",
    "plt.title('Instance Count of Fire Sizes')\n",
    "plt.xlabel('Acreage of Fire')\n",
    "plt.ylabel('# of Occurences')\n",
    "plt.xticks(rotation=45, ha='right')  # Rotate 45 degrees and align right\n",
    "plt.tight_layout()  # Adjust layout to prevent clipping \n",
    "plt.show()"
   ]
  },
  {
   "cell_type": "markdown",
   "metadata": {},
   "source": [
    "This graph shows the number of observations at each fire size bucket. Most of the observations are within the 0-0.99 acre range, meaning most are quite small. There is still a sizeable amount of 1-9.99 acre and 10-99.9 acre fires, but anything past that becomes pretty few and far between. There are a number of fires whose size were not reported."
   ]
  },
  {
   "cell_type": "markdown",
   "metadata": {},
   "source": [
    "### Line Plots to show trends in key features over time"
   ]
  },
  {
   "cell_type": "code",
   "execution_count": 36,
   "metadata": {},
   "outputs": [
    {
     "data": {
      "text/plain": [
       "<function matplotlib.pyplot.show(close=None, block=None)>"
      ]
     },
     "execution_count": 36,
     "metadata": {},
     "output_type": "execute_result"
    },
    {
     "data": {
      "image/png": "[encoded data removed]",
      "text/plain": [
       "<Figure size 640x480 with 1 Axes>"
      ]
     },
     "metadata": {},
     "output_type": "display_data"
    }
   ],
   "source": [
    "X = dating\n",
    "Y1 = df['temp']\n",
    "\n",
    "#Put the values into a dataframe together so that they can be sorted by datetime to ensure chronological order\n",
    "trend_temp = pd.DataFrame({'datetime': dating, 'temp': df['temp']})\n",
    "trend_temp = trend_temp.sort_values(by = 'datetime')\n",
    "plt.plot(trend_temp['datetime'], trend_temp['temp'], label = 'Temperature')\n",
    "plt.xlabel('Time')\n",
    "plt.ylabel('Temperature (K)')\n",
    "plt.title('California Service Territories Temperature Over Time')\n",
    "\n",
    "# Format X-Axis\n",
    "import matplotlib.dates as mdates\n",
    "plt.gca().xaxis.set_major_locator(mdates.AutoDateLocator())  # Auto-spacing\n",
    "plt.xticks(rotation=45)  # Rotate labels for readability\n",
    "plt.tight_layout()\n",
    "\n",
    "plt.show"
   ]
  },
  {
   "cell_type": "markdown",
   "metadata": {},
   "source": [
    "This line graph shows, over the entire time scope of the project (2014-2023), the temperature of each observation. This shows that, overlooking the consistent seasonal changes, the temperature is mostly constant throughout the period -- with perhaps the slightest slope upwards over time. This may contribute to the increase in wildfires in California over the years."
   ]
  },
  {
   "cell_type": "code",
   "execution_count": 37,
   "metadata": {},
   "outputs": [
    {
     "data": {
      "text/plain": [
       "<function matplotlib.pyplot.show(close=None, block=None)>"
      ]
     },
     "execution_count": 37,
     "metadata": {},
     "output_type": "execute_result"
    },
    {
     "data": {
      "image/png": "[encoded data removed]",
      "text/plain": [
       "<Figure size 640x480 with 1 Axes>"
      ]
     },
     "metadata": {},
     "output_type": "display_data"
    }
   ],
   "source": [
    "Y2 = df['wind_speed']\n",
    "{'datetime': dating, 'temp': df['temp']}\n",
    "trend_windspeed = pd.DataFrame({'datetime': dating, 'wind_speed': Y2})\n",
    "trend_windspeed['datetime'] = pd.to_datetime(trend_windspeed['datetime'], errors='coerce')\n",
    "trend_windspeed = trend_windspeed.sort_values(by = 'datetime')\n",
    "trend_windspeed\n",
    "plt.plot(trend_windspeed['datetime'], trend_windspeed['wind_speed'], label = 'Wind Speed')\n",
    "plt.xlabel('Time')\n",
    "plt.ylabel('Wind Speed at Time of Observation (m/s)')\n",
    "plt.title('California Service Territories Wind Speeds Over Time')\n",
    "\n",
    "# Format X-Axis\n",
    "import matplotlib.dates as mdates\n",
    "plt.gca().xaxis.set_major_locator(mdates.AutoDateLocator())  # Auto-spacing\n",
    "plt.xticks(rotation=45)  # Rotate labels for readability\n",
    "plt.tight_layout()\n",
    "\n",
    "plt.show"
   ]
  },
  {
   "cell_type": "markdown",
   "metadata": {},
   "source": [
    "This line graph shows, over the span of the entire data collection period, the wind speeds at each fire start. There is a clear higher density at the lower wind speeds, which may be because these conditions are much more common than high wind speed ones. One can notice that the highest wind speed peaks were seen in the latter half of the decade-long period."
   ]
  },
  {
   "cell_type": "markdown",
   "metadata": {},
   "source": [
    "### Scatter plot showing the wind speeds that caused power outages over 2023"
   ]
  },
  {
   "cell_type": "markdown",
   "metadata": {},
   "source": [
    "Loading in a copy of the original dataframe so that we can easily access the datetime with the associated \"Was There an Outage\" and \"wind_speed\" columns."
   ]
  },
  {
   "cell_type": "code",
   "execution_count": 38,
   "metadata": {},
   "outputs": [],
   "source": [
    "copy = pd.read_csv('rog.csv')"
   ]
  },
  {
   "cell_type": "markdown",
   "metadata": {},
   "source": [
    "*Filtering out any rows that did not have a blackout as part of their fire instance.*"
   ]
  },
  {
   "cell_type": "code",
   "execution_count": 39,
   "metadata": {},
   "outputs": [],
   "source": [
    "copy = copy[['datetime', 'wind_speed', 'Was There an Outage']]\n",
    "copy['Was There an Outage'] = copy['Was There an Outage'].replace('N', 'No')\n",
    "copy['Was There an Outage'] = copy['Was There an Outage'].replace('no', 'No')\n",
    "copy = copy[copy['Was There an Outage'] != 'No']"
   ]
  },
  {
   "cell_type": "markdown",
   "metadata": {},
   "source": [
    "*Sort values in chronological order by datetime and then filter to just the year 2023.*"
   ]
  },
  {
   "cell_type": "code",
   "execution_count": 40,
   "metadata": {},
   "outputs": [
    {
     "data": {
      "text/plain": [
       "<function matplotlib.pyplot.show(close=None, block=None)>"
      ]
     },
     "execution_count": 40,
     "metadata": {},
     "output_type": "execute_result"
    },
    {
     "data": {
      "image/png": "[encoded data removed]",
      "text/plain": [
       "<Figure size 640x480 with 1 Axes>"
      ]
     },
     "metadata": {},
     "output_type": "display_data"
    }
   ],
   "source": [
    "copy['datetime'] = pd.to_datetime(copy['datetime'], errors='coerce')\n",
    "copy = copy.sort_values(by = 'datetime')\n",
    "copy = copy[copy['datetime'].dt.year == 2023]\n",
    "plt.scatter(copy['datetime'], copy['wind_speed'])\n",
    "plt.xlabel('Time')\n",
    "plt.ylabel('Wind Speed at Time of Observation (m/s)')\n",
    "plt.title('California Service Territories Wind Speeds During Blackouts')\n",
    "\n",
    "# Format X-Axis\n",
    "import matplotlib.dates as mdates\n",
    "plt.gca().xaxis.set_major_locator(mdates.AutoDateLocator())  # Auto-spacing\n",
    "plt.xticks(rotation=45)  # Rotate labels for readability\n",
    "plt.tight_layout()\n",
    "\n",
    "plt.show"
   ]
  },
  {
   "cell_type": "markdown",
   "metadata": {},
   "source": [
    "This is a scatterplot showing, in the year 2023, observations where a power blackout occured -- and the wind speeds for each of these instances. It shows that there is a higher density of blackouts in the lower wind speed days than the higher wind speed days, particularly in the latter half of the year. However, this could just be because lower wind speeds are much more common than higher wind speeds on average."
   ]
  },
  {
   "cell_type": "markdown",
   "metadata": {},
   "source": [
    "## Continuing.. Forecasting and Prediction Modeling (25 points)\n",
    "\n",
    "## Power Outage Prediction Models"
   ]
  },
  {
   "cell_type": "markdown",
   "metadata": {},
   "source": [
    "We proceed to 4 others modeling techniques for the power outage model."
   ]
  },
  {
   "cell_type": "code",
   "execution_count": 41,
   "metadata": {},
   "outputs": [],
   "source": [
    "# converting the target variable from boolean values into numerical 1 and 0 values.\n",
    "y_mapped = target.replace({'Y': 'Yes', 'yes': 'Yes', 'no': 'No', 'N': 'No'})\n",
    "y = y_mapped.map({'Yes': 1, 'No': 0})\n",
    "\n",
    "# converting dataframe into a matrix X\n",
    "X = res[list(res.columns)]"
   ]
  },
  {
   "cell_type": "code",
   "execution_count": 42,
   "metadata": {},
   "outputs": [],
   "source": [
    "# test/train split\n",
    "X, X_test, y, y_test = train_test_split(X, y, random_state = 2021, test_size = 0.2)\n",
    "\n",
    "# train/validation split\n",
    "X_train, X_val, y_train, y_val = train_test_split(X, y, random_state = 2021, test_size = 0.25)"
   ]
  },
  {
   "cell_type": "markdown",
   "metadata": {},
   "source": [
    "### Decision Tree Classifier\n",
    "We used the Decision Tree Classifier for its ability to handle non-linear relationships, providing interpretable, rule-based predictions for power outages."
   ]
  },
  {
   "cell_type": "code",
   "execution_count": 43,
   "metadata": {},
   "outputs": [
    {
     "name": "stdout",
     "output_type": "stream",
     "text": [
      "Number of features: 109\n",
      "Number of nodes: 881\n",
      "Train Score: 0.9996834441278886\n",
      "Validation Score: 0.8007590132827325\n"
     ]
    }
   ],
   "source": [
    "# Instantiate and training the Decision Tree Classifier\n",
    "first_tree = DecisionTreeClassifier(random_state=2021)\n",
    "first_tree.fit(X_train, y_train)\n",
    "\n",
    "# Print tree attributes\n",
    "print(\"Number of features:\", first_tree.tree_.n_features)  # Features used by the tree\n",
    "print(\"Number of nodes:\", first_tree.tree_.node_count)     # Total nodes (internal + leaf)\n",
    "\n",
    "# Evaluating model performance\n",
    "train_score = first_tree.score(X_train, y_train)  # Accuracy on training data\n",
    "val_score = first_tree.score(X_val, y_val)        # Accuracy on validation data\n",
    "\n",
    "print('Train Score:', train_score)\n",
    "print('Validation Score:', val_score)"
   ]
  },
  {
   "cell_type": "markdown",
   "metadata": {},
   "source": [
    "#### Analysis of Feature Importance"
   ]
  },
  {
   "cell_type": "markdown",
   "metadata": {},
   "source": [
    "We sorted the feature importance and created a function called importance_plot in order to make a visualization in order to see what features were most crucial and valuable in making predictions on whether a prediction occured or not."
   ]
  },
  {
   "cell_type": "code",
   "execution_count": 44,
   "metadata": {},
   "outputs": [
    {
     "data": {
      "text/html": [
       "<div>\n",
       "<style scoped>\n",
       "    .dataframe tbody tr th:only-of-type {\n",
       "        vertical-align: middle;\n",
       "    }\n",
       "\n",
       "    .dataframe tbody tr th {\n",
       "        vertical-align: top;\n",
       "    }\n",
       "\n",
       "    .dataframe thead th {\n",
       "        text-align: right;\n",
       "    }\n",
       "</style>\n",
       "<table border=\"1\" class=\"dataframe\">\n",
       "  <thead>\n",
       "    <tr style=\"text-align: right;\">\n",
       "      <th></th>\n",
       "      <th>Feature</th>\n",
       "      <th>Importance</th>\n",
       "    </tr>\n",
       "  </thead>\n",
       "  <tbody>\n",
       "    <tr>\n",
       "      <th>4</th>\n",
       "      <td>dew_point</td>\n",
       "      <td>0.135976</td>\n",
       "    </tr>\n",
       "    <tr>\n",
       "      <th>7</th>\n",
       "      <td>wind_deg</td>\n",
       "      <td>0.120603</td>\n",
       "    </tr>\n",
       "    <tr>\n",
       "      <th>6</th>\n",
       "      <td>wind_speed</td>\n",
       "      <td>0.102304</td>\n",
       "    </tr>\n",
       "    <tr>\n",
       "      <th>1</th>\n",
       "      <td>feels_like</td>\n",
       "      <td>0.093604</td>\n",
       "    </tr>\n",
       "    <tr>\n",
       "      <th>0</th>\n",
       "      <td>temp</td>\n",
       "      <td>0.073451</td>\n",
       "    </tr>\n",
       "    <tr>\n",
       "      <th>...</th>\n",
       "      <td>...</td>\n",
       "      <td>...</td>\n",
       "    </tr>\n",
       "    <tr>\n",
       "      <th>18</th>\n",
       "      <td>Land Use at Origin_Shrub</td>\n",
       "      <td>0.000000</td>\n",
       "    </tr>\n",
       "    <tr>\n",
       "      <th>19</th>\n",
       "      <td>Land Use at Origin_URBAN</td>\n",
       "      <td>0.000000</td>\n",
       "    </tr>\n",
       "    <tr>\n",
       "      <th>20</th>\n",
       "      <td>Land Use at Origin_Unknown</td>\n",
       "      <td>0.000000</td>\n",
       "    </tr>\n",
       "    <tr>\n",
       "      <th>22</th>\n",
       "      <td>Land Use at Origin_Water</td>\n",
       "      <td>0.000000</td>\n",
       "    </tr>\n",
       "    <tr>\n",
       "      <th>23</th>\n",
       "      <td>Land Use at Origin_Wetland</td>\n",
       "      <td>0.000000</td>\n",
       "    </tr>\n",
       "  </tbody>\n",
       "</table>\n",
       "<p>109 rows × 2 columns</p>\n",
       "</div>"
      ],
      "text/plain": [
       "                       Feature  Importance\n",
       "4                    dew_point    0.135976\n",
       "7                     wind_deg    0.120603\n",
       "6                   wind_speed    0.102304\n",
       "1                   feels_like    0.093604\n",
       "0                         temp    0.073451\n",
       "..                         ...         ...\n",
       "18    Land Use at Origin_Shrub    0.000000\n",
       "19    Land Use at Origin_URBAN    0.000000\n",
       "20  Land Use at Origin_Unknown    0.000000\n",
       "22    Land Use at Origin_Water    0.000000\n",
       "23  Land Use at Origin_Wetland    0.000000\n",
       "\n",
       "[109 rows x 2 columns]"
      ]
     },
     "execution_count": 44,
     "metadata": {},
     "output_type": "execute_result"
    }
   ],
   "source": [
    "co = pd.DataFrame({'Feature': X.columns, 'Importance': first_tree.feature_importances_})\n",
    "co.sort_values(by = 'Importance', ascending = False)"
   ]
  },
  {
   "cell_type": "code",
   "execution_count": 45,
   "metadata": {},
   "outputs": [
    {
     "name": "stdout",
     "output_type": "stream",
     "text": [
      "                        feature  importance\n",
      "4                     dew_point  100.000000\n",
      "7                      wind_deg   88.693976\n",
      "6                    wind_speed   75.236374\n",
      "1                    feels_like   68.838136\n",
      "0                          temp   54.017340\n",
      "2                      pressure   49.685171\n",
      "3                      humidity   47.631884\n",
      "5                        clouds   45.805997\n",
      "26  Voltage_Low Voltage (0–1kV)   38.375763\n"
     ]
    },
    {
     "data": {
      "image/png": "[encoded data removed]",
      "text/plain": [
       "<Figure size 800x750 with 1 Axes>"
      ]
     },
     "metadata": {},
     "output_type": "display_data"
    }
   ],
   "source": [
    "def importance_plot(tree):\n",
    "    feature_importance = tree.feature_importances_  # get the importance of each feature\n",
    "    \n",
    "    # relative feature importance\n",
    "    feature_importance = 100.0 * (feature_importance / feature_importance.max())\n",
    "    \n",
    "    # Save to a dataframe and remove features with 0 importance\n",
    "    feat_df = pd.DataFrame({'feature': X_train.columns, 'importance': feature_importance})\n",
    "    feat_df = feat_df[feat_df['importance'] > 15]  # Remove zero-importance features\n",
    "    \n",
    "    # Sort features by importance\n",
    "    feat_df = feat_df.sort_values(by='importance', ascending=False)\n",
    "\n",
    "    print(feat_df)\n",
    "    \n",
    "    # Bar plot\n",
    "    plt.figure(figsize=(8, 7.5))\n",
    "    plt.barh(width=feat_df.importance, y=feat_df.feature)\n",
    "    plt.xlabel('Relative feature importance')\n",
    "    plt.show()\n",
    "importance_plot(first_tree)"
   ]
  },
  {
   "cell_type": "markdown",
   "metadata": {},
   "source": [
    "Here above we can see the most important features for this model, starting from the bottom with \"dew_point\", which appears to be the most relevant feature."
   ]
  },
  {
   "cell_type": "markdown",
   "metadata": {},
   "source": [
    "### Bagging Classifier Model"
   ]
  },
  {
   "cell_type": "markdown",
   "metadata": {},
   "source": [
    "The ***Bagging Classifier*** was applied to reduce overfitting by training multiple decision trees on bootstrapped datasets and aggregating their predictions for stability."
   ]
  },
  {
   "cell_type": "code",
   "execution_count": 46,
   "metadata": {},
   "outputs": [
    {
     "name": "stdout",
     "output_type": "stream",
     "text": [
      "Train Score: 0.9138968027856916\n",
      "Validation Score: 0.8510436432637571\n"
     ]
    }
   ],
   "source": [
    "# Bagging Classifier with 150 estimators and 19 features per estimator\n",
    "bag_tree = BaggingClassifier(random_state=2021, n_estimators=150, max_features=19)\n",
    "bag_tree.fit(X_train, y_train)\n",
    "\n",
    "# Evaluate accuracy\n",
    "bag_train_score = bag_tree.score(X_train, y_train)\n",
    "bag_val_score = bag_tree.score(X_val, y_val)\n",
    "\n",
    "# Print results\n",
    "print('Train Score:', bag_train_score)\n",
    "print('Validation Score:', bag_val_score)"
   ]
  },
  {
   "cell_type": "markdown",
   "metadata": {},
   "source": [
    "This bagging classifier model has a high accuracy of 85.1% when predicting the event of a power outage."
   ]
  },
  {
   "cell_type": "markdown",
   "metadata": {},
   "source": [
    "### Random Forest Classifier"
   ]
  },
  {
   "cell_type": "markdown",
   "metadata": {},
   "source": [
    "We used the ***Random Forest Classifier*** to improve accuracy and generalization by averaging predictions from an ensemble of decision trees while reducing variance."
   ]
  },
  {
   "cell_type": "code",
   "execution_count": 47,
   "metadata": {},
   "outputs": [
    {
     "name": "stdout",
     "output_type": "stream",
     "text": [
      "Train Score: 0.9996834441278886\n",
      "Validation Score: 0.8548387096774194\n"
     ]
    }
   ],
   "source": [
    "# Random Forest Classifier with 150 trees\n",
    "rf_tree = RandomForestClassifier(random_state=2021, n_estimators=150)\n",
    "rf_tree.fit(X_train, y_train)\n",
    "\n",
    "# Evaluate accuracy\n",
    "rf_train_score = rf_tree.score(X_train, y_train)\n",
    "rf_val_score = rf_tree.score(X_val, y_val)\n",
    "\n",
    "# Print results\n",
    "print('Train Score:', rf_train_score)\n",
    "print('Validation Score:', rf_val_score)"
   ]
  },
  {
   "cell_type": "markdown",
   "metadata": {},
   "source": [
    "This random forest classifier model also has a high accuracy of 85.5% when predicting the event of a power outage."
   ]
  },
  {
   "cell_type": "markdown",
   "metadata": {},
   "source": [
    "***RandomizedSearchCV*** was employed to efficiently tune hyperparameters by randomly sampling combinations, ensuring optimal model performance with reduced computational cost."
   ]
  },
  {
   "cell_type": "code",
   "execution_count": 48,
   "metadata": {},
   "outputs": [
    {
     "data": {
      "text/html": [
       "<style>#sk-container-id-1 {\n",
       "  /* Definition of color scheme common for light and dark mode */\n",
       "  --sklearn-color-text: black;\n",
       "  --sklearn-color-line: gray;\n",
       "  /* Definition of color scheme for unfitted estimators */\n",
       "  --sklearn-color-unfitted-level-0: #fff5e6;\n",
       "  --sklearn-color-unfitted-level-1: #f6e4d2;\n",
       "  --sklearn-color-unfitted-level-2: #ffe0b3;\n",
       "  --sklearn-color-unfitted-level-3: chocolate;\n",
       "  /* Definition of color scheme for fitted estimators */\n",
       "  --sklearn-color-fitted-level-0: #f0f8ff;\n",
       "  --sklearn-color-fitted-level-1: #d4ebff;\n",
       "  --sklearn-color-fitted-level-2: #b3dbfd;\n",
       "  --sklearn-color-fitted-level-3: cornflowerblue;\n",
       "\n",
       "  /* Specific color for light theme */\n",
       "  --sklearn-color-text-on-default-background: var(--sg-text-color, var(--theme-code-foreground, var(--jp-content-font-color1, black)));\n",
       "  --sklearn-color-background: var(--sg-background-color, var(--theme-background, var(--jp-layout-color0, white)));\n",
       "  --sklearn-color-border-box: var(--sg-text-color, var(--theme-code-foreground, var(--jp-content-font-color1, black)));\n",
       "  --sklearn-color-icon: #696969;\n",
       "\n",
       "  @media (prefers-color-scheme: dark) {\n",
       "    /* Redefinition of color scheme for dark theme */\n",
       "    --sklearn-color-text-on-default-background: var(--sg-text-color, var(--theme-code-foreground, var(--jp-content-font-color1, white)));\n",
       "    --sklearn-color-background: var(--sg-background-color, var(--theme-background, var(--jp-layout-color0, #111)));\n",
       "    --sklearn-color-border-box: var(--sg-text-color, var(--theme-code-foreground, var(--jp-content-font-color1, white)));\n",
       "    --sklearn-color-icon: #878787;\n",
       "  }\n",
       "}\n",
       "\n",
       "#sk-container-id-1 {\n",
       "  color: var(--sklearn-color-text);\n",
       "}\n",
       "\n",
       "#sk-container-id-1 pre {\n",
       "  padding: 0;\n",
       "}\n",
       "\n",
       "#sk-container-id-1 input.sk-hidden--visually {\n",
       "  border: 0;\n",
       "  clip: rect(1px 1px 1px 1px);\n",
       "  clip: rect(1px, 1px, 1px, 1px);\n",
       "  height: 1px;\n",
       "  margin: -1px;\n",
       "  overflow: hidden;\n",
       "  padding: 0;\n",
       "  position: absolute;\n",
       "  width: 1px;\n",
       "}\n",
       "\n",
       "#sk-container-id-1 div.sk-dashed-wrapped {\n",
       "  border: 1px dashed var(--sklearn-color-line);\n",
       "  margin: 0 0.4em 0.5em 0.4em;\n",
       "  box-sizing: border-box;\n",
       "  padding-bottom: 0.4em;\n",
       "  background-color: var(--sklearn-color-background);\n",
       "}\n",
       "\n",
       "#sk-container-id-1 div.sk-container {\n",
       "  /* jupyter's `normalize.less` sets `[hidden] { display: none; }`\n",
       "     but bootstrap.min.css set `[hidden] { display: none !important; }`\n",
       "     so we also need the `!important` here to be able to override the\n",
       "     default hidden behavior on the sphinx rendered scikit-learn.org.\n",
       "     See: https://github.com/scikit-learn/scikit-learn/issues/21755 */\n",
       "  display: inline-block !important;\n",
       "  position: relative;\n",
       "}\n",
       "\n",
       "#sk-container-id-1 div.sk-text-repr-fallback {\n",
       "  display: none;\n",
       "}\n",
       "\n",
       "div.sk-parallel-item,\n",
       "div.sk-serial,\n",
       "div.sk-item {\n",
       "  /* draw centered vertical line to link estimators */\n",
       "  background-image: linear-gradient(var(--sklearn-color-text-on-default-background), var(--sklearn-color-text-on-default-background));\n",
       "  background-size: 2px 100%;\n",
       "  background-repeat: no-repeat;\n",
       "  background-position: center center;\n",
       "}\n",
       "\n",
       "/* Parallel-specific style estimator block */\n",
       "\n",
       "#sk-container-id-1 div.sk-parallel-item::after {\n",
       "  content: \"\";\n",
       "  width: 100%;\n",
       "  border-bottom: 2px solid var(--sklearn-color-text-on-default-background);\n",
       "  flex-grow: 1;\n",
       "}\n",
       "\n",
       "#sk-container-id-1 div.sk-parallel {\n",
       "  display: flex;\n",
       "  align-items: stretch;\n",
       "  justify-content: center;\n",
       "  background-color: var(--sklearn-color-background);\n",
       "  position: relative;\n",
       "}\n",
       "\n",
       "#sk-container-id-1 div.sk-parallel-item {\n",
       "  display: flex;\n",
       "  flex-direction: column;\n",
       "}\n",
       "\n",
       "#sk-container-id-1 div.sk-parallel-item:first-child::after {\n",
       "  align-self: flex-end;\n",
       "  width: 50%;\n",
       "}\n",
       "\n",
       "#sk-container-id-1 div.sk-parallel-item:last-child::after {\n",
       "  align-self: flex-start;\n",
       "  width: 50%;\n",
       "}\n",
       "\n",
       "#sk-container-id-1 div.sk-parallel-item:only-child::after {\n",
       "  width: 0;\n",
       "}\n",
       "\n",
       "/* Serial-specific style estimator block */\n",
       "\n",
       "#sk-container-id-1 div.sk-serial {\n",
       "  display: flex;\n",
       "  flex-direction: column;\n",
       "  align-items: center;\n",
       "  background-color: var(--sklearn-color-background);\n",
       "  padding-right: 1em;\n",
       "  padding-left: 1em;\n",
       "}\n",
       "\n",
       "\n",
       "/* Toggleable style: style used for estimator/Pipeline/ColumnTransformer box that is\n",
       "clickable and can be expanded/collapsed.\n",
       "- Pipeline and ColumnTransformer use this feature and define the default style\n",
       "- Estimators will overwrite some part of the style using the `sk-estimator` class\n",
       "*/\n",
       "\n",
       "/* Pipeline and ColumnTransformer style (default) */\n",
       "\n",
       "#sk-container-id-1 div.sk-toggleable {\n",
       "  /* Default theme specific background. It is overwritten whether we have a\n",
       "  specific estimator or a Pipeline/ColumnTransformer */\n",
       "  background-color: var(--sklearn-color-background);\n",
       "}\n",
       "\n",
       "/* Toggleable label */\n",
       "#sk-container-id-1 label.sk-toggleable__label {\n",
       "  cursor: pointer;\n",
       "  display: block;\n",
       "  width: 100%;\n",
       "  margin-bottom: 0;\n",
       "  padding: 0.5em;\n",
       "  box-sizing: border-box;\n",
       "  text-align: center;\n",
       "}\n",
       "\n",
       "#sk-container-id-1 label.sk-toggleable__label-arrow:before {\n",
       "  /* Arrow on the left of the label */\n",
       "  content: \"▸\";\n",
       "  float: left;\n",
       "  margin-right: 0.25em;\n",
       "  color: var(--sklearn-color-icon);\n",
       "}\n",
       "\n",
       "#sk-container-id-1 label.sk-toggleable__label-arrow:hover:before {\n",
       "  color: var(--sklearn-color-text);\n",
       "}\n",
       "\n",
       "/* Toggleable content - dropdown */\n",
       "\n",
       "#sk-container-id-1 div.sk-toggleable__content {\n",
       "  max-height: 0;\n",
       "  max-width: 0;\n",
       "  overflow: hidden;\n",
       "  text-align: left;\n",
       "  /* unfitted */\n",
       "  background-color: var(--sklearn-color-unfitted-level-0);\n",
       "}\n",
       "\n",
       "#sk-container-id-1 div.sk-toggleable__content.fitted {\n",
       "  /* fitted */\n",
       "  background-color: var(--sklearn-color-fitted-level-0);\n",
       "}\n",
       "\n",
       "#sk-container-id-1 div.sk-toggleable__content pre {\n",
       "  margin: 0.2em;\n",
       "  border-radius: 0.25em;\n",
       "  color: var(--sklearn-color-text);\n",
       "  /* unfitted */\n",
       "  background-color: var(--sklearn-color-unfitted-level-0);\n",
       "}\n",
       "\n",
       "#sk-container-id-1 div.sk-toggleable__content.fitted pre {\n",
       "  /* unfitted */\n",
       "  background-color: var(--sklearn-color-fitted-level-0);\n",
       "}\n",
       "\n",
       "#sk-container-id-1 input.sk-toggleable__control:checked~div.sk-toggleable__content {\n",
       "  /* Expand drop-down */\n",
       "  max-height: 200px;\n",
       "  max-width: 100%;\n",
       "  overflow: auto;\n",
       "}\n",
       "\n",
       "#sk-container-id-1 input.sk-toggleable__control:checked~label.sk-toggleable__label-arrow:before {\n",
       "  content: \"▾\";\n",
       "}\n",
       "\n",
       "/* Pipeline/ColumnTransformer-specific style */\n",
       "\n",
       "#sk-container-id-1 div.sk-label input.sk-toggleable__control:checked~label.sk-toggleable__label {\n",
       "  color: var(--sklearn-color-text);\n",
       "  background-color: var(--sklearn-color-unfitted-level-2);\n",
       "}\n",
       "\n",
       "#sk-container-id-1 div.sk-label.fitted input.sk-toggleable__control:checked~label.sk-toggleable__label {\n",
       "  background-color: var(--sklearn-color-fitted-level-2);\n",
       "}\n",
       "\n",
       "/* Estimator-specific style */\n",
       "\n",
       "/* Colorize estimator box */\n",
       "#sk-container-id-1 div.sk-estimator input.sk-toggleable__control:checked~label.sk-toggleable__label {\n",
       "  /* unfitted */\n",
       "  background-color: var(--sklearn-color-unfitted-level-2);\n",
       "}\n",
       "\n",
       "#sk-container-id-1 div.sk-estimator.fitted input.sk-toggleable__control:checked~label.sk-toggleable__label {\n",
       "  /* fitted */\n",
       "  background-color: var(--sklearn-color-fitted-level-2);\n",
       "}\n",
       "\n",
       "#sk-container-id-1 div.sk-label label.sk-toggleable__label,\n",
       "#sk-container-id-1 div.sk-label label {\n",
       "  /* The background is the default theme color */\n",
       "  color: var(--sklearn-color-text-on-default-background);\n",
       "}\n",
       "\n",
       "/* On hover, darken the color of the background */\n",
       "#sk-container-id-1 div.sk-label:hover label.sk-toggleable__label {\n",
       "  color: var(--sklearn-color-text);\n",
       "  background-color: var(--sklearn-color-unfitted-level-2);\n",
       "}\n",
       "\n",
       "/* Label box, darken color on hover, fitted */\n",
       "#sk-container-id-1 div.sk-label.fitted:hover label.sk-toggleable__label.fitted {\n",
       "  color: var(--sklearn-color-text);\n",
       "  background-color: var(--sklearn-color-fitted-level-2);\n",
       "}\n",
       "\n",
       "/* Estimator label */\n",
       "\n",
       "#sk-container-id-1 div.sk-label label {\n",
       "  font-family: monospace;\n",
       "  font-weight: bold;\n",
       "  display: inline-block;\n",
       "  line-height: 1.2em;\n",
       "}\n",
       "\n",
       "#sk-container-id-1 div.sk-label-container {\n",
       "  text-align: center;\n",
       "}\n",
       "\n",
       "/* Estimator-specific */\n",
       "#sk-container-id-1 div.sk-estimator {\n",
       "  font-family: monospace;\n",
       "  border: 1px dotted var(--sklearn-color-border-box);\n",
       "  border-radius: 0.25em;\n",
       "  box-sizing: border-box;\n",
       "  margin-bottom: 0.5em;\n",
       "  /* unfitted */\n",
       "  background-color: var(--sklearn-color-unfitted-level-0);\n",
       "}\n",
       "\n",
       "#sk-container-id-1 div.sk-estimator.fitted {\n",
       "  /* fitted */\n",
       "  background-color: var(--sklearn-color-fitted-level-0);\n",
       "}\n",
       "\n",
       "/* on hover */\n",
       "#sk-container-id-1 div.sk-estimator:hover {\n",
       "  /* unfitted */\n",
       "  background-color: var(--sklearn-color-unfitted-level-2);\n",
       "}\n",
       "\n",
       "#sk-container-id-1 div.sk-estimator.fitted:hover {\n",
       "  /* fitted */\n",
       "  background-color: var(--sklearn-color-fitted-level-2);\n",
       "}\n",
       "\n",
       "/* Specification for estimator info (e.g. \"i\" and \"?\") */\n",
       "\n",
       "/* Common style for \"i\" and \"?\" */\n",
       "\n",
       ".sk-estimator-doc-link,\n",
       "a:link.sk-estimator-doc-link,\n",
       "a:visited.sk-estimator-doc-link {\n",
       "  float: right;\n",
       "  font-size: smaller;\n",
       "  line-height: 1em;\n",
       "  font-family: monospace;\n",
       "  background-color: var(--sklearn-color-background);\n",
       "  border-radius: 1em;\n",
       "  height: 1em;\n",
       "  width: 1em;\n",
       "  text-decoration: none !important;\n",
       "  margin-left: 1ex;\n",
       "  /* unfitted */\n",
       "  border: var(--sklearn-color-unfitted-level-1) 1pt solid;\n",
       "  color: var(--sklearn-color-unfitted-level-1);\n",
       "}\n",
       "\n",
       ".sk-estimator-doc-link.fitted,\n",
       "a:link.sk-estimator-doc-link.fitted,\n",
       "a:visited.sk-estimator-doc-link.fitted {\n",
       "  /* fitted */\n",
       "  border: var(--sklearn-color-fitted-level-1) 1pt solid;\n",
       "  color: var(--sklearn-color-fitted-level-1);\n",
       "}\n",
       "\n",
       "/* On hover */\n",
       "div.sk-estimator:hover .sk-estimator-doc-link:hover,\n",
       ".sk-estimator-doc-link:hover,\n",
       "div.sk-label-container:hover .sk-estimator-doc-link:hover,\n",
       ".sk-estimator-doc-link:hover {\n",
       "  /* unfitted */\n",
       "  background-color: var(--sklearn-color-unfitted-level-3);\n",
       "  color: var(--sklearn-color-background);\n",
       "  text-decoration: none;\n",
       "}\n",
       "\n",
       "div.sk-estimator.fitted:hover .sk-estimator-doc-link.fitted:hover,\n",
       ".sk-estimator-doc-link.fitted:hover,\n",
       "div.sk-label-container:hover .sk-estimator-doc-link.fitted:hover,\n",
       ".sk-estimator-doc-link.fitted:hover {\n",
       "  /* fitted */\n",
       "  background-color: var(--sklearn-color-fitted-level-3);\n",
       "  color: var(--sklearn-color-background);\n",
       "  text-decoration: none;\n",
       "}\n",
       "\n",
       "/* Span, style for the box shown on hovering the info icon */\n",
       ".sk-estimator-doc-link span {\n",
       "  display: none;\n",
       "  z-index: 9999;\n",
       "  position: relative;\n",
       "  font-weight: normal;\n",
       "  right: .2ex;\n",
       "  padding: .5ex;\n",
       "  margin: .5ex;\n",
       "  width: min-content;\n",
       "  min-width: 20ex;\n",
       "  max-width: 50ex;\n",
       "  color: var(--sklearn-color-text);\n",
       "  box-shadow: 2pt 2pt 4pt #999;\n",
       "  /* unfitted */\n",
       "  background: var(--sklearn-color-unfitted-level-0);\n",
       "  border: .5pt solid var(--sklearn-color-unfitted-level-3);\n",
       "}\n",
       "\n",
       ".sk-estimator-doc-link.fitted span {\n",
       "  /* fitted */\n",
       "  background: var(--sklearn-color-fitted-level-0);\n",
       "  border: var(--sklearn-color-fitted-level-3);\n",
       "}\n",
       "\n",
       ".sk-estimator-doc-link:hover span {\n",
       "  display: block;\n",
       "}\n",
       "\n",
       "/* \"?\"-specific style due to the `<a>` HTML tag */\n",
       "\n",
       "#sk-container-id-1 a.estimator_doc_link {\n",
       "  float: right;\n",
       "  font-size: 1rem;\n",
       "  line-height: 1em;\n",
       "  font-family: monospace;\n",
       "  background-color: var(--sklearn-color-background);\n",
       "  border-radius: 1rem;\n",
       "  height: 1rem;\n",
       "  width: 1rem;\n",
       "  text-decoration: none;\n",
       "  /* unfitted */\n",
       "  color: var(--sklearn-color-unfitted-level-1);\n",
       "  border: var(--sklearn-color-unfitted-level-1) 1pt solid;\n",
       "}\n",
       "\n",
       "#sk-container-id-1 a.estimator_doc_link.fitted {\n",
       "  /* fitted */\n",
       "  border: var(--sklearn-color-fitted-level-1) 1pt solid;\n",
       "  color: var(--sklearn-color-fitted-level-1);\n",
       "}\n",
       "\n",
       "/* On hover */\n",
       "#sk-container-id-1 a.estimator_doc_link:hover {\n",
       "  /* unfitted */\n",
       "  background-color: var(--sklearn-color-unfitted-level-3);\n",
       "  color: var(--sklearn-color-background);\n",
       "  text-decoration: none;\n",
       "}\n",
       "\n",
       "#sk-container-id-1 a.estimator_doc_link.fitted:hover {\n",
       "  /* fitted */\n",
       "  background-color: var(--sklearn-color-fitted-level-3);\n",
       "}\n",
       "</style><div id=\"sk-container-id-1\" class=\"sk-top-container\"><div class=\"sk-text-repr-fallback\"><pre>RandomizedSearchCV(cv=5,\n",
       "                   estimator=RandomForestClassifier(n_estimators=150,\n",
       "                                                    random_state=2021),\n",
       "                   n_iter=5,\n",
       "                   param_distributions={&#x27;max_leaf_nodes&#x27;: array([ 3,  4,  5,  6,  7,  8,  9, 10, 11, 12, 13, 14, 15, 16, 17, 18, 19,\n",
       "       20, 21, 22, 23, 24, 25, 26, 27, 28, 29, 30, 31, 32, 33, 34, 35, 36,\n",
       "       37, 38, 39, 40, 41, 42, 43, 44, 45, 46, 47, 48, 49, 50, 51, 52, 53,\n",
       "       54, 55, 56, 57, 58, 59, 60, 61, 62, 63, 64, 65, 66, 67, 68, 69, 70,\n",
       "       71, 72, 73, 74, 75, 76, 77, 78, 79, 80, 81, 82, 83, 84, 85, 86, 87,\n",
       "       88, 89, 90, 91, 92, 93, 94, 95, 96, 97, 98, 99]),\n",
       "                                        &#x27;min_samples_leaf&#x27;: array([1, 2, 3, 4, 5, 6, 7, 8, 9]),\n",
       "                                        &#x27;min_samples_split&#x27;: array([ 2,  3,  4,  5,  6,  7,  8,  9, 10, 11, 12, 13, 14, 15, 16, 17, 18,\n",
       "       19])},\n",
       "                   random_state=2021)</pre><b>In a Jupyter environment, please rerun this cell to show the HTML representation or trust the notebook. <br />On GitHub, the HTML representation is unable to render, please try loading this page with nbviewer.org.</b></div><div class=\"sk-container\" hidden><div class=\"sk-item sk-dashed-wrapped\"><div class=\"sk-label-container\"><div class=\"sk-label fitted sk-toggleable\"><input class=\"sk-toggleable__control sk-hidden--visually\" id=\"sk-estimator-id-1\" type=\"checkbox\" ><label for=\"sk-estimator-id-1\" class=\"sk-toggleable__label fitted sk-toggleable__label-arrow fitted\">&nbsp;&nbsp;RandomizedSearchCV<a class=\"sk-estimator-doc-link fitted\" rel=\"noreferrer\" target=\"_blank\" href=\"https://scikit-learn.org/1.4/modules/generated/sklearn.model_selection.RandomizedSearchCV.html\">?<span>Documentation for RandomizedSearchCV</span></a><span class=\"sk-estimator-doc-link fitted\">i<span>Fitted</span></span></label><div class=\"sk-toggleable__content fitted\"><pre>RandomizedSearchCV(cv=5,\n",
       "                   estimator=RandomForestClassifier(n_estimators=150,\n",
       "                                                    random_state=2021),\n",
       "                   n_iter=5,\n",
       "                   param_distributions={&#x27;max_leaf_nodes&#x27;: array([ 3,  4,  5,  6,  7,  8,  9, 10, 11, 12, 13, 14, 15, 16, 17, 18, 19,\n",
       "       20, 21, 22, 23, 24, 25, 26, 27, 28, 29, 30, 31, 32, 33, 34, 35, 36,\n",
       "       37, 38, 39, 40, 41, 42, 43, 44, 45, 46, 47, 48, 49, 50, 51, 52, 53,\n",
       "       54, 55, 56, 57, 58, 59, 60, 61, 62, 63, 64, 65, 66, 67, 68, 69, 70,\n",
       "       71, 72, 73, 74, 75, 76, 77, 78, 79, 80, 81, 82, 83, 84, 85, 86, 87,\n",
       "       88, 89, 90, 91, 92, 93, 94, 95, 96, 97, 98, 99]),\n",
       "                                        &#x27;min_samples_leaf&#x27;: array([1, 2, 3, 4, 5, 6, 7, 8, 9]),\n",
       "                                        &#x27;min_samples_split&#x27;: array([ 2,  3,  4,  5,  6,  7,  8,  9, 10, 11, 12, 13, 14, 15, 16, 17, 18,\n",
       "       19])},\n",
       "                   random_state=2021)</pre></div> </div></div><div class=\"sk-parallel\"><div class=\"sk-parallel-item\"><div class=\"sk-item\"><div class=\"sk-label-container\"><div class=\"sk-label fitted sk-toggleable\"><input class=\"sk-toggleable__control sk-hidden--visually\" id=\"sk-estimator-id-2\" type=\"checkbox\" ><label for=\"sk-estimator-id-2\" class=\"sk-toggleable__label fitted sk-toggleable__label-arrow fitted\">estimator: RandomForestClassifier</label><div class=\"sk-toggleable__content fitted\"><pre>RandomForestClassifier(n_estimators=150, random_state=2021)</pre></div> </div></div><div class=\"sk-serial\"><div class=\"sk-item\"><div class=\"sk-estimator fitted sk-toggleable\"><input class=\"sk-toggleable__control sk-hidden--visually\" id=\"sk-estimator-id-3\" type=\"checkbox\" ><label for=\"sk-estimator-id-3\" class=\"sk-toggleable__label fitted sk-toggleable__label-arrow fitted\">&nbsp;RandomForestClassifier<a class=\"sk-estimator-doc-link fitted\" rel=\"noreferrer\" target=\"_blank\" href=\"https://scikit-learn.org/1.4/modules/generated/sklearn.ensemble.RandomForestClassifier.html\">?<span>Documentation for RandomForestClassifier</span></a></label><div class=\"sk-toggleable__content fitted\"><pre>RandomForestClassifier(n_estimators=150, random_state=2021)</pre></div> </div></div></div></div></div></div></div></div></div>"
      ],
      "text/plain": [
       "RandomizedSearchCV(cv=5,\n",
       "                   estimator=RandomForestClassifier(n_estimators=150,\n",
       "                                                    random_state=2021),\n",
       "                   n_iter=5,\n",
       "                   param_distributions={'max_leaf_nodes': array([ 3,  4,  5,  6,  7,  8,  9, 10, 11, 12, 13, 14, 15, 16, 17, 18, 19,\n",
       "       20, 21, 22, 23, 24, 25, 26, 27, 28, 29, 30, 31, 32, 33, 34, 35, 36,\n",
       "       37, 38, 39, 40, 41, 42, 43, 44, 45, 46, 47, 48, 49, 50, 51, 52, 53,\n",
       "       54, 55, 56, 57, 58, 59, 60, 61, 62, 63, 64, 65, 66, 67, 68, 69, 70,\n",
       "       71, 72, 73, 74, 75, 76, 77, 78, 79, 80, 81, 82, 83, 84, 85, 86, 87,\n",
       "       88, 89, 90, 91, 92, 93, 94, 95, 96, 97, 98, 99]),\n",
       "                                        'min_samples_leaf': array([1, 2, 3, 4, 5, 6, 7, 8, 9]),\n",
       "                                        'min_samples_split': array([ 2,  3,  4,  5,  6,  7,  8,  9, 10, 11, 12, 13, 14, 15, 16, 17, 18,\n",
       "       19])},\n",
       "                   random_state=2021)"
      ]
     },
     "execution_count": 48,
     "metadata": {},
     "output_type": "execute_result"
    }
   ],
   "source": [
    "# Randomized Search for Random Forest hyperparameter tuning\n",
    "param_dist = {\n",
    "    'max_leaf_nodes': np.arange(3, 100),     # Random range for max leaf nodes\n",
    "    'min_samples_leaf': np.arange(1, 10),    # Random range for minimum samples per leaf\n",
    "    'min_samples_split': np.arange(2, 20)    # Random range for minimum samples to split a node\n",
    "}\n",
    "\n",
    "# RandomizedSearchCV with 5 iterations and 5-fold cross-validation\n",
    "rf_tree_rnd_search = RandomizedSearchCV(\n",
    "    RandomForestClassifier(n_estimators=150, random_state=2021),\n",
    "    param_distributions=param_dist, \n",
    "    cv=5, n_iter=5, random_state=2021\n",
    ")\n",
    "\n",
    "# Fit the randomized search to the training data\n",
    "rf_tree_rnd_search.fit(X_train, y_train)"
   ]
  },
  {
   "cell_type": "markdown",
   "metadata": {},
   "source": [
    "### Gradient Boosting Classifier"
   ]
  },
  {
   "cell_type": "markdown",
   "metadata": {},
   "source": [
    "***GradientBoostingClassifier***: Gradient Boosting was chosen for its ability to sequentially correct errors from previous models, resulting in a strong ensemble that captures complex patterns in the data.\n"
   ]
  },
  {
   "cell_type": "code",
   "execution_count": 49,
   "metadata": {},
   "outputs": [
    {
     "name": "stdout",
     "output_type": "stream",
     "text": [
      "{'max_leaf_nodes': 22, 'max_depth': 1}\n"
     ]
    }
   ],
   "source": [
    "# Gradient Boosting Classifier with 150 boosting stages\n",
    "gb_tree = GradientBoostingClassifier(random_state=2021, n_estimators=150)\n",
    "gb_tree.fit(X_train, y_train)\n",
    "# Randomized Search for Gradient Boosting hyperparameter tuning\n",
    "param_dist = {\n",
    "    'max_leaf_nodes': np.arange(3, 100),  # Random range for max leaf nodes\n",
    "    'max_depth': np.arange(1, 10)        # Random range for max depth of trees\n",
    "}\n",
    "\n",
    "# RandomizedSearchCV with 10 iterations and 5-fold cross-validation\n",
    "rnd_gb_search = RandomizedSearchCV(\n",
    "    GradientBoostingClassifier(random_state=2021, n_estimators=150),\n",
    "    param_distributions=param_dist,\n",
    "    cv=5, n_iter=10\n",
    ")\n",
    "\n",
    "# Fitting the randomized search to the training data\n",
    "rnd_gb_search.fit(X_train, y_train)\n",
    "\n",
    "# Print best hyperparameters\n",
    "print(rnd_gb_search.best_params_)"
   ]
  },
  {
   "cell_type": "code",
   "execution_count": 50,
   "metadata": {},
   "outputs": [
    {
     "name": "stdout",
     "output_type": "stream",
     "text": [
      "Train Score:  0.8600823045267489\n",
      "Validation Score:  0.8406072106261859\n"
     ]
    }
   ],
   "source": [
    "# Evaluating accuracy\n",
    "gb_train_score = rnd_gb_search.score(X_train, y_train)\n",
    "gb_val_score = rnd_gb_search.score(X_val, y_val)\n",
    "\n",
    "# Evaluating results\n",
    "print('Train Score: ', gb_train_score)\n",
    "print('Validation Score: ', gb_val_score)"
   ]
  },
  {
   "cell_type": "code",
   "execution_count": 51,
   "metadata": {},
   "outputs": [
    {
     "name": "stdout",
     "output_type": "stream",
     "text": [
      "Test Score:  0.8216318785578748\n",
      "Test Score:  0.8766603415559773\n",
      "Test Score:  0.881404174573055\n",
      "Test Score:  0.8719165085388995\n",
      "Test Score:  0.8681214421252372\n",
      "Test Score:  0.8776091081593927\n"
     ]
    }
   ],
   "source": [
    "models = [first_tree, bag_tree, rf_tree, rf_tree_rnd_search, gb_tree, my_model]\n",
    "for i in models:\n",
    "    print('Test Score: ', i.score(X_test, y_test))"
   ]
  },
  {
   "cell_type": "markdown",
   "metadata": {},
   "source": [
    "#### Analysis of Feature Importance"
   ]
  },
  {
   "cell_type": "markdown",
   "metadata": {},
   "source": [
    "#### Random Forest"
   ]
  },
  {
   "cell_type": "code",
   "execution_count": 52,
   "metadata": {},
   "outputs": [
    {
     "name": "stdout",
     "output_type": "stream",
     "text": [
      "                                   feature  importance\n",
      "4                                dew_point  100.000000\n",
      "0                                     temp   97.678625\n",
      "1                               feels_like   94.185734\n",
      "6                               wind_speed   89.323418\n",
      "7                                 wind_deg   87.798554\n",
      "3                                 humidity   87.222996\n",
      "2                                 pressure   72.584386\n",
      "5                                   clouds   51.317123\n",
      "26             Voltage_Low Voltage (0–1kV)   33.740433\n",
      "27         Voltage_Medium Voltage (1–15kV)   22.820743\n",
      "74  Equipment Involved With Ignition_Other   15.245906\n"
     ]
    },
    {
     "data": {
      "image/png": "[encoded data removed]",
      "text/plain": [
       "<Figure size 800x750 with 1 Axes>"
      ]
     },
     "metadata": {},
     "output_type": "display_data"
    }
   ],
   "source": [
    "importance_plot(rf_tree)"
   ]
  },
  {
   "cell_type": "markdown",
   "metadata": {},
   "source": [
    "This random forest analysis for feature importance shows the features with the highest correlation. Dew point, temperature, feels-like temperature, and wind direction appear to be the most important features for this model."
   ]
  },
  {
   "cell_type": "markdown",
   "metadata": {},
   "source": [
    "#### Gradient Boosting"
   ]
  },
  {
   "cell_type": "code",
   "execution_count": 53,
   "metadata": {},
   "outputs": [
    {
     "name": "stdout",
     "output_type": "stream",
     "text": [
      "                                            feature  importance\n",
      "26                      Voltage_Low Voltage (0–1kV)  100.000000\n",
      "4                                         dew_point   65.375459\n",
      "7                                          wind_deg   56.488917\n",
      "1                                        feels_like   46.949501\n",
      "0                                              temp   44.976058\n",
      "3                                          humidity   32.211185\n",
      "6                                        wind_speed   29.831615\n",
      "27                  Voltage_Medium Voltage (1–15kV)   29.461093\n",
      "74           Equipment Involved With Ignition_Other   27.219414\n",
      "2                                          pressure   25.901675\n",
      "28              Voltage_Ultra High Voltage (>500kV)   22.347766\n",
      "5                                            clouds   20.585014\n",
      "48  Equipment Involved With Ignition_Capacitor Bank   15.105788\n"
     ]
    },
    {
     "data": {
      "image/png": "[encoded data removed]",
      "text/plain": [
       "<Figure size 800x750 with 1 Axes>"
      ]
     },
     "metadata": {},
     "output_type": "display_data"
    }
   ],
   "source": [
    "importance_plot(gb_tree)"
   ]
  },
  {
   "cell_type": "markdown",
   "metadata": {},
   "source": [
    "This gradient boosting analysis for feature importance shows the features with the highest correlation. Low voltage, dew point,  wind direction, temperature, and feels-like temperature appear to be the most important features for this model."
   ]
  },
  {
   "cell_type": "markdown",
   "metadata": {},
   "source": [
    "## 2. Fire Size Prediction Model"
   ]
  },
  {
   "cell_type": "code",
   "execution_count": 54,
   "metadata": {},
   "outputs": [],
   "source": [
    "# Importing necessary libraries\n",
    "import pandas as pd\n",
    "import numpy as np\n",
    "from sklearn.model_selection import train_test_split, GridSearchCV\n",
    "from sklearn.svm import SVC\n",
    "from sklearn.preprocessing import MinMaxScaler\n",
    "from sklearn.metrics import confusion_matrix, classification_report\n",
    "import seaborn as sns\n",
    "import matplotlib.pyplot as plt"
   ]
  },
  {
   "cell_type": "code",
   "execution_count": 55,
   "metadata": {},
   "outputs": [],
   "source": [
    "#loading a dataset derived from the previous manipulatons performed above, it contains all columns, already formatted and hot-encoded\n",
    "fire_df = pd.read_csv('ricc.csv')"
   ]
  },
  {
   "cell_type": "code",
   "execution_count": 56,
   "metadata": {},
   "outputs": [],
   "source": [
    "# Display all columns in the dataset\n",
    "# print(\"Columns in the dataset:\", ricc_df.columns.tolist())"
   ]
  },
  {
   "cell_type": "code",
   "execution_count": 57,
   "metadata": {},
   "outputs": [],
   "source": [
    "# Combining one-hot encoded fire size columns into a single target column\n",
    "def combine_fire_size(row):\n",
    "    if row['Size_0-0.99 Acres'] == 1:\n",
    "        return '0-0.99 Acres'\n",
    "    elif row['Size_1-9.99 Acres'] == 1:\n",
    "        return '1-9.99 Acres'\n",
    "    elif row['Size_10-99.9 Acres'] == 1:\n",
    "        return '10-99.9 Acres'\n",
    "    elif row['Size_100-999.9 Acres'] == 1:\n",
    "        return '100-999.9 Acres'\n",
    "    elif row['Size_1000-5000 Acres and more'] == 1:\n",
    "        return '1000-5000 Acres and more'\n",
    "    else:\n",
    "        return 'Unknown'"
   ]
  },
  {
   "cell_type": "code",
   "execution_count": 58,
   "metadata": {},
   "outputs": [],
   "source": [
    "fire_df['fire_size_category'] = fire_df.apply(combine_fire_size, axis=1)"
   ]
  },
  {
   "cell_type": "code",
   "execution_count": 59,
   "metadata": {},
   "outputs": [],
   "source": [
    "# Dropping the original one-hot encoded columns\n",
    "fire_df = fire_df.drop(columns=['Size_0-0.99 Acres', 'Size_1-9.99 Acres',\n",
    "                                 'Size_10-99.9 Acres', 'Size_100-999.9 Acres',\n",
    "                                 'Size_1000-5000 Acres and more', 'Size_Unknown'])"
   ]
  },
  {
   "cell_type": "code",
   "execution_count": 60,
   "metadata": {},
   "outputs": [
    {
     "name": "stdout",
     "output_type": "stream",
     "text": [
      "Columns in the dataset: ['Unnamed: 0', 'temp', 'feels_like', 'pressure', 'humidity', 'dew_point', 'clouds', 'wind_speed', 'wind_deg', 'Land Use at Origin_Agricultural', 'Land Use at Origin_Agriculture', 'Land Use at Origin_Barren/Other', 'Land Use at Origin_Conifer Forest', 'Land Use at Origin_Desert Shrub', 'Land Use at Origin_Hardwood Forest', 'Land Use at Origin_Hardwood Woodland', 'Land Use at Origin_Herbaceous', 'Land Use at Origin_RURAL', 'Land Use at Origin_Rural', 'Land Use at Origin_Shrub', 'Land Use at Origin_URBAN', 'Land Use at Origin_Unknown', 'Land Use at Origin_Urban', 'Land Use at Origin_Water', 'Land Use at Origin_Wetland', 'Voltage_Extra High Voltage (100–500kV)', 'Voltage_High Voltage (15–100kV)', 'Voltage_Low Voltage (0–1kV)', 'Voltage_Medium Voltage (1–15kV)', 'Voltage_Ultra High Voltage (>500kV)', 'Material at Origin_Aircraft', 'Material at Origin_Animal Found', 'Material at Origin_Bird Found', 'Material at Origin_Building', 'Material at Origin_Contact with High Voltage, 3rd party', 'Material at Origin_Equipment Failure/Involved, Fire, pole', 'Material at Origin_Equipment Failure/Involved, Overhead', 'Material at Origin_Gun Shot', 'Material at Origin_Metallic Balloon', 'Material at Origin_Other', 'Material at Origin_Structure', 'Material at Origin_Thrown Object', 'Material at Origin_Tree - cutting, 3rd party', 'Material at Origin_Vegetation', 'Material at Origin_Vehicle', 'Material at Origin_vegetation', 'Equipment Involved With Ignition_Automatic Wire Splice', 'Equipment Involved With Ignition_Bushing Mounted Cutout', 'Equipment Involved With Ignition_Cable', 'Equipment Involved With Ignition_Capacitor Bank', 'Equipment Involved With Ignition_Chance Clamp', 'Equipment Involved With Ignition_Circuit Breaker', 'Equipment Involved With Ignition_Common Neutral', 'Equipment Involved With Ignition_Compression Connector', 'Equipment Involved With Ignition_Conductor', 'Equipment Involved With Ignition_Conductor - All', 'Equipment Involved With Ignition_Conductor - Insulated Secondary', 'Equipment Involved With Ignition_Conductor - Open Wire Secondary', 'Equipment Involved With Ignition_Conductor - Primary', 'Equipment Involved With Ignition_Conductor - Racked Secondary', 'Equipment Involved With Ignition_Conductor - Secondary', 'Equipment Involved With Ignition_Conductor - Transmission', 'Equipment Involved With Ignition_Conductor - Underground Service', 'Equipment Involved With Ignition_Connector', 'Equipment Involved With Ignition_Crossarm', 'Equipment Involved With Ignition_Fault Tamer', 'Equipment Involved With Ignition_Fuse', 'Equipment Involved With Ignition_Grounding Wire', 'Equipment Involved With Ignition_Guy/Span Wire', 'Equipment Involved With Ignition_Insulator', 'Equipment Involved With Ignition_Jumper', 'Equipment Involved With Ignition_Lightning Arrestor', 'Equipment Involved With Ignition_Lightning arrester', 'Equipment Involved With Ignition_Meter', 'Equipment Involved With Ignition_N.A.', 'Equipment Involved With Ignition_Other', 'Equipment Involved With Ignition_Parallel Groove Clamp', 'Equipment Involved With Ignition_Pole', 'Equipment Involved With Ignition_Potential Transformer', 'Equipment Involved With Ignition_Pothead', 'Equipment Involved With Ignition_Recloser', 'Equipment Involved With Ignition_Riser', 'Equipment Involved With Ignition_Secondary', 'Equipment Involved With Ignition_Service Conductor', 'Equipment Involved With Ignition_Service Connector', 'Equipment Involved With Ignition_Service Drop', 'Equipment Involved With Ignition_Splice Box', 'Equipment Involved With Ignition_Splice/Clamp/Connector', 'Equipment Involved With Ignition_Switch', 'Equipment Involved With Ignition_Tap Clamp', 'Equipment Involved With Ignition_Tie Wire', 'Equipment Involved With Ignition_Transformer', 'Equipment Involved With Ignition_Transformer Bushing', 'Equipment Involved With Ignition_Tree Connect', 'Equipment Involved With Ignition_Unknown', 'Equipment Involved With Ignition_Voltage Regulator', 'Equipment Involved With Ignition_conductor', 'Type_Overbuild', 'Type_Overhead', 'Type_Padmount', 'Type_Padmounted', 'Type_Subsurface', 'Type_Underbuild', 'Type_Underground', 'fire_size_category']\n"
     ]
    }
   ],
   "source": [
    "# Display all columns in the dataset\n",
    "print(\"Columns in the dataset:\", fire_df.columns.tolist())"
   ]
  },
  {
   "cell_type": "code",
   "execution_count": 61,
   "metadata": {},
   "outputs": [],
   "source": [
    "# Separating features and target variable\n",
    "X = fire_df.drop(columns=['fire_size_category'])  # Features\n",
    "y = fire_df['fire_size_category']  # Target variable"
   ]
  },
  {
   "cell_type": "code",
   "execution_count": 62,
   "metadata": {},
   "outputs": [],
   "source": [
    "# Splitting the dataset into training and testing sets\n",
    "# 80% of the data is being used for training the model, 20% for testing\n",
    "X_train, X_test, y_train, y_test = train_test_split(X, y, test_size=0.2, random_state=42)"
   ]
  },
  {
   "cell_type": "code",
   "execution_count": 63,
   "metadata": {},
   "outputs": [],
   "source": [
    "# Feature scaling (required for SVM)\n",
    "scaler = MinMaxScaler()\n",
    "X_train = scaler.fit_transform(X_train)\n",
    "X_test = scaler.transform(X_test)"
   ]
  },
  {
   "cell_type": "markdown",
   "metadata": {},
   "source": [
    "## Support Vector Machine Model"
   ]
  },
  {
   "cell_type": "code",
   "execution_count": 64,
   "metadata": {},
   "outputs": [],
   "source": [
    "# Performing cross-validation and hyperparameter tuning for SVM\n",
    "param_grid = {\n",
    "    # regularization parameter  that controls the trade-off between achieving a low error on the training data\n",
    "    # and minimizing model complexity. range of regularization strengths: high (0.1), medium (1), low (10)\n",
    "    'C': [0.1, 1, 10],                 \n",
    "    'kernel': ['linear', 'rbf', 'poly'],  # specifyings the kernel function\n",
    "    'gamma': ['scale', 'auto'],           # this determines how far the influence of a training example reaches, which affects the decision boundary’s shape.\n",
    "}\n",
    "# 'C': [0.01, 0.1, 1, 10,100],  would take too long to load, waited over 400 seconds, then crash"
   ]
  },
  {
   "cell_type": "code",
   "execution_count": 65,
   "metadata": {},
   "outputs": [],
   "source": [
    "# Support Vector Classifier\n",
    "svm = SVC(random_state=42)\n",
    "#svm = SVC(random_state=42, class_weight='balanced') # class_weight assigns higher weights to underrepresented classes."
   ]
  },
  {
   "cell_type": "code",
   "execution_count": 66,
   "metadata": {},
   "outputs": [
    {
     "data": {
      "text/html": [
       "<style>#sk-container-id-2 {\n",
       "  /* Definition of color scheme common for light and dark mode */\n",
       "  --sklearn-color-text: black;\n",
       "  --sklearn-color-line: gray;\n",
       "  /* Definition of color scheme for unfitted estimators */\n",
       "  --sklearn-color-unfitted-level-0: #fff5e6;\n",
       "  --sklearn-color-unfitted-level-1: #f6e4d2;\n",
       "  --sklearn-color-unfitted-level-2: #ffe0b3;\n",
       "  --sklearn-color-unfitted-level-3: chocolate;\n",
       "  /* Definition of color scheme for fitted estimators */\n",
       "  --sklearn-color-fitted-level-0: #f0f8ff;\n",
       "  --sklearn-color-fitted-level-1: #d4ebff;\n",
       "  --sklearn-color-fitted-level-2: #b3dbfd;\n",
       "  --sklearn-color-fitted-level-3: cornflowerblue;\n",
       "\n",
       "  /* Specific color for light theme */\n",
       "  --sklearn-color-text-on-default-background: var(--sg-text-color, var(--theme-code-foreground, var(--jp-content-font-color1, black)));\n",
       "  --sklearn-color-background: var(--sg-background-color, var(--theme-background, var(--jp-layout-color0, white)));\n",
       "  --sklearn-color-border-box: var(--sg-text-color, var(--theme-code-foreground, var(--jp-content-font-color1, black)));\n",
       "  --sklearn-color-icon: #696969;\n",
       "\n",
       "  @media (prefers-color-scheme: dark) {\n",
       "    /* Redefinition of color scheme for dark theme */\n",
       "    --sklearn-color-text-on-default-background: var(--sg-text-color, var(--theme-code-foreground, var(--jp-content-font-color1, white)));\n",
       "    --sklearn-color-background: var(--sg-background-color, var(--theme-background, var(--jp-layout-color0, #111)));\n",
       "    --sklearn-color-border-box: var(--sg-text-color, var(--theme-code-foreground, var(--jp-content-font-color1, white)));\n",
       "    --sklearn-color-icon: #878787;\n",
       "  }\n",
       "}\n",
       "\n",
       "#sk-container-id-2 {\n",
       "  color: var(--sklearn-color-text);\n",
       "}\n",
       "\n",
       "#sk-container-id-2 pre {\n",
       "  padding: 0;\n",
       "}\n",
       "\n",
       "#sk-container-id-2 input.sk-hidden--visually {\n",
       "  border: 0;\n",
       "  clip: rect(1px 1px 1px 1px);\n",
       "  clip: rect(1px, 1px, 1px, 1px);\n",
       "  height: 1px;\n",
       "  margin: -1px;\n",
       "  overflow: hidden;\n",
       "  padding: 0;\n",
       "  position: absolute;\n",
       "  width: 1px;\n",
       "}\n",
       "\n",
       "#sk-container-id-2 div.sk-dashed-wrapped {\n",
       "  border: 1px dashed var(--sklearn-color-line);\n",
       "  margin: 0 0.4em 0.5em 0.4em;\n",
       "  box-sizing: border-box;\n",
       "  padding-bottom: 0.4em;\n",
       "  background-color: var(--sklearn-color-background);\n",
       "}\n",
       "\n",
       "#sk-container-id-2 div.sk-container {\n",
       "  /* jupyter's `normalize.less` sets `[hidden] { display: none; }`\n",
       "     but bootstrap.min.css set `[hidden] { display: none !important; }`\n",
       "     so we also need the `!important` here to be able to override the\n",
       "     default hidden behavior on the sphinx rendered scikit-learn.org.\n",
       "     See: https://github.com/scikit-learn/scikit-learn/issues/21755 */\n",
       "  display: inline-block !important;\n",
       "  position: relative;\n",
       "}\n",
       "\n",
       "#sk-container-id-2 div.sk-text-repr-fallback {\n",
       "  display: none;\n",
       "}\n",
       "\n",
       "div.sk-parallel-item,\n",
       "div.sk-serial,\n",
       "div.sk-item {\n",
       "  /* draw centered vertical line to link estimators */\n",
       "  background-image: linear-gradient(var(--sklearn-color-text-on-default-background), var(--sklearn-color-text-on-default-background));\n",
       "  background-size: 2px 100%;\n",
       "  background-repeat: no-repeat;\n",
       "  background-position: center center;\n",
       "}\n",
       "\n",
       "/* Parallel-specific style estimator block */\n",
       "\n",
       "#sk-container-id-2 div.sk-parallel-item::after {\n",
       "  content: \"\";\n",
       "  width: 100%;\n",
       "  border-bottom: 2px solid var(--sklearn-color-text-on-default-background);\n",
       "  flex-grow: 1;\n",
       "}\n",
       "\n",
       "#sk-container-id-2 div.sk-parallel {\n",
       "  display: flex;\n",
       "  align-items: stretch;\n",
       "  justify-content: center;\n",
       "  background-color: var(--sklearn-color-background);\n",
       "  position: relative;\n",
       "}\n",
       "\n",
       "#sk-container-id-2 div.sk-parallel-item {\n",
       "  display: flex;\n",
       "  flex-direction: column;\n",
       "}\n",
       "\n",
       "#sk-container-id-2 div.sk-parallel-item:first-child::after {\n",
       "  align-self: flex-end;\n",
       "  width: 50%;\n",
       "}\n",
       "\n",
       "#sk-container-id-2 div.sk-parallel-item:last-child::after {\n",
       "  align-self: flex-start;\n",
       "  width: 50%;\n",
       "}\n",
       "\n",
       "#sk-container-id-2 div.sk-parallel-item:only-child::after {\n",
       "  width: 0;\n",
       "}\n",
       "\n",
       "/* Serial-specific style estimator block */\n",
       "\n",
       "#sk-container-id-2 div.sk-serial {\n",
       "  display: flex;\n",
       "  flex-direction: column;\n",
       "  align-items: center;\n",
       "  background-color: var(--sklearn-color-background);\n",
       "  padding-right: 1em;\n",
       "  padding-left: 1em;\n",
       "}\n",
       "\n",
       "\n",
       "/* Toggleable style: style used for estimator/Pipeline/ColumnTransformer box that is\n",
       "clickable and can be expanded/collapsed.\n",
       "- Pipeline and ColumnTransformer use this feature and define the default style\n",
       "- Estimators will overwrite some part of the style using the `sk-estimator` class\n",
       "*/\n",
       "\n",
       "/* Pipeline and ColumnTransformer style (default) */\n",
       "\n",
       "#sk-container-id-2 div.sk-toggleable {\n",
       "  /* Default theme specific background. It is overwritten whether we have a\n",
       "  specific estimator or a Pipeline/ColumnTransformer */\n",
       "  background-color: var(--sklearn-color-background);\n",
       "}\n",
       "\n",
       "/* Toggleable label */\n",
       "#sk-container-id-2 label.sk-toggleable__label {\n",
       "  cursor: pointer;\n",
       "  display: block;\n",
       "  width: 100%;\n",
       "  margin-bottom: 0;\n",
       "  padding: 0.5em;\n",
       "  box-sizing: border-box;\n",
       "  text-align: center;\n",
       "}\n",
       "\n",
       "#sk-container-id-2 label.sk-toggleable__label-arrow:before {\n",
       "  /* Arrow on the left of the label */\n",
       "  content: \"▸\";\n",
       "  float: left;\n",
       "  margin-right: 0.25em;\n",
       "  color: var(--sklearn-color-icon);\n",
       "}\n",
       "\n",
       "#sk-container-id-2 label.sk-toggleable__label-arrow:hover:before {\n",
       "  color: var(--sklearn-color-text);\n",
       "}\n",
       "\n",
       "/* Toggleable content - dropdown */\n",
       "\n",
       "#sk-container-id-2 div.sk-toggleable__content {\n",
       "  max-height: 0;\n",
       "  max-width: 0;\n",
       "  overflow: hidden;\n",
       "  text-align: left;\n",
       "  /* unfitted */\n",
       "  background-color: var(--sklearn-color-unfitted-level-0);\n",
       "}\n",
       "\n",
       "#sk-container-id-2 div.sk-toggleable__content.fitted {\n",
       "  /* fitted */\n",
       "  background-color: var(--sklearn-color-fitted-level-0);\n",
       "}\n",
       "\n",
       "#sk-container-id-2 div.sk-toggleable__content pre {\n",
       "  margin: 0.2em;\n",
       "  border-radius: 0.25em;\n",
       "  color: var(--sklearn-color-text);\n",
       "  /* unfitted */\n",
       "  background-color: var(--sklearn-color-unfitted-level-0);\n",
       "}\n",
       "\n",
       "#sk-container-id-2 div.sk-toggleable__content.fitted pre {\n",
       "  /* unfitted */\n",
       "  background-color: var(--sklearn-color-fitted-level-0);\n",
       "}\n",
       "\n",
       "#sk-container-id-2 input.sk-toggleable__control:checked~div.sk-toggleable__content {\n",
       "  /* Expand drop-down */\n",
       "  max-height: 200px;\n",
       "  max-width: 100%;\n",
       "  overflow: auto;\n",
       "}\n",
       "\n",
       "#sk-container-id-2 input.sk-toggleable__control:checked~label.sk-toggleable__label-arrow:before {\n",
       "  content: \"▾\";\n",
       "}\n",
       "\n",
       "/* Pipeline/ColumnTransformer-specific style */\n",
       "\n",
       "#sk-container-id-2 div.sk-label input.sk-toggleable__control:checked~label.sk-toggleable__label {\n",
       "  color: var(--sklearn-color-text);\n",
       "  background-color: var(--sklearn-color-unfitted-level-2);\n",
       "}\n",
       "\n",
       "#sk-container-id-2 div.sk-label.fitted input.sk-toggleable__control:checked~label.sk-toggleable__label {\n",
       "  background-color: var(--sklearn-color-fitted-level-2);\n",
       "}\n",
       "\n",
       "/* Estimator-specific style */\n",
       "\n",
       "/* Colorize estimator box */\n",
       "#sk-container-id-2 div.sk-estimator input.sk-toggleable__control:checked~label.sk-toggleable__label {\n",
       "  /* unfitted */\n",
       "  background-color: var(--sklearn-color-unfitted-level-2);\n",
       "}\n",
       "\n",
       "#sk-container-id-2 div.sk-estimator.fitted input.sk-toggleable__control:checked~label.sk-toggleable__label {\n",
       "  /* fitted */\n",
       "  background-color: var(--sklearn-color-fitted-level-2);\n",
       "}\n",
       "\n",
       "#sk-container-id-2 div.sk-label label.sk-toggleable__label,\n",
       "#sk-container-id-2 div.sk-label label {\n",
       "  /* The background is the default theme color */\n",
       "  color: var(--sklearn-color-text-on-default-background);\n",
       "}\n",
       "\n",
       "/* On hover, darken the color of the background */\n",
       "#sk-container-id-2 div.sk-label:hover label.sk-toggleable__label {\n",
       "  color: var(--sklearn-color-text);\n",
       "  background-color: var(--sklearn-color-unfitted-level-2);\n",
       "}\n",
       "\n",
       "/* Label box, darken color on hover, fitted */\n",
       "#sk-container-id-2 div.sk-label.fitted:hover label.sk-toggleable__label.fitted {\n",
       "  color: var(--sklearn-color-text);\n",
       "  background-color: var(--sklearn-color-fitted-level-2);\n",
       "}\n",
       "\n",
       "/* Estimator label */\n",
       "\n",
       "#sk-container-id-2 div.sk-label label {\n",
       "  font-family: monospace;\n",
       "  font-weight: bold;\n",
       "  display: inline-block;\n",
       "  line-height: 1.2em;\n",
       "}\n",
       "\n",
       "#sk-container-id-2 div.sk-label-container {\n",
       "  text-align: center;\n",
       "}\n",
       "\n",
       "/* Estimator-specific */\n",
       "#sk-container-id-2 div.sk-estimator {\n",
       "  font-family: monospace;\n",
       "  border: 1px dotted var(--sklearn-color-border-box);\n",
       "  border-radius: 0.25em;\n",
       "  box-sizing: border-box;\n",
       "  margin-bottom: 0.5em;\n",
       "  /* unfitted */\n",
       "  background-color: var(--sklearn-color-unfitted-level-0);\n",
       "}\n",
       "\n",
       "#sk-container-id-2 div.sk-estimator.fitted {\n",
       "  /* fitted */\n",
       "  background-color: var(--sklearn-color-fitted-level-0);\n",
       "}\n",
       "\n",
       "/* on hover */\n",
       "#sk-container-id-2 div.sk-estimator:hover {\n",
       "  /* unfitted */\n",
       "  background-color: var(--sklearn-color-unfitted-level-2);\n",
       "}\n",
       "\n",
       "#sk-container-id-2 div.sk-estimator.fitted:hover {\n",
       "  /* fitted */\n",
       "  background-color: var(--sklearn-color-fitted-level-2);\n",
       "}\n",
       "\n",
       "/* Specification for estimator info (e.g. \"i\" and \"?\") */\n",
       "\n",
       "/* Common style for \"i\" and \"?\" */\n",
       "\n",
       ".sk-estimator-doc-link,\n",
       "a:link.sk-estimator-doc-link,\n",
       "a:visited.sk-estimator-doc-link {\n",
       "  float: right;\n",
       "  font-size: smaller;\n",
       "  line-height: 1em;\n",
       "  font-family: monospace;\n",
       "  background-color: var(--sklearn-color-background);\n",
       "  border-radius: 1em;\n",
       "  height: 1em;\n",
       "  width: 1em;\n",
       "  text-decoration: none !important;\n",
       "  margin-left: 1ex;\n",
       "  /* unfitted */\n",
       "  border: var(--sklearn-color-unfitted-level-1) 1pt solid;\n",
       "  color: var(--sklearn-color-unfitted-level-1);\n",
       "}\n",
       "\n",
       ".sk-estimator-doc-link.fitted,\n",
       "a:link.sk-estimator-doc-link.fitted,\n",
       "a:visited.sk-estimator-doc-link.fitted {\n",
       "  /* fitted */\n",
       "  border: var(--sklearn-color-fitted-level-1) 1pt solid;\n",
       "  color: var(--sklearn-color-fitted-level-1);\n",
       "}\n",
       "\n",
       "/* On hover */\n",
       "div.sk-estimator:hover .sk-estimator-doc-link:hover,\n",
       ".sk-estimator-doc-link:hover,\n",
       "div.sk-label-container:hover .sk-estimator-doc-link:hover,\n",
       ".sk-estimator-doc-link:hover {\n",
       "  /* unfitted */\n",
       "  background-color: var(--sklearn-color-unfitted-level-3);\n",
       "  color: var(--sklearn-color-background);\n",
       "  text-decoration: none;\n",
       "}\n",
       "\n",
       "div.sk-estimator.fitted:hover .sk-estimator-doc-link.fitted:hover,\n",
       ".sk-estimator-doc-link.fitted:hover,\n",
       "div.sk-label-container:hover .sk-estimator-doc-link.fitted:hover,\n",
       ".sk-estimator-doc-link.fitted:hover {\n",
       "  /* fitted */\n",
       "  background-color: var(--sklearn-color-fitted-level-3);\n",
       "  color: var(--sklearn-color-background);\n",
       "  text-decoration: none;\n",
       "}\n",
       "\n",
       "/* Span, style for the box shown on hovering the info icon */\n",
       ".sk-estimator-doc-link span {\n",
       "  display: none;\n",
       "  z-index: 9999;\n",
       "  position: relative;\n",
       "  font-weight: normal;\n",
       "  right: .2ex;\n",
       "  padding: .5ex;\n",
       "  margin: .5ex;\n",
       "  width: min-content;\n",
       "  min-width: 20ex;\n",
       "  max-width: 50ex;\n",
       "  color: var(--sklearn-color-text);\n",
       "  box-shadow: 2pt 2pt 4pt #999;\n",
       "  /* unfitted */\n",
       "  background: var(--sklearn-color-unfitted-level-0);\n",
       "  border: .5pt solid var(--sklearn-color-unfitted-level-3);\n",
       "}\n",
       "\n",
       ".sk-estimator-doc-link.fitted span {\n",
       "  /* fitted */\n",
       "  background: var(--sklearn-color-fitted-level-0);\n",
       "  border: var(--sklearn-color-fitted-level-3);\n",
       "}\n",
       "\n",
       ".sk-estimator-doc-link:hover span {\n",
       "  display: block;\n",
       "}\n",
       "\n",
       "/* \"?\"-specific style due to the `<a>` HTML tag */\n",
       "\n",
       "#sk-container-id-2 a.estimator_doc_link {\n",
       "  float: right;\n",
       "  font-size: 1rem;\n",
       "  line-height: 1em;\n",
       "  font-family: monospace;\n",
       "  background-color: var(--sklearn-color-background);\n",
       "  border-radius: 1rem;\n",
       "  height: 1rem;\n",
       "  width: 1rem;\n",
       "  text-decoration: none;\n",
       "  /* unfitted */\n",
       "  color: var(--sklearn-color-unfitted-level-1);\n",
       "  border: var(--sklearn-color-unfitted-level-1) 1pt solid;\n",
       "}\n",
       "\n",
       "#sk-container-id-2 a.estimator_doc_link.fitted {\n",
       "  /* fitted */\n",
       "  border: var(--sklearn-color-fitted-level-1) 1pt solid;\n",
       "  color: var(--sklearn-color-fitted-level-1);\n",
       "}\n",
       "\n",
       "/* On hover */\n",
       "#sk-container-id-2 a.estimator_doc_link:hover {\n",
       "  /* unfitted */\n",
       "  background-color: var(--sklearn-color-unfitted-level-3);\n",
       "  color: var(--sklearn-color-background);\n",
       "  text-decoration: none;\n",
       "}\n",
       "\n",
       "#sk-container-id-2 a.estimator_doc_link.fitted:hover {\n",
       "  /* fitted */\n",
       "  background-color: var(--sklearn-color-fitted-level-3);\n",
       "}\n",
       "</style><div id=\"sk-container-id-2\" class=\"sk-top-container\"><div class=\"sk-text-repr-fallback\"><pre>GridSearchCV(cv=5, estimator=SVC(random_state=42), n_jobs=-1,\n",
       "             param_grid={&#x27;C&#x27;: [0.1, 1, 10], &#x27;gamma&#x27;: [&#x27;scale&#x27;, &#x27;auto&#x27;],\n",
       "                         &#x27;kernel&#x27;: [&#x27;linear&#x27;, &#x27;rbf&#x27;, &#x27;poly&#x27;]},\n",
       "             scoring=&#x27;accuracy&#x27;)</pre><b>In a Jupyter environment, please rerun this cell to show the HTML representation or trust the notebook. <br />On GitHub, the HTML representation is unable to render, please try loading this page with nbviewer.org.</b></div><div class=\"sk-container\" hidden><div class=\"sk-item sk-dashed-wrapped\"><div class=\"sk-label-container\"><div class=\"sk-label fitted sk-toggleable\"><input class=\"sk-toggleable__control sk-hidden--visually\" id=\"sk-estimator-id-4\" type=\"checkbox\" ><label for=\"sk-estimator-id-4\" class=\"sk-toggleable__label fitted sk-toggleable__label-arrow fitted\">&nbsp;&nbsp;GridSearchCV<a class=\"sk-estimator-doc-link fitted\" rel=\"noreferrer\" target=\"_blank\" href=\"https://scikit-learn.org/1.4/modules/generated/sklearn.model_selection.GridSearchCV.html\">?<span>Documentation for GridSearchCV</span></a><span class=\"sk-estimator-doc-link fitted\">i<span>Fitted</span></span></label><div class=\"sk-toggleable__content fitted\"><pre>GridSearchCV(cv=5, estimator=SVC(random_state=42), n_jobs=-1,\n",
       "             param_grid={&#x27;C&#x27;: [0.1, 1, 10], &#x27;gamma&#x27;: [&#x27;scale&#x27;, &#x27;auto&#x27;],\n",
       "                         &#x27;kernel&#x27;: [&#x27;linear&#x27;, &#x27;rbf&#x27;, &#x27;poly&#x27;]},\n",
       "             scoring=&#x27;accuracy&#x27;)</pre></div> </div></div><div class=\"sk-parallel\"><div class=\"sk-parallel-item\"><div class=\"sk-item\"><div class=\"sk-label-container\"><div class=\"sk-label fitted sk-toggleable\"><input class=\"sk-toggleable__control sk-hidden--visually\" id=\"sk-estimator-id-5\" type=\"checkbox\" ><label for=\"sk-estimator-id-5\" class=\"sk-toggleable__label fitted sk-toggleable__label-arrow fitted\">estimator: SVC</label><div class=\"sk-toggleable__content fitted\"><pre>SVC(random_state=42)</pre></div> </div></div><div class=\"sk-serial\"><div class=\"sk-item\"><div class=\"sk-estimator fitted sk-toggleable\"><input class=\"sk-toggleable__control sk-hidden--visually\" id=\"sk-estimator-id-6\" type=\"checkbox\" ><label for=\"sk-estimator-id-6\" class=\"sk-toggleable__label fitted sk-toggleable__label-arrow fitted\">&nbsp;SVC<a class=\"sk-estimator-doc-link fitted\" rel=\"noreferrer\" target=\"_blank\" href=\"https://scikit-learn.org/1.4/modules/generated/sklearn.svm.SVC.html\">?<span>Documentation for SVC</span></a></label><div class=\"sk-toggleable__content fitted\"><pre>SVC(random_state=42)</pre></div> </div></div></div></div></div></div></div></div></div>"
      ],
      "text/plain": [
       "GridSearchCV(cv=5, estimator=SVC(random_state=42), n_jobs=-1,\n",
       "             param_grid={'C': [0.1, 1, 10], 'gamma': ['scale', 'auto'],\n",
       "                         'kernel': ['linear', 'rbf', 'poly']},\n",
       "             scoring='accuracy')"
      ]
     },
     "execution_count": 66,
     "metadata": {},
     "output_type": "execute_result"
    }
   ],
   "source": [
    "# GridSearch with cross-validation\n",
    "grid_search = GridSearchCV(estimator=svm, param_grid=param_grid, cv=5, scoring='accuracy', n_jobs=-1)\n",
    "grid_search.fit(X_train, y_train)"
   ]
  },
  {
   "cell_type": "code",
   "execution_count": 67,
   "metadata": {},
   "outputs": [],
   "source": [
    "# looking for best model and parameters\n",
    "best_model = grid_search.best_estimator_\n",
    "best_params = grid_search.best_params_"
   ]
  },
  {
   "cell_type": "code",
   "execution_count": 68,
   "metadata": {},
   "outputs": [],
   "source": [
    "# Evaluating the best model on the test set\n",
    "test_score = best_model.score(X_test, y_test)"
   ]
  },
  {
   "cell_type": "code",
   "execution_count": 69,
   "metadata": {},
   "outputs": [
    {
     "name": "stdout",
     "output_type": "stream",
     "text": [
      "Best Hyperparameters: {'C': 0.1, 'gamma': 'scale', 'kernel': 'linear'}\n",
      "Testing Accuracy: 0.7708\n"
     ]
    }
   ],
   "source": [
    "print(f\"Best Hyperparameters: {best_params}\")\n",
    "print(f\"Testing Accuracy: {test_score:.4f}\")"
   ]
  },
  {
   "cell_type": "markdown",
   "metadata": {},
   "source": [
    "### Analysis of SupportVectorMachine Hyperparameters\n",
    "- A smaller c (c = 0.1) means higher regularization, which allows a wider margin and tolerates more misclassifications on the training set to prevent overfitting. This suggests that a simpler model was better suited for the data.\n",
    "- For the linear kernel, gamma is not directly relevant as it influences non-linear kernels like rbf or poly.\n",
    "- The linear kernel assumes the classes are linearly separable in the feature space. This choice indicates the data did not require complex non-linear transformations to achieve reasonable accuracy."
   ]
  },
  {
   "cell_type": "markdown",
   "metadata": {},
   "source": [
    "### Testing Accuracy\n",
    "- A testing accuracy of 0.7708 means that the SVM model correctly predicted fire size categories for 77.08% of the test samples. The model seems to generalize fairly well to unseen data; however, there may still be room for improvement, especially for underrepresented or complex categories."
   ]
  },
  {
   "cell_type": "markdown",
   "metadata": {},
   "source": [
    "### Potential Improvements\n",
    "Generally, if there's a class imbalance among the fire size categories,the accuracy metric may not fully represent the model's ability to predict all classes equally. We know that the majority of fire sizes fall in the '0-0.99 Acres' category, and this might skew the accuracy.\n",
    "\n",
    "We've attempted multiple times to improve the performance of this model:\n",
    "- we adjusted the model with \"class_weight='balanced'\" to assign higher weights to underrepresented classes; however, this significantly reduced the model testing accuracy to 48.23%.\n",
    "- we expanded the c values to C: [0.01, 0.1, 1, 10,100]; however, due to computational power, the kernel would load for a long time and then fail.\n",
    "- we reduced test size to 10%, giving the model more data to learn from; however, for some reason, this version also would take too long to load, and kernel would crash."
   ]
  },
  {
   "cell_type": "markdown",
   "metadata": {},
   "source": [
    "### Confusion Matrix & Classification Report\n",
    "We're computing a confusion matrix to see which fire size categories are most/least accurately predicted."
   ]
  },
  {
   "cell_type": "code",
   "execution_count": 70,
   "metadata": {},
   "outputs": [],
   "source": [
    "# Computing confusion matrix\n",
    "y_pred = best_model.predict(X_test)\n",
    "conf_matrix = confusion_matrix(y_test, y_pred, labels=y.unique())"
   ]
  },
  {
   "cell_type": "code",
   "execution_count": 71,
   "metadata": {},
   "outputs": [
    {
     "data": {
      "image/png": "[encoded data removed]",
      "text/plain": [
       "<Figure size 1000x700 with 2 Axes>"
      ]
     },
     "metadata": {},
     "output_type": "display_data"
    }
   ],
   "source": [
    "# Plotting confusion matrix\n",
    "plt.figure(figsize=(10, 7))\n",
    "sns.heatmap(conf_matrix, annot=True, fmt='d', cmap='Blues', xticklabels=y.unique(), yticklabels=y.unique())\n",
    "plt.title('Confusion Matrix')\n",
    "plt.xlabel('Predicted Labels')\n",
    "plt.ylabel('True Labels')\n",
    "plt.show()"
   ]
  },
  {
   "cell_type": "code",
   "execution_count": 72,
   "metadata": {},
   "outputs": [
    {
     "name": "stdout",
     "output_type": "stream",
     "text": [
      "Classification Report:\n",
      "                           precision    recall  f1-score   support\n",
      "\n",
      "            0-0.99 Acres       0.77      1.00      0.87       807\n",
      "            1-9.99 Acres       0.00      0.00      0.00       197\n",
      "           10-99.9 Acres       0.00      0.00      0.00        31\n",
      "         100-999.9 Acres       0.00      0.00      0.00         7\n",
      "1000-5000 Acres and more       0.00      0.00      0.00         1\n",
      "                 Unknown       0.00      0.00      0.00         4\n",
      "\n",
      "                accuracy                           0.77      1047\n",
      "               macro avg       0.13      0.17      0.15      1047\n",
      "            weighted avg       0.59      0.77      0.67      1047\n",
      "\n"
     ]
    },
    {
     "name": "stderr",
     "output_type": "stream",
     "text": [
      "/srv/conda/lib/python3.11/site-packages/sklearn/metrics/_classification.py:1509: UndefinedMetricWarning: Precision is ill-defined and being set to 0.0 in labels with no predicted samples. Use `zero_division` parameter to control this behavior.\n",
      "  _warn_prf(average, modifier, f\"{metric.capitalize()} is\", len(result))\n",
      "/srv/conda/lib/python3.11/site-packages/sklearn/metrics/_classification.py:1509: UndefinedMetricWarning: Precision is ill-defined and being set to 0.0 in labels with no predicted samples. Use `zero_division` parameter to control this behavior.\n",
      "  _warn_prf(average, modifier, f\"{metric.capitalize()} is\", len(result))\n",
      "/srv/conda/lib/python3.11/site-packages/sklearn/metrics/_classification.py:1509: UndefinedMetricWarning: Precision is ill-defined and being set to 0.0 in labels with no predicted samples. Use `zero_division` parameter to control this behavior.\n",
      "  _warn_prf(average, modifier, f\"{metric.capitalize()} is\", len(result))\n"
     ]
    }
   ],
   "source": [
    "# Print classification report\n",
    "print(\"Classification Report:\\n\", classification_report(y_test, y_pred))"
   ]
  },
  {
   "cell_type": "markdown",
   "metadata": {},
   "source": [
    "### Analysis\n",
    "#### Confusion Matrix\n",
    "The confusion matrix indicates a good performance for the category \"0-0.99 Acres\". This is reasonable as we know the majorty of the data points fall in such category. Unofrtunaly, the remaining 'True categories' on the y-axis are misclassified as '0-0.99 Acres'. This suggests the model struggles to distinguish between these similar classes.\n",
    "\n",
    "#### Classification Report\n",
    "The only fire category showing high precision (it's correct 77% of the time) and perfect recall is '0-0.99 Acres'. The strong balance between precision and recall gives this class a high overall performance. Unfortunately, the model fails to correctly predict any instances of fire sizes other than '0-0.99 Acres'. Possible reasons for this trend is that these classes have significantly fewer samples.\n",
    "\n",
    "Lastly, the significant class imbalance among fire size classes dictates the performance of this model. Minority classes like '1000-5000 Acres and more' and 'Unknown' have too few samples for the model to learn meaningful patterns. However, for the sake of our project objective, we find it reasonable to focus on small fires that take place new power facilities."
   ]
  },
  {
   "cell_type": "markdown",
   "metadata": {},
   "source": [
    "## K-Nearest Neighbor Model"
   ]
  },
  {
   "cell_type": "code",
   "execution_count": 73,
   "metadata": {},
   "outputs": [],
   "source": [
    "# Importing necessary libraries for KNN\n",
    "from sklearn.model_selection import train_test_split, GridSearchCV\n",
    "from sklearn.preprocessing import StandardScaler\n",
    "from sklearn.neighbors import KNeighborsClassifier\n",
    "from sklearn.metrics import classification_report, accuracy_score\n",
    "import pandas as pd"
   ]
  },
  {
   "cell_type": "code",
   "execution_count": 74,
   "metadata": {},
   "outputs": [],
   "source": [
    "#loading a dataset derived from the previous manipulatons performed above, it contains all columns, already formatted and hot-encoded\n",
    "fire_df = pd.read_csv('ricc.csv')"
   ]
  },
  {
   "cell_type": "markdown",
   "metadata": {},
   "source": [
    "Using slightly different way to package my target variable and features"
   ]
  },
  {
   "cell_type": "code",
   "execution_count": 75,
   "metadata": {},
   "outputs": [],
   "source": [
    "# Preparing target and features\n",
    "target_columns = [\n",
    "    'Size_0-0.99 Acres', 'Size_1-9.99 Acres', 'Size_10-99.9 Acres', \n",
    "    'Size_100-999.9 Acres', 'Size_1000-5000 Acres and more', 'Size_Unknown'\n",
    "]\n",
    "features = fire_df.drop(columns=target_columns)\n",
    "target = fire_df[target_columns].idxmax(axis=1)  # Converting one-hot encoded target to single labels"
   ]
  },
  {
   "cell_type": "code",
   "execution_count": 76,
   "metadata": {},
   "outputs": [],
   "source": [
    "# Splitting the data into train and test sets\n",
    "# # 80% of the data is being used for training the model, 20% for testing\n",
    "X_train, X_test, y_train, y_test = train_test_split(features, target, test_size=0.2, random_state=42)"
   ]
  },
  {
   "cell_type": "code",
   "execution_count": 77,
   "metadata": {},
   "outputs": [],
   "source": [
    "# Scaling the features for KNN\n",
    "scaler = StandardScaler()\n",
    "X_train_scaled = scaler.fit_transform(X_train)\n",
    "X_test_scaled = scaler.transform(X_test)"
   ]
  },
  {
   "cell_type": "code",
   "execution_count": 78,
   "metadata": {},
   "outputs": [],
   "source": [
    "# Hyperparameter tuning for KNN\n",
    "param_grid = {'n_neighbors': list(range(1, 11))}  # Reduced range for efficiency\n",
    "knn = KNeighborsClassifier()"
   ]
  },
  {
   "cell_type": "code",
   "execution_count": 79,
   "metadata": {},
   "outputs": [
    {
     "name": "stdout",
     "output_type": "stream",
     "text": [
      "Fitting 3 folds for each of 10 candidates, totalling 30 fits\n"
     ]
    },
    {
     "data": {
      "text/html": [
       "<style>#sk-container-id-3 {\n",
       "  /* Definition of color scheme common for light and dark mode */\n",
       "  --sklearn-color-text: black;\n",
       "  --sklearn-color-line: gray;\n",
       "  /* Definition of color scheme for unfitted estimators */\n",
       "  --sklearn-color-unfitted-level-0: #fff5e6;\n",
       "  --sklearn-color-unfitted-level-1: #f6e4d2;\n",
       "  --sklearn-color-unfitted-level-2: #ffe0b3;\n",
       "  --sklearn-color-unfitted-level-3: chocolate;\n",
       "  /* Definition of color scheme for fitted estimators */\n",
       "  --sklearn-color-fitted-level-0: #f0f8ff;\n",
       "  --sklearn-color-fitted-level-1: #d4ebff;\n",
       "  --sklearn-color-fitted-level-2: #b3dbfd;\n",
       "  --sklearn-color-fitted-level-3: cornflowerblue;\n",
       "\n",
       "  /* Specific color for light theme */\n",
       "  --sklearn-color-text-on-default-background: var(--sg-text-color, var(--theme-code-foreground, var(--jp-content-font-color1, black)));\n",
       "  --sklearn-color-background: var(--sg-background-color, var(--theme-background, var(--jp-layout-color0, white)));\n",
       "  --sklearn-color-border-box: var(--sg-text-color, var(--theme-code-foreground, var(--jp-content-font-color1, black)));\n",
       "  --sklearn-color-icon: #696969;\n",
       "\n",
       "  @media (prefers-color-scheme: dark) {\n",
       "    /* Redefinition of color scheme for dark theme */\n",
       "    --sklearn-color-text-on-default-background: var(--sg-text-color, var(--theme-code-foreground, var(--jp-content-font-color1, white)));\n",
       "    --sklearn-color-background: var(--sg-background-color, var(--theme-background, var(--jp-layout-color0, #111)));\n",
       "    --sklearn-color-border-box: var(--sg-text-color, var(--theme-code-foreground, var(--jp-content-font-color1, white)));\n",
       "    --sklearn-color-icon: #878787;\n",
       "  }\n",
       "}\n",
       "\n",
       "#sk-container-id-3 {\n",
       "  color: var(--sklearn-color-text);\n",
       "}\n",
       "\n",
       "#sk-container-id-3 pre {\n",
       "  padding: 0;\n",
       "}\n",
       "\n",
       "#sk-container-id-3 input.sk-hidden--visually {\n",
       "  border: 0;\n",
       "  clip: rect(1px 1px 1px 1px);\n",
       "  clip: rect(1px, 1px, 1px, 1px);\n",
       "  height: 1px;\n",
       "  margin: -1px;\n",
       "  overflow: hidden;\n",
       "  padding: 0;\n",
       "  position: absolute;\n",
       "  width: 1px;\n",
       "}\n",
       "\n",
       "#sk-container-id-3 div.sk-dashed-wrapped {\n",
       "  border: 1px dashed var(--sklearn-color-line);\n",
       "  margin: 0 0.4em 0.5em 0.4em;\n",
       "  box-sizing: border-box;\n",
       "  padding-bottom: 0.4em;\n",
       "  background-color: var(--sklearn-color-background);\n",
       "}\n",
       "\n",
       "#sk-container-id-3 div.sk-container {\n",
       "  /* jupyter's `normalize.less` sets `[hidden] { display: none; }`\n",
       "     but bootstrap.min.css set `[hidden] { display: none !important; }`\n",
       "     so we also need the `!important` here to be able to override the\n",
       "     default hidden behavior on the sphinx rendered scikit-learn.org.\n",
       "     See: https://github.com/scikit-learn/scikit-learn/issues/21755 */\n",
       "  display: inline-block !important;\n",
       "  position: relative;\n",
       "}\n",
       "\n",
       "#sk-container-id-3 div.sk-text-repr-fallback {\n",
       "  display: none;\n",
       "}\n",
       "\n",
       "div.sk-parallel-item,\n",
       "div.sk-serial,\n",
       "div.sk-item {\n",
       "  /* draw centered vertical line to link estimators */\n",
       "  background-image: linear-gradient(var(--sklearn-color-text-on-default-background), var(--sklearn-color-text-on-default-background));\n",
       "  background-size: 2px 100%;\n",
       "  background-repeat: no-repeat;\n",
       "  background-position: center center;\n",
       "}\n",
       "\n",
       "/* Parallel-specific style estimator block */\n",
       "\n",
       "#sk-container-id-3 div.sk-parallel-item::after {\n",
       "  content: \"\";\n",
       "  width: 100%;\n",
       "  border-bottom: 2px solid var(--sklearn-color-text-on-default-background);\n",
       "  flex-grow: 1;\n",
       "}\n",
       "\n",
       "#sk-container-id-3 div.sk-parallel {\n",
       "  display: flex;\n",
       "  align-items: stretch;\n",
       "  justify-content: center;\n",
       "  background-color: var(--sklearn-color-background);\n",
       "  position: relative;\n",
       "}\n",
       "\n",
       "#sk-container-id-3 div.sk-parallel-item {\n",
       "  display: flex;\n",
       "  flex-direction: column;\n",
       "}\n",
       "\n",
       "#sk-container-id-3 div.sk-parallel-item:first-child::after {\n",
       "  align-self: flex-end;\n",
       "  width: 50%;\n",
       "}\n",
       "\n",
       "#sk-container-id-3 div.sk-parallel-item:last-child::after {\n",
       "  align-self: flex-start;\n",
       "  width: 50%;\n",
       "}\n",
       "\n",
       "#sk-container-id-3 div.sk-parallel-item:only-child::after {\n",
       "  width: 0;\n",
       "}\n",
       "\n",
       "/* Serial-specific style estimator block */\n",
       "\n",
       "#sk-container-id-3 div.sk-serial {\n",
       "  display: flex;\n",
       "  flex-direction: column;\n",
       "  align-items: center;\n",
       "  background-color: var(--sklearn-color-background);\n",
       "  padding-right: 1em;\n",
       "  padding-left: 1em;\n",
       "}\n",
       "\n",
       "\n",
       "/* Toggleable style: style used for estimator/Pipeline/ColumnTransformer box that is\n",
       "clickable and can be expanded/collapsed.\n",
       "- Pipeline and ColumnTransformer use this feature and define the default style\n",
       "- Estimators will overwrite some part of the style using the `sk-estimator` class\n",
       "*/\n",
       "\n",
       "/* Pipeline and ColumnTransformer style (default) */\n",
       "\n",
       "#sk-container-id-3 div.sk-toggleable {\n",
       "  /* Default theme specific background. It is overwritten whether we have a\n",
       "  specific estimator or a Pipeline/ColumnTransformer */\n",
       "  background-color: var(--sklearn-color-background);\n",
       "}\n",
       "\n",
       "/* Toggleable label */\n",
       "#sk-container-id-3 label.sk-toggleable__label {\n",
       "  cursor: pointer;\n",
       "  display: block;\n",
       "  width: 100%;\n",
       "  margin-bottom: 0;\n",
       "  padding: 0.5em;\n",
       "  box-sizing: border-box;\n",
       "  text-align: center;\n",
       "}\n",
       "\n",
       "#sk-container-id-3 label.sk-toggleable__label-arrow:before {\n",
       "  /* Arrow on the left of the label */\n",
       "  content: \"▸\";\n",
       "  float: left;\n",
       "  margin-right: 0.25em;\n",
       "  color: var(--sklearn-color-icon);\n",
       "}\n",
       "\n",
       "#sk-container-id-3 label.sk-toggleable__label-arrow:hover:before {\n",
       "  color: var(--sklearn-color-text);\n",
       "}\n",
       "\n",
       "/* Toggleable content - dropdown */\n",
       "\n",
       "#sk-container-id-3 div.sk-toggleable__content {\n",
       "  max-height: 0;\n",
       "  max-width: 0;\n",
       "  overflow: hidden;\n",
       "  text-align: left;\n",
       "  /* unfitted */\n",
       "  background-color: var(--sklearn-color-unfitted-level-0);\n",
       "}\n",
       "\n",
       "#sk-container-id-3 div.sk-toggleable__content.fitted {\n",
       "  /* fitted */\n",
       "  background-color: var(--sklearn-color-fitted-level-0);\n",
       "}\n",
       "\n",
       "#sk-container-id-3 div.sk-toggleable__content pre {\n",
       "  margin: 0.2em;\n",
       "  border-radius: 0.25em;\n",
       "  color: var(--sklearn-color-text);\n",
       "  /* unfitted */\n",
       "  background-color: var(--sklearn-color-unfitted-level-0);\n",
       "}\n",
       "\n",
       "#sk-container-id-3 div.sk-toggleable__content.fitted pre {\n",
       "  /* unfitted */\n",
       "  background-color: var(--sklearn-color-fitted-level-0);\n",
       "}\n",
       "\n",
       "#sk-container-id-3 input.sk-toggleable__control:checked~div.sk-toggleable__content {\n",
       "  /* Expand drop-down */\n",
       "  max-height: 200px;\n",
       "  max-width: 100%;\n",
       "  overflow: auto;\n",
       "}\n",
       "\n",
       "#sk-container-id-3 input.sk-toggleable__control:checked~label.sk-toggleable__label-arrow:before {\n",
       "  content: \"▾\";\n",
       "}\n",
       "\n",
       "/* Pipeline/ColumnTransformer-specific style */\n",
       "\n",
       "#sk-container-id-3 div.sk-label input.sk-toggleable__control:checked~label.sk-toggleable__label {\n",
       "  color: var(--sklearn-color-text);\n",
       "  background-color: var(--sklearn-color-unfitted-level-2);\n",
       "}\n",
       "\n",
       "#sk-container-id-3 div.sk-label.fitted input.sk-toggleable__control:checked~label.sk-toggleable__label {\n",
       "  background-color: var(--sklearn-color-fitted-level-2);\n",
       "}\n",
       "\n",
       "/* Estimator-specific style */\n",
       "\n",
       "/* Colorize estimator box */\n",
       "#sk-container-id-3 div.sk-estimator input.sk-toggleable__control:checked~label.sk-toggleable__label {\n",
       "  /* unfitted */\n",
       "  background-color: var(--sklearn-color-unfitted-level-2);\n",
       "}\n",
       "\n",
       "#sk-container-id-3 div.sk-estimator.fitted input.sk-toggleable__control:checked~label.sk-toggleable__label {\n",
       "  /* fitted */\n",
       "  background-color: var(--sklearn-color-fitted-level-2);\n",
       "}\n",
       "\n",
       "#sk-container-id-3 div.sk-label label.sk-toggleable__label,\n",
       "#sk-container-id-3 div.sk-label label {\n",
       "  /* The background is the default theme color */\n",
       "  color: var(--sklearn-color-text-on-default-background);\n",
       "}\n",
       "\n",
       "/* On hover, darken the color of the background */\n",
       "#sk-container-id-3 div.sk-label:hover label.sk-toggleable__label {\n",
       "  color: var(--sklearn-color-text);\n",
       "  background-color: var(--sklearn-color-unfitted-level-2);\n",
       "}\n",
       "\n",
       "/* Label box, darken color on hover, fitted */\n",
       "#sk-container-id-3 div.sk-label.fitted:hover label.sk-toggleable__label.fitted {\n",
       "  color: var(--sklearn-color-text);\n",
       "  background-color: var(--sklearn-color-fitted-level-2);\n",
       "}\n",
       "\n",
       "/* Estimator label */\n",
       "\n",
       "#sk-container-id-3 div.sk-label label {\n",
       "  font-family: monospace;\n",
       "  font-weight: bold;\n",
       "  display: inline-block;\n",
       "  line-height: 1.2em;\n",
       "}\n",
       "\n",
       "#sk-container-id-3 div.sk-label-container {\n",
       "  text-align: center;\n",
       "}\n",
       "\n",
       "/* Estimator-specific */\n",
       "#sk-container-id-3 div.sk-estimator {\n",
       "  font-family: monospace;\n",
       "  border: 1px dotted var(--sklearn-color-border-box);\n",
       "  border-radius: 0.25em;\n",
       "  box-sizing: border-box;\n",
       "  margin-bottom: 0.5em;\n",
       "  /* unfitted */\n",
       "  background-color: var(--sklearn-color-unfitted-level-0);\n",
       "}\n",
       "\n",
       "#sk-container-id-3 div.sk-estimator.fitted {\n",
       "  /* fitted */\n",
       "  background-color: var(--sklearn-color-fitted-level-0);\n",
       "}\n",
       "\n",
       "/* on hover */\n",
       "#sk-container-id-3 div.sk-estimator:hover {\n",
       "  /* unfitted */\n",
       "  background-color: var(--sklearn-color-unfitted-level-2);\n",
       "}\n",
       "\n",
       "#sk-container-id-3 div.sk-estimator.fitted:hover {\n",
       "  /* fitted */\n",
       "  background-color: var(--sklearn-color-fitted-level-2);\n",
       "}\n",
       "\n",
       "/* Specification for estimator info (e.g. \"i\" and \"?\") */\n",
       "\n",
       "/* Common style for \"i\" and \"?\" */\n",
       "\n",
       ".sk-estimator-doc-link,\n",
       "a:link.sk-estimator-doc-link,\n",
       "a:visited.sk-estimator-doc-link {\n",
       "  float: right;\n",
       "  font-size: smaller;\n",
       "  line-height: 1em;\n",
       "  font-family: monospace;\n",
       "  background-color: var(--sklearn-color-background);\n",
       "  border-radius: 1em;\n",
       "  height: 1em;\n",
       "  width: 1em;\n",
       "  text-decoration: none !important;\n",
       "  margin-left: 1ex;\n",
       "  /* unfitted */\n",
       "  border: var(--sklearn-color-unfitted-level-1) 1pt solid;\n",
       "  color: var(--sklearn-color-unfitted-level-1);\n",
       "}\n",
       "\n",
       ".sk-estimator-doc-link.fitted,\n",
       "a:link.sk-estimator-doc-link.fitted,\n",
       "a:visited.sk-estimator-doc-link.fitted {\n",
       "  /* fitted */\n",
       "  border: var(--sklearn-color-fitted-level-1) 1pt solid;\n",
       "  color: var(--sklearn-color-fitted-level-1);\n",
       "}\n",
       "\n",
       "/* On hover */\n",
       "div.sk-estimator:hover .sk-estimator-doc-link:hover,\n",
       ".sk-estimator-doc-link:hover,\n",
       "div.sk-label-container:hover .sk-estimator-doc-link:hover,\n",
       ".sk-estimator-doc-link:hover {\n",
       "  /* unfitted */\n",
       "  background-color: var(--sklearn-color-unfitted-level-3);\n",
       "  color: var(--sklearn-color-background);\n",
       "  text-decoration: none;\n",
       "}\n",
       "\n",
       "div.sk-estimator.fitted:hover .sk-estimator-doc-link.fitted:hover,\n",
       ".sk-estimator-doc-link.fitted:hover,\n",
       "div.sk-label-container:hover .sk-estimator-doc-link.fitted:hover,\n",
       ".sk-estimator-doc-link.fitted:hover {\n",
       "  /* fitted */\n",
       "  background-color: var(--sklearn-color-fitted-level-3);\n",
       "  color: var(--sklearn-color-background);\n",
       "  text-decoration: none;\n",
       "}\n",
       "\n",
       "/* Span, style for the box shown on hovering the info icon */\n",
       ".sk-estimator-doc-link span {\n",
       "  display: none;\n",
       "  z-index: 9999;\n",
       "  position: relative;\n",
       "  font-weight: normal;\n",
       "  right: .2ex;\n",
       "  padding: .5ex;\n",
       "  margin: .5ex;\n",
       "  width: min-content;\n",
       "  min-width: 20ex;\n",
       "  max-width: 50ex;\n",
       "  color: var(--sklearn-color-text);\n",
       "  box-shadow: 2pt 2pt 4pt #999;\n",
       "  /* unfitted */\n",
       "  background: var(--sklearn-color-unfitted-level-0);\n",
       "  border: .5pt solid var(--sklearn-color-unfitted-level-3);\n",
       "}\n",
       "\n",
       ".sk-estimator-doc-link.fitted span {\n",
       "  /* fitted */\n",
       "  background: var(--sklearn-color-fitted-level-0);\n",
       "  border: var(--sklearn-color-fitted-level-3);\n",
       "}\n",
       "\n",
       ".sk-estimator-doc-link:hover span {\n",
       "  display: block;\n",
       "}\n",
       "\n",
       "/* \"?\"-specific style due to the `<a>` HTML tag */\n",
       "\n",
       "#sk-container-id-3 a.estimator_doc_link {\n",
       "  float: right;\n",
       "  font-size: 1rem;\n",
       "  line-height: 1em;\n",
       "  font-family: monospace;\n",
       "  background-color: var(--sklearn-color-background);\n",
       "  border-radius: 1rem;\n",
       "  height: 1rem;\n",
       "  width: 1rem;\n",
       "  text-decoration: none;\n",
       "  /* unfitted */\n",
       "  color: var(--sklearn-color-unfitted-level-1);\n",
       "  border: var(--sklearn-color-unfitted-level-1) 1pt solid;\n",
       "}\n",
       "\n",
       "#sk-container-id-3 a.estimator_doc_link.fitted {\n",
       "  /* fitted */\n",
       "  border: var(--sklearn-color-fitted-level-1) 1pt solid;\n",
       "  color: var(--sklearn-color-fitted-level-1);\n",
       "}\n",
       "\n",
       "/* On hover */\n",
       "#sk-container-id-3 a.estimator_doc_link:hover {\n",
       "  /* unfitted */\n",
       "  background-color: var(--sklearn-color-unfitted-level-3);\n",
       "  color: var(--sklearn-color-background);\n",
       "  text-decoration: none;\n",
       "}\n",
       "\n",
       "#sk-container-id-3 a.estimator_doc_link.fitted:hover {\n",
       "  /* fitted */\n",
       "  background-color: var(--sklearn-color-fitted-level-3);\n",
       "}\n",
       "</style><div id=\"sk-container-id-3\" class=\"sk-top-container\"><div class=\"sk-text-repr-fallback\"><pre>GridSearchCV(cv=3, estimator=KNeighborsClassifier(),\n",
       "             param_grid={&#x27;n_neighbors&#x27;: [1, 2, 3, 4, 5, 6, 7, 8, 9, 10]},\n",
       "             scoring=&#x27;accuracy&#x27;, verbose=1)</pre><b>In a Jupyter environment, please rerun this cell to show the HTML representation or trust the notebook. <br />On GitHub, the HTML representation is unable to render, please try loading this page with nbviewer.org.</b></div><div class=\"sk-container\" hidden><div class=\"sk-item sk-dashed-wrapped\"><div class=\"sk-label-container\"><div class=\"sk-label fitted sk-toggleable\"><input class=\"sk-toggleable__control sk-hidden--visually\" id=\"sk-estimator-id-7\" type=\"checkbox\" ><label for=\"sk-estimator-id-7\" class=\"sk-toggleable__label fitted sk-toggleable__label-arrow fitted\">&nbsp;&nbsp;GridSearchCV<a class=\"sk-estimator-doc-link fitted\" rel=\"noreferrer\" target=\"_blank\" href=\"https://scikit-learn.org/1.4/modules/generated/sklearn.model_selection.GridSearchCV.html\">?<span>Documentation for GridSearchCV</span></a><span class=\"sk-estimator-doc-link fitted\">i<span>Fitted</span></span></label><div class=\"sk-toggleable__content fitted\"><pre>GridSearchCV(cv=3, estimator=KNeighborsClassifier(),\n",
       "             param_grid={&#x27;n_neighbors&#x27;: [1, 2, 3, 4, 5, 6, 7, 8, 9, 10]},\n",
       "             scoring=&#x27;accuracy&#x27;, verbose=1)</pre></div> </div></div><div class=\"sk-parallel\"><div class=\"sk-parallel-item\"><div class=\"sk-item\"><div class=\"sk-label-container\"><div class=\"sk-label fitted sk-toggleable\"><input class=\"sk-toggleable__control sk-hidden--visually\" id=\"sk-estimator-id-8\" type=\"checkbox\" ><label for=\"sk-estimator-id-8\" class=\"sk-toggleable__label fitted sk-toggleable__label-arrow fitted\">estimator: KNeighborsClassifier</label><div class=\"sk-toggleable__content fitted\"><pre>KNeighborsClassifier()</pre></div> </div></div><div class=\"sk-serial\"><div class=\"sk-item\"><div class=\"sk-estimator fitted sk-toggleable\"><input class=\"sk-toggleable__control sk-hidden--visually\" id=\"sk-estimator-id-9\" type=\"checkbox\" ><label for=\"sk-estimator-id-9\" class=\"sk-toggleable__label fitted sk-toggleable__label-arrow fitted\">&nbsp;KNeighborsClassifier<a class=\"sk-estimator-doc-link fitted\" rel=\"noreferrer\" target=\"_blank\" href=\"https://scikit-learn.org/1.4/modules/generated/sklearn.neighbors.KNeighborsClassifier.html\">?<span>Documentation for KNeighborsClassifier</span></a></label><div class=\"sk-toggleable__content fitted\"><pre>KNeighborsClassifier()</pre></div> </div></div></div></div></div></div></div></div></div>"
      ],
      "text/plain": [
       "GridSearchCV(cv=3, estimator=KNeighborsClassifier(),\n",
       "             param_grid={'n_neighbors': [1, 2, 3, 4, 5, 6, 7, 8, 9, 10]},\n",
       "             scoring='accuracy', verbose=1)"
      ]
     },
     "execution_count": 79,
     "metadata": {},
     "output_type": "execute_result"
    }
   ],
   "source": [
    "# performing grid search with cross-validation\n",
    "# GridSearchCV tunes the n_neighbors parameter with a range of 1 to 10 using 3-fold cross-validation for faster execution.\n",
    "grid_search = GridSearchCV(knn, param_grid, cv=3, scoring='accuracy', verbose=1)\n",
    "grid_search.fit(X_train_scaled, y_train)"
   ]
  },
  {
   "cell_type": "code",
   "execution_count": 80,
   "metadata": {},
   "outputs": [],
   "source": [
    "# looking for best model and evaluation\n",
    "best_knn = grid_search.best_estimator_\n",
    "y_pred = best_knn.predict(X_test_scaled)"
   ]
  },
  {
   "cell_type": "code",
   "execution_count": 81,
   "metadata": {},
   "outputs": [
    {
     "name": "stderr",
     "output_type": "stream",
     "text": [
      "/srv/conda/lib/python3.11/site-packages/sklearn/metrics/_classification.py:1509: UndefinedMetricWarning: Precision is ill-defined and being set to 0.0 in labels with no predicted samples. Use `zero_division` parameter to control this behavior.\n",
      "  _warn_prf(average, modifier, f\"{metric.capitalize()} is\", len(result))\n",
      "/srv/conda/lib/python3.11/site-packages/sklearn/metrics/_classification.py:1509: UndefinedMetricWarning: Precision is ill-defined and being set to 0.0 in labels with no predicted samples. Use `zero_division` parameter to control this behavior.\n",
      "  _warn_prf(average, modifier, f\"{metric.capitalize()} is\", len(result))\n",
      "/srv/conda/lib/python3.11/site-packages/sklearn/metrics/_classification.py:1509: UndefinedMetricWarning: Precision is ill-defined and being set to 0.0 in labels with no predicted samples. Use `zero_division` parameter to control this behavior.\n",
      "  _warn_prf(average, modifier, f\"{metric.capitalize()} is\", len(result))\n"
     ]
    }
   ],
   "source": [
    "# Evaluating the model's accuracy and classification report\n",
    "accuracy = accuracy_score(y_test, y_pred)\n",
    "report = classification_report(y_test, y_pred)"
   ]
  },
  {
   "cell_type": "code",
   "execution_count": 82,
   "metadata": {},
   "outputs": [
    {
     "name": "stdout",
     "output_type": "stream",
     "text": [
      "Best n_neighbors: {'n_neighbors': 10}\n",
      "Accuracy: 0.7612225405921681\n"
     ]
    }
   ],
   "source": [
    "# Printing results\n",
    "print(\"Best n_neighbors:\", grid_search.best_params_)\n",
    "print(\"Accuracy:\", accuracy)"
   ]
  },
  {
   "cell_type": "markdown",
   "metadata": {},
   "source": [
    "### Analysis of K-Nearest Neighbor Parameters\n",
    "- The optimal number of neighbors for the KNN model is 10, this is determined through cross-validation.\n",
    "- The model's overall accuracy is 76.12% on the test set, indicating that the model correctly predicts fire size categories approximately 76% of the time."
   ]
  },
  {
   "cell_type": "code",
   "execution_count": 83,
   "metadata": {},
   "outputs": [
    {
     "name": "stdout",
     "output_type": "stream",
     "text": [
      "Classification Report:\n",
      "                                precision    recall  f1-score   support\n",
      "\n",
      "            Size_0-0.99 Acres       0.78      0.97      0.86       807\n",
      "            Size_1-9.99 Acres       0.32      0.06      0.10       197\n",
      "           Size_10-99.9 Acres       0.00      0.00      0.00        31\n",
      "         Size_100-999.9 Acres       0.00      0.00      0.00         7\n",
      "Size_1000-5000 Acres and more       0.00      0.00      0.00         1\n",
      "                 Size_Unknown       0.00      0.00      0.00         4\n",
      "\n",
      "                     accuracy                           0.76      1047\n",
      "                    macro avg       0.18      0.17      0.16      1047\n",
      "                 weighted avg       0.66      0.76      0.69      1047\n",
      "\n"
     ]
    }
   ],
   "source": [
    "print(\"Classification Report:\\n\", report)"
   ]
  },
  {
   "cell_type": "markdown",
   "metadata": {},
   "source": [
    "### Analysis of Classification Report\n",
    "The '0-0.99 Acres' category holds the highest precision (0.78), recall (0.97), and f1-score (0.86). Once again, the model heavily favors this class, likely because it dominates the dataset. The '1-9.99 Acres' category has low precision (0.32) and recall (0.06), indicating poor predictions. Lastly, the remaining categories are predicted poorly, probably due to class imbalance. Ultimately, we  don't find this predictive approach to be particularly suitable to our model and dataset."
   ]
  },
  {
   "cell_type": "markdown",
   "metadata": {},
   "source": [
    "### Potential Improvements\n",
    "- With more time and resources, we could try to solve the data imbalance by reducing the sample of the dominant data class, or splitting it into '0-0.25 Acres' and '0.25-0.99 Acres.\n",
    "- We could also perform SMOTE (Synthetic Minority Oversampling Technique) to oversample the minority classes."
   ]
  },
  {
   "cell_type": "markdown",
   "metadata": {},
   "source": [
    "## Random Forest Prediction Model"
   ]
  },
  {
   "cell_type": "code",
   "execution_count": 84,
   "metadata": {},
   "outputs": [],
   "source": [
    "# Random Forest Model\n",
    "from sklearn.ensemble import RandomForestClassifier\n",
    "from sklearn.preprocessing import MinMaxScaler\n",
    "from sklearn.metrics import confusion_matrix, classification_report\n",
    "import seaborn as sns\n",
    "import matplotlib.pyplot as plt\n",
    "\n",
    "from sklearn.tree import DecisionTreeClassifier\n",
    "from sklearn.model_selection import cross_val_score\n",
    "from sklearn import tree"
   ]
  },
  {
   "cell_type": "code",
   "execution_count": 85,
   "metadata": {},
   "outputs": [],
   "source": [
    "#loading a dataset derived from the previous manipulatons performed above, it contains all columns, already formatted and hot-encoded\n",
    "fire_df = pd.read_csv('ricc.csv')"
   ]
  },
  {
   "cell_type": "code",
   "execution_count": 86,
   "metadata": {},
   "outputs": [],
   "source": [
    "# Combining one-hot encoded fire size columns into a single target column\n",
    "def combine_fire_size(row):\n",
    "    if row['Size_0-0.99 Acres'] == 1:\n",
    "        return '0-0.99 Acres'\n",
    "    elif row['Size_1-9.99 Acres'] == 1:\n",
    "        return '1-9.99 Acres'\n",
    "    elif row['Size_10-99.9 Acres'] == 1:\n",
    "        return '10-99.9 Acres'\n",
    "    elif row['Size_100-999.9 Acres'] == 1:\n",
    "        return '100-999.9 Acres'\n",
    "    elif row['Size_1000-5000 Acres and more'] == 1:\n",
    "        return '1000-5000 Acres and more'\n",
    "    else:\n",
    "        return 'Unknown'"
   ]
  },
  {
   "cell_type": "code",
   "execution_count": 87,
   "metadata": {},
   "outputs": [],
   "source": [
    "fire_df['fire_size_category'] = fire_df.apply(combine_fire_size, axis=1)"
   ]
  },
  {
   "cell_type": "code",
   "execution_count": 88,
   "metadata": {},
   "outputs": [],
   "source": [
    "# Dropping the original one-hot encoded columns\n",
    "fire_df = fire_df.drop(columns=['Size_0-0.99 Acres', 'Size_1-9.99 Acres',\n",
    "                                 'Size_10-99.9 Acres', 'Size_100-999.9 Acres',\n",
    "                                 'Size_1000-5000 Acres and more', 'Size_Unknown'])"
   ]
  },
  {
   "cell_type": "code",
   "execution_count": 89,
   "metadata": {},
   "outputs": [],
   "source": [
    "# Separating features and target variable\n",
    "X = fire_df.drop(columns=['fire_size_category'])  # Features\n",
    "y = fire_df['fire_size_category']  # Target variable"
   ]
  },
  {
   "cell_type": "code",
   "execution_count": 90,
   "metadata": {},
   "outputs": [],
   "source": [
    "# Splitting the dataset into training and testing sets\n",
    "# 80% of the data is being used for training the model, 20% for testing\n",
    "X_train, X_test, y_train, y_test = train_test_split(X, y, test_size=0.2, random_state=42)"
   ]
  },
  {
   "cell_type": "code",
   "execution_count": 91,
   "metadata": {},
   "outputs": [],
   "source": [
    "# converting X_train array into a database\n",
    "container = pd.DataFrame(X_train)"
   ]
  },
  {
   "cell_type": "code",
   "execution_count": 92,
   "metadata": {},
   "outputs": [],
   "source": [
    "# Feature scaling\n",
    "scaler = MinMaxScaler()\n",
    "X_train = scaler.fit_transform(X_train)\n",
    "X_test = scaler.transform(X_test)"
   ]
  },
  {
   "cell_type": "code",
   "execution_count": 93,
   "metadata": {},
   "outputs": [],
   "source": [
    "# Performing cross-validation and hyperparameter tuning for Random Forest\n",
    "param_grid = {\n",
    "    'n_estimators': [50, 100, 200],   # algorithm will test random forests with 50, 100, and 200 trees.\n",
    "    'max_depth': [None, 10, 20, 30],  # maximum depth of each decision tree in the forest, preventing overfitting\n",
    "    'min_samples_split': [2, 5, 10],  # minimum number of samples required to split an internal node\n",
    "    'min_samples_leaf': [1, 2, 4]     # The minimum number of samples required to be at a leaf node\n",
    "}"
   ]
  },
  {
   "cell_type": "code",
   "execution_count": 94,
   "metadata": {},
   "outputs": [],
   "source": [
    "# Random forest model\n",
    "rf = RandomForestClassifier(random_state=42)"
   ]
  },
  {
   "cell_type": "code",
   "execution_count": 95,
   "metadata": {},
   "outputs": [
    {
     "data": {
      "text/html": [
       "<style>#sk-container-id-4 {\n",
       "  /* Definition of color scheme common for light and dark mode */\n",
       "  --sklearn-color-text: black;\n",
       "  --sklearn-color-line: gray;\n",
       "  /* Definition of color scheme for unfitted estimators */\n",
       "  --sklearn-color-unfitted-level-0: #fff5e6;\n",
       "  --sklearn-color-unfitted-level-1: #f6e4d2;\n",
       "  --sklearn-color-unfitted-level-2: #ffe0b3;\n",
       "  --sklearn-color-unfitted-level-3: chocolate;\n",
       "  /* Definition of color scheme for fitted estimators */\n",
       "  --sklearn-color-fitted-level-0: #f0f8ff;\n",
       "  --sklearn-color-fitted-level-1: #d4ebff;\n",
       "  --sklearn-color-fitted-level-2: #b3dbfd;\n",
       "  --sklearn-color-fitted-level-3: cornflowerblue;\n",
       "\n",
       "  /* Specific color for light theme */\n",
       "  --sklearn-color-text-on-default-background: var(--sg-text-color, var(--theme-code-foreground, var(--jp-content-font-color1, black)));\n",
       "  --sklearn-color-background: var(--sg-background-color, var(--theme-background, var(--jp-layout-color0, white)));\n",
       "  --sklearn-color-border-box: var(--sg-text-color, var(--theme-code-foreground, var(--jp-content-font-color1, black)));\n",
       "  --sklearn-color-icon: #696969;\n",
       "\n",
       "  @media (prefers-color-scheme: dark) {\n",
       "    /* Redefinition of color scheme for dark theme */\n",
       "    --sklearn-color-text-on-default-background: var(--sg-text-color, var(--theme-code-foreground, var(--jp-content-font-color1, white)));\n",
       "    --sklearn-color-background: var(--sg-background-color, var(--theme-background, var(--jp-layout-color0, #111)));\n",
       "    --sklearn-color-border-box: var(--sg-text-color, var(--theme-code-foreground, var(--jp-content-font-color1, white)));\n",
       "    --sklearn-color-icon: #878787;\n",
       "  }\n",
       "}\n",
       "\n",
       "#sk-container-id-4 {\n",
       "  color: var(--sklearn-color-text);\n",
       "}\n",
       "\n",
       "#sk-container-id-4 pre {\n",
       "  padding: 0;\n",
       "}\n",
       "\n",
       "#sk-container-id-4 input.sk-hidden--visually {\n",
       "  border: 0;\n",
       "  clip: rect(1px 1px 1px 1px);\n",
       "  clip: rect(1px, 1px, 1px, 1px);\n",
       "  height: 1px;\n",
       "  margin: -1px;\n",
       "  overflow: hidden;\n",
       "  padding: 0;\n",
       "  position: absolute;\n",
       "  width: 1px;\n",
       "}\n",
       "\n",
       "#sk-container-id-4 div.sk-dashed-wrapped {\n",
       "  border: 1px dashed var(--sklearn-color-line);\n",
       "  margin: 0 0.4em 0.5em 0.4em;\n",
       "  box-sizing: border-box;\n",
       "  padding-bottom: 0.4em;\n",
       "  background-color: var(--sklearn-color-background);\n",
       "}\n",
       "\n",
       "#sk-container-id-4 div.sk-container {\n",
       "  /* jupyter's `normalize.less` sets `[hidden] { display: none; }`\n",
       "     but bootstrap.min.css set `[hidden] { display: none !important; }`\n",
       "     so we also need the `!important` here to be able to override the\n",
       "     default hidden behavior on the sphinx rendered scikit-learn.org.\n",
       "     See: https://github.com/scikit-learn/scikit-learn/issues/21755 */\n",
       "  display: inline-block !important;\n",
       "  position: relative;\n",
       "}\n",
       "\n",
       "#sk-container-id-4 div.sk-text-repr-fallback {\n",
       "  display: none;\n",
       "}\n",
       "\n",
       "div.sk-parallel-item,\n",
       "div.sk-serial,\n",
       "div.sk-item {\n",
       "  /* draw centered vertical line to link estimators */\n",
       "  background-image: linear-gradient(var(--sklearn-color-text-on-default-background), var(--sklearn-color-text-on-default-background));\n",
       "  background-size: 2px 100%;\n",
       "  background-repeat: no-repeat;\n",
       "  background-position: center center;\n",
       "}\n",
       "\n",
       "/* Parallel-specific style estimator block */\n",
       "\n",
       "#sk-container-id-4 div.sk-parallel-item::after {\n",
       "  content: \"\";\n",
       "  width: 100%;\n",
       "  border-bottom: 2px solid var(--sklearn-color-text-on-default-background);\n",
       "  flex-grow: 1;\n",
       "}\n",
       "\n",
       "#sk-container-id-4 div.sk-parallel {\n",
       "  display: flex;\n",
       "  align-items: stretch;\n",
       "  justify-content: center;\n",
       "  background-color: var(--sklearn-color-background);\n",
       "  position: relative;\n",
       "}\n",
       "\n",
       "#sk-container-id-4 div.sk-parallel-item {\n",
       "  display: flex;\n",
       "  flex-direction: column;\n",
       "}\n",
       "\n",
       "#sk-container-id-4 div.sk-parallel-item:first-child::after {\n",
       "  align-self: flex-end;\n",
       "  width: 50%;\n",
       "}\n",
       "\n",
       "#sk-container-id-4 div.sk-parallel-item:last-child::after {\n",
       "  align-self: flex-start;\n",
       "  width: 50%;\n",
       "}\n",
       "\n",
       "#sk-container-id-4 div.sk-parallel-item:only-child::after {\n",
       "  width: 0;\n",
       "}\n",
       "\n",
       "/* Serial-specific style estimator block */\n",
       "\n",
       "#sk-container-id-4 div.sk-serial {\n",
       "  display: flex;\n",
       "  flex-direction: column;\n",
       "  align-items: center;\n",
       "  background-color: var(--sklearn-color-background);\n",
       "  padding-right: 1em;\n",
       "  padding-left: 1em;\n",
       "}\n",
       "\n",
       "\n",
       "/* Toggleable style: style used for estimator/Pipeline/ColumnTransformer box that is\n",
       "clickable and can be expanded/collapsed.\n",
       "- Pipeline and ColumnTransformer use this feature and define the default style\n",
       "- Estimators will overwrite some part of the style using the `sk-estimator` class\n",
       "*/\n",
       "\n",
       "/* Pipeline and ColumnTransformer style (default) */\n",
       "\n",
       "#sk-container-id-4 div.sk-toggleable {\n",
       "  /* Default theme specific background. It is overwritten whether we have a\n",
       "  specific estimator or a Pipeline/ColumnTransformer */\n",
       "  background-color: var(--sklearn-color-background);\n",
       "}\n",
       "\n",
       "/* Toggleable label */\n",
       "#sk-container-id-4 label.sk-toggleable__label {\n",
       "  cursor: pointer;\n",
       "  display: block;\n",
       "  width: 100%;\n",
       "  margin-bottom: 0;\n",
       "  padding: 0.5em;\n",
       "  box-sizing: border-box;\n",
       "  text-align: center;\n",
       "}\n",
       "\n",
       "#sk-container-id-4 label.sk-toggleable__label-arrow:before {\n",
       "  /* Arrow on the left of the label */\n",
       "  content: \"▸\";\n",
       "  float: left;\n",
       "  margin-right: 0.25em;\n",
       "  color: var(--sklearn-color-icon);\n",
       "}\n",
       "\n",
       "#sk-container-id-4 label.sk-toggleable__label-arrow:hover:before {\n",
       "  color: var(--sklearn-color-text);\n",
       "}\n",
       "\n",
       "/* Toggleable content - dropdown */\n",
       "\n",
       "#sk-container-id-4 div.sk-toggleable__content {\n",
       "  max-height: 0;\n",
       "  max-width: 0;\n",
       "  overflow: hidden;\n",
       "  text-align: left;\n",
       "  /* unfitted */\n",
       "  background-color: var(--sklearn-color-unfitted-level-0);\n",
       "}\n",
       "\n",
       "#sk-container-id-4 div.sk-toggleable__content.fitted {\n",
       "  /* fitted */\n",
       "  background-color: var(--sklearn-color-fitted-level-0);\n",
       "}\n",
       "\n",
       "#sk-container-id-4 div.sk-toggleable__content pre {\n",
       "  margin: 0.2em;\n",
       "  border-radius: 0.25em;\n",
       "  color: var(--sklearn-color-text);\n",
       "  /* unfitted */\n",
       "  background-color: var(--sklearn-color-unfitted-level-0);\n",
       "}\n",
       "\n",
       "#sk-container-id-4 div.sk-toggleable__content.fitted pre {\n",
       "  /* unfitted */\n",
       "  background-color: var(--sklearn-color-fitted-level-0);\n",
       "}\n",
       "\n",
       "#sk-container-id-4 input.sk-toggleable__control:checked~div.sk-toggleable__content {\n",
       "  /* Expand drop-down */\n",
       "  max-height: 200px;\n",
       "  max-width: 100%;\n",
       "  overflow: auto;\n",
       "}\n",
       "\n",
       "#sk-container-id-4 input.sk-toggleable__control:checked~label.sk-toggleable__label-arrow:before {\n",
       "  content: \"▾\";\n",
       "}\n",
       "\n",
       "/* Pipeline/ColumnTransformer-specific style */\n",
       "\n",
       "#sk-container-id-4 div.sk-label input.sk-toggleable__control:checked~label.sk-toggleable__label {\n",
       "  color: var(--sklearn-color-text);\n",
       "  background-color: var(--sklearn-color-unfitted-level-2);\n",
       "}\n",
       "\n",
       "#sk-container-id-4 div.sk-label.fitted input.sk-toggleable__control:checked~label.sk-toggleable__label {\n",
       "  background-color: var(--sklearn-color-fitted-level-2);\n",
       "}\n",
       "\n",
       "/* Estimator-specific style */\n",
       "\n",
       "/* Colorize estimator box */\n",
       "#sk-container-id-4 div.sk-estimator input.sk-toggleable__control:checked~label.sk-toggleable__label {\n",
       "  /* unfitted */\n",
       "  background-color: var(--sklearn-color-unfitted-level-2);\n",
       "}\n",
       "\n",
       "#sk-container-id-4 div.sk-estimator.fitted input.sk-toggleable__control:checked~label.sk-toggleable__label {\n",
       "  /* fitted */\n",
       "  background-color: var(--sklearn-color-fitted-level-2);\n",
       "}\n",
       "\n",
       "#sk-container-id-4 div.sk-label label.sk-toggleable__label,\n",
       "#sk-container-id-4 div.sk-label label {\n",
       "  /* The background is the default theme color */\n",
       "  color: var(--sklearn-color-text-on-default-background);\n",
       "}\n",
       "\n",
       "/* On hover, darken the color of the background */\n",
       "#sk-container-id-4 div.sk-label:hover label.sk-toggleable__label {\n",
       "  color: var(--sklearn-color-text);\n",
       "  background-color: var(--sklearn-color-unfitted-level-2);\n",
       "}\n",
       "\n",
       "/* Label box, darken color on hover, fitted */\n",
       "#sk-container-id-4 div.sk-label.fitted:hover label.sk-toggleable__label.fitted {\n",
       "  color: var(--sklearn-color-text);\n",
       "  background-color: var(--sklearn-color-fitted-level-2);\n",
       "}\n",
       "\n",
       "/* Estimator label */\n",
       "\n",
       "#sk-container-id-4 div.sk-label label {\n",
       "  font-family: monospace;\n",
       "  font-weight: bold;\n",
       "  display: inline-block;\n",
       "  line-height: 1.2em;\n",
       "}\n",
       "\n",
       "#sk-container-id-4 div.sk-label-container {\n",
       "  text-align: center;\n",
       "}\n",
       "\n",
       "/* Estimator-specific */\n",
       "#sk-container-id-4 div.sk-estimator {\n",
       "  font-family: monospace;\n",
       "  border: 1px dotted var(--sklearn-color-border-box);\n",
       "  border-radius: 0.25em;\n",
       "  box-sizing: border-box;\n",
       "  margin-bottom: 0.5em;\n",
       "  /* unfitted */\n",
       "  background-color: var(--sklearn-color-unfitted-level-0);\n",
       "}\n",
       "\n",
       "#sk-container-id-4 div.sk-estimator.fitted {\n",
       "  /* fitted */\n",
       "  background-color: var(--sklearn-color-fitted-level-0);\n",
       "}\n",
       "\n",
       "/* on hover */\n",
       "#sk-container-id-4 div.sk-estimator:hover {\n",
       "  /* unfitted */\n",
       "  background-color: var(--sklearn-color-unfitted-level-2);\n",
       "}\n",
       "\n",
       "#sk-container-id-4 div.sk-estimator.fitted:hover {\n",
       "  /* fitted */\n",
       "  background-color: var(--sklearn-color-fitted-level-2);\n",
       "}\n",
       "\n",
       "/* Specification for estimator info (e.g. \"i\" and \"?\") */\n",
       "\n",
       "/* Common style for \"i\" and \"?\" */\n",
       "\n",
       ".sk-estimator-doc-link,\n",
       "a:link.sk-estimator-doc-link,\n",
       "a:visited.sk-estimator-doc-link {\n",
       "  float: right;\n",
       "  font-size: smaller;\n",
       "  line-height: 1em;\n",
       "  font-family: monospace;\n",
       "  background-color: var(--sklearn-color-background);\n",
       "  border-radius: 1em;\n",
       "  height: 1em;\n",
       "  width: 1em;\n",
       "  text-decoration: none !important;\n",
       "  margin-left: 1ex;\n",
       "  /* unfitted */\n",
       "  border: var(--sklearn-color-unfitted-level-1) 1pt solid;\n",
       "  color: var(--sklearn-color-unfitted-level-1);\n",
       "}\n",
       "\n",
       ".sk-estimator-doc-link.fitted,\n",
       "a:link.sk-estimator-doc-link.fitted,\n",
       "a:visited.sk-estimator-doc-link.fitted {\n",
       "  /* fitted */\n",
       "  border: var(--sklearn-color-fitted-level-1) 1pt solid;\n",
       "  color: var(--sklearn-color-fitted-level-1);\n",
       "}\n",
       "\n",
       "/* On hover */\n",
       "div.sk-estimator:hover .sk-estimator-doc-link:hover,\n",
       ".sk-estimator-doc-link:hover,\n",
       "div.sk-label-container:hover .sk-estimator-doc-link:hover,\n",
       ".sk-estimator-doc-link:hover {\n",
       "  /* unfitted */\n",
       "  background-color: var(--sklearn-color-unfitted-level-3);\n",
       "  color: var(--sklearn-color-background);\n",
       "  text-decoration: none;\n",
       "}\n",
       "\n",
       "div.sk-estimator.fitted:hover .sk-estimator-doc-link.fitted:hover,\n",
       ".sk-estimator-doc-link.fitted:hover,\n",
       "div.sk-label-container:hover .sk-estimator-doc-link.fitted:hover,\n",
       ".sk-estimator-doc-link.fitted:hover {\n",
       "  /* fitted */\n",
       "  background-color: var(--sklearn-color-fitted-level-3);\n",
       "  color: var(--sklearn-color-background);\n",
       "  text-decoration: none;\n",
       "}\n",
       "\n",
       "/* Span, style for the box shown on hovering the info icon */\n",
       ".sk-estimator-doc-link span {\n",
       "  display: none;\n",
       "  z-index: 9999;\n",
       "  position: relative;\n",
       "  font-weight: normal;\n",
       "  right: .2ex;\n",
       "  padding: .5ex;\n",
       "  margin: .5ex;\n",
       "  width: min-content;\n",
       "  min-width: 20ex;\n",
       "  max-width: 50ex;\n",
       "  color: var(--sklearn-color-text);\n",
       "  box-shadow: 2pt 2pt 4pt #999;\n",
       "  /* unfitted */\n",
       "  background: var(--sklearn-color-unfitted-level-0);\n",
       "  border: .5pt solid var(--sklearn-color-unfitted-level-3);\n",
       "}\n",
       "\n",
       ".sk-estimator-doc-link.fitted span {\n",
       "  /* fitted */\n",
       "  background: var(--sklearn-color-fitted-level-0);\n",
       "  border: var(--sklearn-color-fitted-level-3);\n",
       "}\n",
       "\n",
       ".sk-estimator-doc-link:hover span {\n",
       "  display: block;\n",
       "}\n",
       "\n",
       "/* \"?\"-specific style due to the `<a>` HTML tag */\n",
       "\n",
       "#sk-container-id-4 a.estimator_doc_link {\n",
       "  float: right;\n",
       "  font-size: 1rem;\n",
       "  line-height: 1em;\n",
       "  font-family: monospace;\n",
       "  background-color: var(--sklearn-color-background);\n",
       "  border-radius: 1rem;\n",
       "  height: 1rem;\n",
       "  width: 1rem;\n",
       "  text-decoration: none;\n",
       "  /* unfitted */\n",
       "  color: var(--sklearn-color-unfitted-level-1);\n",
       "  border: var(--sklearn-color-unfitted-level-1) 1pt solid;\n",
       "}\n",
       "\n",
       "#sk-container-id-4 a.estimator_doc_link.fitted {\n",
       "  /* fitted */\n",
       "  border: var(--sklearn-color-fitted-level-1) 1pt solid;\n",
       "  color: var(--sklearn-color-fitted-level-1);\n",
       "}\n",
       "\n",
       "/* On hover */\n",
       "#sk-container-id-4 a.estimator_doc_link:hover {\n",
       "  /* unfitted */\n",
       "  background-color: var(--sklearn-color-unfitted-level-3);\n",
       "  color: var(--sklearn-color-background);\n",
       "  text-decoration: none;\n",
       "}\n",
       "\n",
       "#sk-container-id-4 a.estimator_doc_link.fitted:hover {\n",
       "  /* fitted */\n",
       "  background-color: var(--sklearn-color-fitted-level-3);\n",
       "}\n",
       "</style><div id=\"sk-container-id-4\" class=\"sk-top-container\"><div class=\"sk-text-repr-fallback\"><pre>GridSearchCV(cv=5, estimator=RandomForestClassifier(random_state=42), n_jobs=-1,\n",
       "             param_grid={&#x27;max_depth&#x27;: [None, 10, 20, 30],\n",
       "                         &#x27;min_samples_leaf&#x27;: [1, 2, 4],\n",
       "                         &#x27;min_samples_split&#x27;: [2, 5, 10],\n",
       "                         &#x27;n_estimators&#x27;: [50, 100, 200]},\n",
       "             scoring=&#x27;accuracy&#x27;)</pre><b>In a Jupyter environment, please rerun this cell to show the HTML representation or trust the notebook. <br />On GitHub, the HTML representation is unable to render, please try loading this page with nbviewer.org.</b></div><div class=\"sk-container\" hidden><div class=\"sk-item sk-dashed-wrapped\"><div class=\"sk-label-container\"><div class=\"sk-label fitted sk-toggleable\"><input class=\"sk-toggleable__control sk-hidden--visually\" id=\"sk-estimator-id-10\" type=\"checkbox\" ><label for=\"sk-estimator-id-10\" class=\"sk-toggleable__label fitted sk-toggleable__label-arrow fitted\">&nbsp;&nbsp;GridSearchCV<a class=\"sk-estimator-doc-link fitted\" rel=\"noreferrer\" target=\"_blank\" href=\"https://scikit-learn.org/1.4/modules/generated/sklearn.model_selection.GridSearchCV.html\">?<span>Documentation for GridSearchCV</span></a><span class=\"sk-estimator-doc-link fitted\">i<span>Fitted</span></span></label><div class=\"sk-toggleable__content fitted\"><pre>GridSearchCV(cv=5, estimator=RandomForestClassifier(random_state=42), n_jobs=-1,\n",
       "             param_grid={&#x27;max_depth&#x27;: [None, 10, 20, 30],\n",
       "                         &#x27;min_samples_leaf&#x27;: [1, 2, 4],\n",
       "                         &#x27;min_samples_split&#x27;: [2, 5, 10],\n",
       "                         &#x27;n_estimators&#x27;: [50, 100, 200]},\n",
       "             scoring=&#x27;accuracy&#x27;)</pre></div> </div></div><div class=\"sk-parallel\"><div class=\"sk-parallel-item\"><div class=\"sk-item\"><div class=\"sk-label-container\"><div class=\"sk-label fitted sk-toggleable\"><input class=\"sk-toggleable__control sk-hidden--visually\" id=\"sk-estimator-id-11\" type=\"checkbox\" ><label for=\"sk-estimator-id-11\" class=\"sk-toggleable__label fitted sk-toggleable__label-arrow fitted\">estimator: RandomForestClassifier</label><div class=\"sk-toggleable__content fitted\"><pre>RandomForestClassifier(random_state=42)</pre></div> </div></div><div class=\"sk-serial\"><div class=\"sk-item\"><div class=\"sk-estimator fitted sk-toggleable\"><input class=\"sk-toggleable__control sk-hidden--visually\" id=\"sk-estimator-id-12\" type=\"checkbox\" ><label for=\"sk-estimator-id-12\" class=\"sk-toggleable__label fitted sk-toggleable__label-arrow fitted\">&nbsp;RandomForestClassifier<a class=\"sk-estimator-doc-link fitted\" rel=\"noreferrer\" target=\"_blank\" href=\"https://scikit-learn.org/1.4/modules/generated/sklearn.ensemble.RandomForestClassifier.html\">?<span>Documentation for RandomForestClassifier</span></a></label><div class=\"sk-toggleable__content fitted\"><pre>RandomForestClassifier(random_state=42)</pre></div> </div></div></div></div></div></div></div></div></div>"
      ],
      "text/plain": [
       "GridSearchCV(cv=5, estimator=RandomForestClassifier(random_state=42), n_jobs=-1,\n",
       "             param_grid={'max_depth': [None, 10, 20, 30],\n",
       "                         'min_samples_leaf': [1, 2, 4],\n",
       "                         'min_samples_split': [2, 5, 10],\n",
       "                         'n_estimators': [50, 100, 200]},\n",
       "             scoring='accuracy')"
      ]
     },
     "execution_count": 95,
     "metadata": {},
     "output_type": "execute_result"
    }
   ],
   "source": [
    "# Grid_search with cross-validation\n",
    "grid_search = GridSearchCV(estimator=rf, param_grid=param_grid, cv=5, scoring='accuracy', n_jobs=-1)\n",
    "grid_search.fit(X_train, y_train)"
   ]
  },
  {
   "cell_type": "code",
   "execution_count": 96,
   "metadata": {},
   "outputs": [],
   "source": [
    "# looking for best model and parameters\n",
    "best_model = grid_search.best_estimator_\n",
    "best_params = grid_search.best_params_"
   ]
  },
  {
   "cell_type": "code",
   "execution_count": 97,
   "metadata": {},
   "outputs": [],
   "source": [
    "# Evaluating the best model on the test set\n",
    "test_score = best_model.score(X_test, y_test)"
   ]
  },
  {
   "cell_type": "code",
   "execution_count": 98,
   "metadata": {},
   "outputs": [
    {
     "name": "stdout",
     "output_type": "stream",
     "text": [
      "Best Hyperparameters: {'max_depth': 30, 'min_samples_leaf': 1, 'min_samples_split': 2, 'n_estimators': 100}\n",
      "Testing Accuracy: 0.8185\n"
     ]
    }
   ],
   "source": [
    "print(f\"Best Hyperparameters: {best_params}\")\n",
    "print(f\"Testing Accuracy: {test_score:.4f}\")"
   ]
  },
  {
   "cell_type": "markdown",
   "metadata": {},
   "source": [
    "### Analysis of RandomForestClassifier Hyperparameters\n",
    "- The decision trees in the forest can grow up to a maximum depth of 30 levels. This allows sufficient depth to capture complex patterns while avoiding excessively deep trees that could overfit the data.\n",
    "- A leaf node must contain at least one sample. This setting is highly flexible but risks overfitting for some datasets. However, Random Forest mitigates this risk with ensemble averaging.\n",
    "- A node can split if it has at least two samples, which allows the trees to grow freely and capture detailed patterns.\n",
    "- The forest is composed of 100 decision trees. This is a common default value, providing a good balance between performance and computation time."
   ]
  },
  {
   "cell_type": "markdown",
   "metadata": {},
   "source": [
    "### Testing Accuracy\n",
    "A testing accuracy of 0.8185 indicates that the model correctly predicts the fire size category approximately 81.85% of the time on unseen data. An accuracy of 81.85% suggests the model is effective but could potentially be improved. The hyperparameter tuning likely reduced overfitting while maintaining good generalization."
   ]
  },
  {
   "cell_type": "markdown",
   "metadata": {},
   "source": [
    "### Potential Improvements\n",
    "Generally, if there's a class imbalance among the fire size categories,the accuracy metric may not fully represent the model's ability to predict all classes equally. We know that the majority of fire sizes fall in the '0-0.99 Acres' category, and this might skew the accuracy. In addition, increasing the number of trees beyonde 100 could provide better performance, at the cost of computation time."
   ]
  },
  {
   "cell_type": "markdown",
   "metadata": {},
   "source": [
    "### Confusion Matrix & Classification Report\n",
    "We're computing a confusion matrix to see which fire size categories are most/least accurately predicted."
   ]
  },
  {
   "cell_type": "code",
   "execution_count": 99,
   "metadata": {},
   "outputs": [
    {
     "data": {
      "image/png": "[encoded data removed]",
      "text/plain": [
       "<Figure size 1000x700 with 2 Axes>"
      ]
     },
     "metadata": {},
     "output_type": "display_data"
    },
    {
     "name": "stdout",
     "output_type": "stream",
     "text": [
      "Classification Report:\n",
      "                           precision    recall  f1-score   support\n",
      "\n",
      "            0-0.99 Acres       0.81      1.00      0.89       807\n",
      "            1-9.99 Acres       0.94      0.23      0.37       197\n",
      "           10-99.9 Acres       1.00      0.13      0.23        31\n",
      "         100-999.9 Acres       1.00      0.29      0.44         7\n",
      "1000-5000 Acres and more       0.00      0.00      0.00         1\n",
      "                 Unknown       0.00      0.00      0.00         4\n",
      "\n",
      "                accuracy                           0.82      1047\n",
      "               macro avg       0.63      0.27      0.32      1047\n",
      "            weighted avg       0.84      0.82      0.77      1047\n",
      "\n"
     ]
    },
    {
     "name": "stderr",
     "output_type": "stream",
     "text": [
      "/srv/conda/lib/python3.11/site-packages/sklearn/metrics/_classification.py:1509: UndefinedMetricWarning: Precision is ill-defined and being set to 0.0 in labels with no predicted samples. Use `zero_division` parameter to control this behavior.\n",
      "  _warn_prf(average, modifier, f\"{metric.capitalize()} is\", len(result))\n",
      "/srv/conda/lib/python3.11/site-packages/sklearn/metrics/_classification.py:1509: UndefinedMetricWarning: Precision is ill-defined and being set to 0.0 in labels with no predicted samples. Use `zero_division` parameter to control this behavior.\n",
      "  _warn_prf(average, modifier, f\"{metric.capitalize()} is\", len(result))\n",
      "/srv/conda/lib/python3.11/site-packages/sklearn/metrics/_classification.py:1509: UndefinedMetricWarning: Precision is ill-defined and being set to 0.0 in labels with no predicted samples. Use `zero_division` parameter to control this behavior.\n",
      "  _warn_prf(average, modifier, f\"{metric.capitalize()} is\", len(result))\n"
     ]
    }
   ],
   "source": [
    "# Computing confusion matrix\n",
    "y_pred = best_model.predict(X_test)\n",
    "conf_matrix = confusion_matrix(y_test, y_pred, labels=y.unique())\n",
    "\n",
    "# Plotting\n",
    "plt.figure(figsize=(10, 7))\n",
    "sns.heatmap(conf_matrix, annot=True, fmt='d', cmap='Blues', xticklabels=y.unique(), yticklabels=y.unique())\n",
    "plt.title('Confusion Matrix')\n",
    "plt.xlabel('Predicted Labels')\n",
    "plt.ylabel('True Labels')\n",
    "plt.show()\n",
    "\n",
    "# Print classification report\n",
    "print(\"Classification Report:\\n\", classification_report(y_test, y_pred))"
   ]
  },
  {
   "cell_type": "markdown",
   "metadata": {},
   "source": [
    "### Analysis\n",
    "#### Confusion Matrix\n",
    "The confusion matrix indicates a good performance for the category \"0-0.99 Acres\". This is reasonable as we know the majorty of the data points fall in such category. There appears to be a significant misclassification as true = '1-9.99 Acres' is misclassified as '0-0.99 Acres'. This suggests the model struggles to distinguish between these similar classes. \n",
    "#### Classification Report\n",
    "- All fire categories show high precision but the category '1000-5000 Acres and more'. The model fails to identify these rare categories.\n",
    "- Category '0-0.99 Acres' has perfect recall, identifying all instances of this class correctly. Unfortunately, the remaining catergories show low recall, suggesting under-representation in predictions.\n",
    "\n",
    "Once again, we presume that the large concentration of observations in the '0-0.99 Acres' category causes the model to favor this class, so that rare categories like '1000-5000 Acres and more' are effectively ignore."
   ]
  },
  {
   "cell_type": "markdown",
   "metadata": {},
   "source": [
    "### Analysis of Feature Importance"
   ]
  },
  {
   "cell_type": "code",
   "execution_count": 100,
   "metadata": {},
   "outputs": [],
   "source": [
    "import pandas as pd\n",
    "import matplotlib.pyplot as plt\n",
    "\n",
    "def importance_plot(tree, fire_df):\n",
    "    # Ensure feature_importances_ and feature names are aligned\n",
    "    feature_importance = tree.feature_importances_  # get the importance of each feature\n",
    "    \n",
    "    # Match size of feature_importance and feature names\n",
    "    min_len = min(len(feature_importance), len(fire_df.columns))\n",
    "    feature_importance = feature_importance[:min_len]  # Truncate importance if needed\n",
    "    features = fire_df.columns[:min_len]              # Truncate features if needed\n",
    "    \n",
    "    # Relative feature importance\n",
    "    feature_importance = 100.0 * (feature_importance / feature_importance.max())\n",
    "    \n",
    "    # Save to a dataframe and remove features with very low importance\n",
    "    feat_df = pd.DataFrame({'feature': features, 'importance': feature_importance})\n",
    "    feat_df = feat_df[feat_df['importance'] > 5]  # Remove low-importance features\n",
    "    feat_df = feat_df[feat_df['feature'] != 'Unnamed: 0']\n",
    "    \n",
    "    # Sort features by importance\n",
    "    feat_df = feat_df.sort_values(by='importance', ascending=True)\n",
    "    \n",
    "    # Bar plot\n",
    "    plt.figure(figsize=(8, 7.5))\n",
    "    plt.barh(width=feat_df['importance'], y=feat_df['feature'])\n",
    "    plt.xlabel('Relative feature importance')\n",
    "    plt.title('Feature Importance Plot')\n",
    "    plt.show()"
   ]
  },
  {
   "cell_type": "code",
   "execution_count": 101,
   "metadata": {},
   "outputs": [
    {
     "data": {
      "image/png": "[encoded data removed]",
      "text/plain": [
       "<Figure size 800x750 with 1 Axes>"
      ]
     },
     "metadata": {},
     "output_type": "display_data"
    }
   ],
   "source": [
    "importance_plot(best_model, fire_df)"
   ]
  },
  {
   "cell_type": "markdown",
   "metadata": {},
   "source": [
    "This analysis of feature importance for the random forest model show high significance for these features: dew point, feels-like temperature, temperature, wind direction, and humidity. We've seen these features previously in different models, this suggests a possible trend."
   ]
  },
  {
   "cell_type": "markdown",
   "metadata": {},
   "source": [
    "## Interpretation and Conclusions (20 points)\n",
    "\n",
    "The main goal of this project is to inform the major California power utilities on how they should allocate their resources to best mitigate power outages and properly prepare for and minimize potential wildfire acreage. Our blackout model found that dew point was most heavily correlated to predicting a blackout, followed by “feels like” temperature, temperature, humidity, and wind direction. These results call for infrastructure adaptation to best handle dangerous dew points, higher temperatures, and wind gusts – particularly from certain directions, based on the surrounding geography, creating wind tunnels.\\\n",
    "Similarly, the predictive fire model told a similar story. Dew point, “feels like” temperature, temperature, wind direction, humidity, and wind speed were all significant indicators of the eventual size of a wildfire spread. Most significantly, wind has a huge impact on fire spread – as expected. The lower dew points, meaning lower humidity, meant drier air; this typically leads to drier environments and more flammable fuel sources for the fire to spread to. \\\n",
    "With these models in mind, streamlined resource allocation will save money, labor, and time for utilities and emergency management organizations. These savings can be redirected to strengthen infrastructure and improve community preparedness. Investments in these categories will lead to a reduction in the risk to human life and property, which is not only an obligation for the state-regulated utilities but also a financial benefit that pays dividends over time.\\\n",
    "We wish to advocate to California decision makers to provide investment in the bolstering of California grid infrastructure: 1. high temperature resistance (this will in turn make transmission more efficient) and 2. Deep anchoring for wind resistance (analyzing wind direction to find the most vulnerable positions). This can be done through subsidies, tax breaks for companies who implement these measures, or even funding for R&D/startups to come up with cheaper, safer solutions to this problem.\\\n",
    "Currently, we have fairly confident accuracies on our models, with several features showing a strong correlation to indications of blackouts [dew point (100%), “feels like” temperature (96.11%),temperature (91.34%), humidity (89.12%), wind direction (83.65%)] as well as final fire size [dew point (89.83%), “feels like” temperature (88.22%), temperature (87.68%), wind direction (82.53%)]. Efficient implementation of these solutions can be streamlined to make the greatest change with the least amount of money and time by policy makers supporting stricter and more frequent data collection from the utilities on their fire and blackout data. This will give researchers a larger database to test their models on, leading to more accurate results as to where is in most need of these grid infrastructure upgrades.\\\n",
    "In addition, we think it would be wise to educate the public on the basic causes of wildfires and blackouts, and on how to properly respond to different severities of each disaster will mitigate any damages from these events. Policy makers should implement individual evacuation plans for each city based on their unique vulnerabilities to best serve the public.\\\n",
    "We can think of a few ways to possibly improve our models’ performance and overall accuracy. When creating the blackout model, it would have been better to resample some of the features. For example, there were much more “yes”es than “no”s in the “Was There A Blackout?” column, which made the model bias the blackout instances more when looking for key indicators in the features list. Another caveat to our models was that we deleted some observations that did not have the full latitude longitude data. This further bolsters the need for stricter guidelines on the reporting for utility disasters. Another drawback to the raw data that we used is that we could have provided more features like precipitation, soil depth and quality, and a description of the general surrounding geography from other available APIs out there. However, due to constraints of the OpenWeatherMap API, we were not able to do that. Finally, we could have done a feature selection for the features we knew for sure would be correlated to the risk of a power blackout occurring. This would enhance model accuracy and performance, making the beta values for each feature more accurate.\\\n",
    "Lastly, in regard to the predictive fire size model, there is a recurrent trend in all three models analyzed as they all tend to focus on the smallest fire size category (0-0.99 Acres) due to a significant skewed distribution of the data. More than 4,000 of the ~5,200 observations are in this size bucket, and this in turn skews the model accuracy, particularly for the other fire size buckets. This effect worsens as the size of the fire gets larger as these instances are more infrequent, meaning the model tends to ignore them. We realized this trend early on, and decided to work with it as its natural occurrence is still relevant: it is much more likely for a small fire to occur near a power plant due to a number of factors; while it is very less likely for a wildfire to spread over 100 or 1000 acres. Ultimately, the random forest regression model showed good accuracy, making this model a partial success."
   ]
  },
  {
   "cell_type": "markdown",
   "metadata": {},
   "source": [
    "## Work Cited\n",
    "“Wildfire and Wildfire Safety.” California Public Utilities Commission,\n",
    "www.cpuc.ca.gov/industries-and-topics/wildfires. Accessed 9 Dec. 2024.\n",
    "\n",
    "Lazo, Alejandro. “CA Wildfire Prevention.” LAist, CalMatters, 3 Dec. 2024,\n",
    "laist.com/brief/news/climate-environment/californians-pay-billions-for-power-companies-wildfire-prevention-efforts. \n"
   ]
  },
  {
   "cell_type": "code",
   "execution_count": null,
   "metadata": {},
   "outputs": [],
   "source": []
  }
 ],
 "metadata": {
  "kernelspec": {
   "display_name": "Python 3 (ipykernel)",
   "language": "python",
   "name": "python3"
  },
  "language_info": {
   "codemirror_mode": {
    "name": "ipython",
    "version": 3
   },
   "file_extension": ".py",
   "mimetype": "text/x-python",
   "name": "python",
   "nbconvert_exporter": "python",
   "pygments_lexer": "ipython3",
   "version": "3.11.10"
  }
 },
 "nbformat": 4,
 "nbformat_minor": 4
}
