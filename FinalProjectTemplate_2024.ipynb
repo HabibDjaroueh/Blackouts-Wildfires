{
 "cells": [
  {
   "cell_type": "code",
   "execution_count": 1551,
   "metadata": {},
   "outputs": [],
   "source": [
    "import pandas as pd\n",
    "import numpy as np\n",
    "import matplotlib.pyplot as plt\n",
    "from datetime import datetime\n",
    "import requests\n",
    "from sklearn.preprocessing import MinMaxScaler\n",
    "import statsmodels.api as sm\n",
    "from sklearn.model_selection import GridSearchCV\n",
    "from sklearn.ensemble import GradientBoostingClassifier\n",
    "from random import randint\n",
    "from sklearn.model_selection import RandomizedSearchCV\n",
    "from sklearn.ensemble import BaggingClassifier\n",
    "from sklearn.ensemble import RandomForestClassifier\n",
    "from sklearn.metrics import confusion_matrix\n",
    "import seaborn as sns# \n",
    "import pandas as pd\n",
    "import numpy as np\n",
    "from sklearn.model_selection import train_test_split, cross_val_score, GridSearchCV\n",
    "from sklearn.ensemble import RandomForestClassifier\n",
    "from sklearn.preprocessing import MinMaxScaler\n",
    "from sklearn.metrics import confusion_matrix, classification_report\n",
    "import seaborn as sns\n",
    "import matplotlib.pyplot as plt\n",
    "from sklearn.tree import DecisionTreeClassifier\n",
    "from sklearn.model_selection import cross_val_score\n",
    "from sklearn import tree"
   ]
  },
  {
   "cell_type": "markdown",
   "metadata": {},
   "source": [
    "# Power Outages and Fire Size Predictions\n",
    "\n",
    "Riccardo Conte:\n",
    "\n",
    "Habib Djaroueh: Habib worked on acquiring the weather dataset using the OpenWeatherAPI and the data cleaning of the utilities power outages dataset. Habib merged the datasets together. Habib performed EDA in order to see patterns in the dataset, like the number of null values that exist for each column. Habib did feature engineering to prepare the data for modeling, he ended up running 6 models, namely: DecisionTreeClassifier, BaggingClassifier, RandomForestClassifier,\n",
    "RandomizedSearchCV, GradientBoostingClassifier, and Logistic Regression. Ended up with an 87.6% accuracy with the RandomForestClassifier. Habib estimates he worked: around 50 hours on this project.\n",
    "\n",
    "Jack Rogers:\n"
   ]
  },
  {
   "cell_type": "markdown",
   "metadata": {},
   "source": [
    "## Abstract (5 points)\n",
    "Although this section comes first, you'll write it last.  It should be a ~250 word summary of your project.  1/3rd of the abstract should provide background, 1/3rd should explain what you did, and 1/3rd should explain what you learned.\n",
    "\n",
    "In this research project, we analyzed California utilities fire and power outage data from all major utilities, over the years 2014-2023, to discover any correlations among a large number of features to predict and prepare for the event of a power outage and an outage-related fire. We used a number of predictive model approaches based on the type of model and the datasets. We used random forest, gradient boosting, bagging, decision tree, randomized search, and logistic regression to create our blackout model. The most accurate model out of them was the random forest approach which resulted with an 87.7% testing accuracy, and an optimal classification report. Upon inspecting the results, we found that dew point (unit: Kelvin, feature importance (FI) = 100%) was most heavily correlated to predicting a power outage, followed by “feels like” temperature (unit: Kelvin, FI=96.11%), and temperature (unit: Kelvin, FI=91.34%), humidity (unit: %, FI=89.12%), and wind direction (unit: degrees, FI=83.65%). The second predictive model used random forest regression, support vector machine (SVM), and K-nearest neighbor (KNN) to predict the size of a wildfire caused by an accidental ignition. This model was also most accurately predicted by random foresting with a testing accuracy of 81.9%. Due to the nature of the wildfire data, we noticed an imbalance distribution among the fire size categories, as most of the observations represent wildfires under one acre in size. We presume this data characteristic had an significant impact on the performance of our prediction models. The features found to be most heavily correlated with fire size prediction were dew point (unit: Kelvin, FI=89.83%), “feels like” temperature (unit: Kelvin, FI=88.22%), temperature (unit: Kelvin, PI=87.68%), and wind direction (unit: degrees, FI=82.53%). We learned that dew point is the most prevalent indicator for not only whether or not a blackout is going to occur, but also the size that a fire will spread to. We also correctly expected that temperature and wind conditions have strong correlations to both of these outcomes as well."
   ]
  },
  {
   "cell_type": "markdown",
   "metadata": {},
   "source": [
    "## Project Background (5 points)\n",
    "In this section you will describe relevant background for your project.  It should give enough information that a non-expert can understand in detail the history and / or context of the system or setting you wish to study, the need for quantitative analysis, and, broadly, what impact a quantitative analyses could have on the system.  Shoot for 500 words here.\n",
    "\n",
    "For the past century, especially in the past twenty five years of the 21st century, American culture has placed climate change on the podium of challenges that it has chosen to address – putting it at the forefront of the global sphere in climate tech innovation. Within this sphere, California has been the leader in American politics, pushing for greater government spending and incentives than all other states. One of the main areas touched in the cleaning of the energy portfolio as well as expanding and increasing the resiliency of energy infrastructure throughout the state. To this end, California has three major energy utilities – Pacific Gas & Electric (PG&E), Southern California Edison (SCE), and San Diego Gas and Electric (SDGE) – that are all looking for the most efficient ways to allocate their resources and get the cleanest and most reliable energy system that they can with the resources available.\n",
    "An inherent problem with the current infrastructure is the rampant spread of wildfires that has plagued California for the past few decades. This costs the state tens of billions of dollars if not more to repair homes, businesses, and land damaged by these natural disasters. Not to mention, the blackouts that often come with these fires can lead to serious detriments to quality of life in service areas, even threatening lives in some instances. Whether the cause is extreme weather events, overgrown trees, or dry seasons, these companies are constantly looking for ways to mitigate not only the damage but also the maintenance efforts that they have to put in as a result of these trends.\n",
    "In fact, California as a whole has a market size of around $3 billion per year just on wildfire mitigation alone. Add that to the roughly $22 billion spent on infrastructure hardening and upgrading from 2020 to 2022 and it is clear to see that the demand is there for answers on where to spend the next dollar in the budget for the most effect (Lazo).\n",
    "One solution to this resource allocation problem is quantitative analysis. This solution provides a unique opportunity to look at physical data and from the outputs determine the best way to solve the problem. This method creates reproducible results that allow you to have an objective understanding of the most efficient way to address a situation that you have already seen before. On top of that, if allows for model computing that is able to learn from itself as it fails and succeeds. By optimizing itself over time, the wide scale adoption of a solution such as this would ensure a very reliable read out of things such as: areas that are susceptible to the next blackout, and areas susceptible to large scale wildfires based on a pre-set table of features that are collected.\n",
    "\n",
    "\n",
    "      "
   ]
  },
  {
   "cell_type": "markdown",
   "metadata": {
    "jp-MarkdownHeadingCollapsed": true
   },
   "source": [
    "## Project Objective (5 points)\n",
    "In this section you will pose the central objective or objectives for your semester project.  Objectives should be extremely clear, well-defined and clearly cast as forecasting problems.  \n",
    "\n",
    "Some example questions: \n",
    "1. *\"The purpose of this project is to train and evaluate different models to predict soil heavy metal contamination levels across the state of Louisiana, using a variety of features drawn from EPA, the US Census, and NAICS databases.\"* or\n",
    "2. *\"The purpose of this project is to train and evaluate different models to predict 1-minute generation from a UCSD solar PV site, up to 2 hours into the future, using historical data as well as basic weather forecast variables.*\" or\n",
    "3. *\"The purpose of this project is to forecast daily emergency room visits for cardiac problems in 4 major US cities, using a majority of features including air quality forecasts, weather forecasts and seasonal variables.\"*\n",
    "\n",
    "You should reflect here on why it's important to answer these questions.  In most cases this will mean that you'll frame the answers to your questions as informing one or more *resource allocation* problems.  If you have done a good job of providing project background (in the cell above) then this reflection will be short and easy to write.\n",
    "\n",
    "**Comment on novelty:** You may find it hard to identify a project question that has *never* been answered before.  It's ok if you take inspiration from existing analyses.  However you shouldn't exactly reproduce someone else's analysis.  If you take inspiration from another analyses, you should still use different models, different data, and so on.\n",
    "\n",
    "\n",
    "The purpose of this project is to train and evaluate various predictive models to forecast power outages in California, particularly focusing on those potentially initiated by wildfires. Additionally, the project aims to develop a complementary model to predict the size and spread of wildfires based on historical data and environmental factors.\n",
    "These objectives hold significant importance for multiple reasons. First, by improving the ability to predict power outages, utility companies can better prepare for and mitigate service interruptions, reducing their impact on communities. Second, forecasting the size of wildfires can enhance emergency response planning, enabling first responders to allocate personnel and equipment to areas at greatest risk. Together, these models can inform decision-making for proactive safety measures such as Public Safety Power Shutoffs (PSPS), evacuation orders, and resource pre-positioning.\n",
    "The broader implications of this work include increased public safety, as faster and more accurate predictions reduce the risk to human life and property. Furthermore, enhanced resource allocation saves money, labor, and time for utilities and emergency management organizations. These savings can be redirected to strengthen infrastructure and improve community preparedness. From a policy perspective, insights gained through this analysis can help prioritize investments in fire prevention and grid resiliency measures, contributing to long-term solutions for California’s wildfire and energy challenges.\n",
    "In essence, this project aims to combine machine learning techniques with real-world data to address critical societal needs, making communities safer and utilities more efficient.\n"
   ]
  },
  {
   "cell_type": "markdown",
   "metadata": {},
   "source": [
    "## Input Data Description (5 points) (Not Done)\n",
    "Here you will provide an initial description of your data sets, including:\n",
    "1. The origins of your data.  Where did you get the data?  How were the data collected from the original sources?  You must provide enough information for the reader to be able to access the data themselves.  \n",
    "2. The structure, granularity, scope, temporality and faithfulness (SGSTF) of your data.  To discuss these attributes you should load the data into one or more data frames (so you'll start building code cells for the first time).  At a minimum, use some basic methods (`.head`, `.loc`, and so on) to provide support for the descriptions you provide for SGSTF. \n",
    "3. You should also describe which data fields you will use as your target variables, and which you will use as features.\n",
    "\n",
    "To accomplish the objectives of this project, we sourced data from multiple reputable sources, ensuring a comprehensive dataset to train and evaluate our predictive models. Below is an initial description of the datasets, including their origins, attributes, and intended roles:\n",
    "1. Data Origins and Collection Methods\n",
    "We sourced the fire incident data directly from the California Public Utilities Commission (CPUC) on wildfire safety. If you scroll down to “Fire Ignition Data”, you can find links to the data from these utilities: SDG&E, SCE, & PG&E. The original datasets were downloaded as annual excel workbooks, and then combined. The original datasets include detailed information about utility name, fire incident date, time, latitude and longitude, material at origin, land use at origin, size, presence of power outage, and more.\n",
    "We also retrieved the weather data from OpenWeatherMap using this link: https://api.openweathermap.org/data/3.0/onecall/timemachine?lat={lat}&lon={lon}&dt={time}&appid={API key} and an API key (“c4f120b33c59fae75c8b731da1756e0e”) that is on the One Call API plan (free subscription APIs would not work here). Using the link above, and inputting Latitude (Latitude coordinate [degrees]), Longitude (Longitude coordinate [degrees]), datetime (Full timestamp of the incident), datetime_unix (Timestamp in Unix format [seconds]), and the API key into each {“”} section to retrieve weather data from that given data point. We automated this process to extract weather data with the proper scope and temporality, and created a dataset. This dataset provides detailed weather observations, including hourly and daily metrics like temperature, wind speed, humidity, and pressure. These factors play a critical role in understanding wildfire behavior and power grid vulnerability.\n",
    "These datasets provide a well-rounded view of the problem, addressing both environmental and infrastructure-related dimensions of fire and power outage dynamics.\n",
    "\n",
    "2. Data Structure, Granularity, Scope, Temporality, and Faithfulness (SGSTF)\n",
    "Structure: The datasets include structured data fields that provide both temporal and spatial information alongside categorical descriptors. Key fields include: the exact date and time of fire events, which are critical for temporal analysis and matching with weather and power outage data; spatial coordinates pinpointing the location of fire origins, enabling geospatial analysis and integration with other location-based datasets; and categorical data such as material at origin, and land use at origin.\n",
    "Granularity: The dataset includes fine-grained temporal details, such as the exact start date and time (down to the minute) of wildfires. This precision allows for a more accurate correlation between weather conditions, fire incidents, and power outages. Coupled with spatial data (latitude and longitude), this granularity enables the analysis to focus on localized patterns and immediate temporal trends, which are essential for predicting wildfire behavior and its impact on power grid infrastructure.\n",
    "Scope: The focus is on California, encompassing its diverse ecosystems, wildfire-prone zones, and utility service areas.\n",
    "Temporality: Datasets span at least the last decade (2014-2023) to capture trends and patterns in wildfire activity, weather variability, and grid performance.\n",
    "Faithfulness: Each dataset has been vetted for accuracy, completeness, and relevance to ensure reliability and representativeness. They were obtained from an official governmental database and an open weather source.\n",
    "3. Target Variables and Features\n",
    "The target variable for the power outage model is a binary indicator of outages: \"Outage\" or \"No Outage\". The features for this model are: Material at Origin (Type of material involved at fire origin), Land Use at Origin (Type of land use where fire started, e.g., residential, commercial), Size (Size of the incident area [acres]), Voltage (Volts) (Voltage level involved in the incident [kV]), Equipment Involved With Ignition (Type of equipment involved in ignition), Type (Categorization of incident type), temp (Daily mean temperature [Kelvin]), feels_like (Perceived temperature [Kelvin]), pressure (Atmospheric pressure [hPa]), humidity (Relative humidity [%]), dew_point (Dew point temperature [Kelvin]), clouds (Cloud cover percentage [%]), wind_speed (Average daily wind speed [meters/second]), wind_deg (Wind direction [degrees]), and wind_gust (Wind gust speed [meters/second]). \n",
    "\n",
    "\n",
    "The target variable for the fire size model is a multi-categorical size prediction, these are the categories: 0-0.99 Acres, 1-9.99 Acres, 10-99.9 Acres, 100-999.9 Acres, 1000-5000 Acres and more. The features for this model are the same as the previous model; however, we hot-encoded them into ranges of values (e.g. Voltage_Low Voltage(0-1kV), Voltage_Medium Voltage (1–15kV)) and unique categories for categorical features (e.g. Material at Origin_Vegetation', 'Material at Origin_Vehicle'). The features for this model are: temp (Daily mean temperature [Kelvin]), feels_like (Perceived temperature [Kelvin]), pressure (Atmospheric pressure [hPa]), humidity (Relative humidity [%]), dew_point (Dew point temperature [Kelvin]), clouds (Cloud cover percentage [%]), wind_speed (Average daily wind speed [meters/second]), wind_deg (Wind direction [degrees]), Land Use at Origin (Type of land use where fire started, e.g., residential, commercial), Voltage (Volts) (Voltage level involved in the incident [kV]), Material at Origin (Type of material involved at fire origin), Equipment Involved With Ignition (Type of equipment involved in ignition), Type (Categorization of incident type)\n",
    "\n",
    "PRINT ALL COLUMNS ON JUPYTER ###\n",
    "\n",
    "The weather data from OpenWeatherMap will be crucial for tracking environmental conditions leading up to outages or wildfires. The fire incident and power outage data will provide the historical context necessary for identifying patterns and correlations. Data will be cleaned and merged using common keys, such as geographic locations and timestamps, to create a unified dataset for analysis. By integrating these datasets, we aim to develop robust predictive models that address our project’s goals of forecasting power outages and wildfire sizes. \n"
   ]
  },
  {
   "cell_type": "markdown",
   "metadata": {},
   "source": [
    "## Data Cleaning (10 points)\n",
    "In this section you will walk through the data cleaning and merging process.  Explain how you make decisions to clean and merge the data.  Explain how you convince yourself that the data don't contain problems that will limit your ability to produce a meaningful analysis from them.  "
   ]
  },
  {
   "cell_type": "markdown",
   "metadata": {},
   "source": [
    "--\n",
    "\n",
    "Data Cleaning Southern California Edinson (SCE) outage data.\n",
    "\n",
    "--"
   ]
  },
  {
   "cell_type": "code",
   "execution_count": 1559,
   "metadata": {},
   "outputs": [],
   "source": [
    "sce = pd.read_csv('sce.csv')\n",
    "# Data cleaning process\n",
    "sce.columns = sce.iloc[0]  # Set the first row as column names\n",
    "sce = sce[1:]  # Remove the first row since it's now the header\n",
    "\n",
    "# Rename specific columns for clarity\n",
    "sce.rename(columns={np.nan: 'Utility Name', \n",
    "                    'Date': 'Fire Start Date', \n",
    "                    'Time': 'Fire Start Time'}, inplace=True)\n",
    "\n",
    "# Drop unnecessary columns\n",
    "sce.drop(columns=['Suppressed by', 'Suppressing Agency', 'Other Companies', 'Facility Contacted'], inplace=True)\n",
    "\n",
    "# Remove duplicated columns and limit rows to the desired range\n",
    "sce_b_m = sce.loc[:, ~sce.columns.duplicated()]  # Remove duplicate columns\n",
    "sce_b_m = sce_b_m.iloc[:1120, :]  # Keep only the first 1120 rows"
   ]
  },
  {
   "cell_type": "markdown",
   "metadata": {},
   "source": [
    "--\n",
    "\n",
    "Data Cleaning San Diego Gas & Electric (SDG&E) outage data.\n",
    "\n",
    "--"
   ]
  },
  {
   "cell_type": "code",
   "execution_count": 1561,
   "metadata": {},
   "outputs": [],
   "source": [
    "sdge = pd.read_csv('sdge_new.csv', encoding='latin-1')  # Load data with appropriate encoding\n",
    "sdge.columns = sdge.iloc[0]  # Set the first row as column names\n",
    "sdge = sdge[1:]  # Remove the first row as it is now the header\n",
    "\n",
    "# Rename specific columns for clarity\n",
    "sdge.rename(columns={np.nan: 'Utility Name', \n",
    "                     'Date': 'Fire Start Date', \n",
    "                     'Time': 'Fire Start Time'}, inplace=True)\n",
    "\n",
    "# Remove duplicate columns\n",
    "sdge_b_m = sdge.loc[:, ~sdge.columns.duplicated()]  # Keep only unique columns"
   ]
  },
  {
   "cell_type": "markdown",
   "metadata": {},
   "source": [
    "--\n",
    "\n",
    "Data Cleaning Pacific Gas & Electric (PG&E) outage data\n",
    "\n",
    "--"
   ]
  },
  {
   "cell_type": "code",
   "execution_count": 1563,
   "metadata": {},
   "outputs": [],
   "source": [
    "pge = pd.read_csv('PG&E.csv')\n",
    "\n",
    "pge.rename(columns = {'Unnamed: 0' : 'Utility Name', \n",
    "                      'Equipment /Facility \\nFailure' : 'Equipment /Facility Failure',\n",
    "                      'Contact From \\nObject' : 'Contact From Object', 'Fire Size' : 'Size'}, inplace = True)\n",
    "# PG&E: rename Equipment /Facility \\nFailure'-> 'Equipment /Facility Failure' and 'Contact From \\nObject'-> 'Contact From Object'\n",
    "\n",
    "pge_b_m = pge.loc[:, ~pge.columns.duplicated()]"
   ]
  },
  {
   "cell_type": "markdown",
   "metadata": {},
   "source": [
    "--\n",
    "\n",
    "Combining the 3 utilities cleaned data into one dataframe: resultant.\n",
    "\n",
    "--"
   ]
  },
  {
   "cell_type": "markdown",
   "metadata": {},
   "source": [
    "The fact that we have at least 5200 full rows of utility power outage information from 2014-2023 from a trusted reliable source, assures us that we have sufficient data to make a good prediction."
   ]
  },
  {
   "cell_type": "code",
   "execution_count": 1566,
   "metadata": {},
   "outputs": [],
   "source": [
    "result_a = pd.concat([sce_b_m, pge_b_m], axis=0, join = 'inner')\n",
    "resultant = pd.concat([result_a, sdge_b_m], axis=0, join = 'inner')"
   ]
  },
  {
   "cell_type": "code",
   "execution_count": 1567,
   "metadata": {},
   "outputs": [
    {
     "name": "stdout",
     "output_type": "stream",
     "text": [
      "<class 'pandas.core.frame.DataFrame'>\n",
      "Index: 15749 entries, 1 to 278\n",
      "Data columns (total 13 columns):\n",
      " #   Column                            Non-Null Count  Dtype \n",
      "---  ------                            --------------  ----- \n",
      " 0   Utility Name                      5446 non-null   object\n",
      " 1   Fire Start Date                   5446 non-null   object\n",
      " 2   Fire Start Time                   5444 non-null   object\n",
      " 3   Latitude                          5443 non-null   object\n",
      " 4   Longitude                         5443 non-null   object\n",
      " 5   Material at Origin                5239 non-null   object\n",
      " 6   Land Use at Origin                5446 non-null   object\n",
      " 7   Size                              5446 non-null   object\n",
      " 8   Facility Identification           5394 non-null   object\n",
      " 9   Voltage\n",
      "(Volts)                   5446 non-null   object\n",
      " 10  Equipment Involved With Ignition  5440 non-null   object\n",
      " 11  Type                              5446 non-null   object\n",
      " 12  Was There an Outage               5444 non-null   object\n",
      "dtypes: object(13)\n",
      "memory usage: 1.7+ MB\n"
     ]
    }
   ],
   "source": [
    "resultant.info()"
   ]
  },
  {
   "cell_type": "code",
   "execution_count": 1568,
   "metadata": {},
   "outputs": [
    {
     "data": {
      "text/plain": [
       "(15749, 13)"
      ]
     },
     "execution_count": 1568,
     "metadata": {},
     "output_type": "execute_result"
    }
   ],
   "source": [
    "resultant.shape"
   ]
  },
  {
   "cell_type": "markdown",
   "metadata": {},
   "source": [
    "--\n",
    "\n",
    "Cleaning the resultant dataframe, removing all non-existant/NaN values, modifying human input errors as API expects a clean input for Longitude, Latitude, and datetime_unix. For example, some input values have tabs, spacing, semi-collons instead of collons.\n",
    "\n",
    "--"
   ]
  },
  {
   "cell_type": "code",
   "execution_count": 1570,
   "metadata": {},
   "outputs": [],
   "source": [
    "resultant.dropna(how = 'any', inplace = True)\n",
    "resultant = resultant[resultant['Fire Start Time'] != 'Not Provided']\n",
    "resultant = resultant[resultant['Latitude'] != 'Not Provided']\n",
    "resultant = resultant[resultant['Latitude'] != 'N/A']\n",
    "resultant = resultant[resultant['Latitude'] != '0']\n",
    "resultant = resultant.loc[resultant['Fire Start Time'] != 'Unknown']\n",
    "resultant = resultant.loc[resultant['Fire Start Time'] != 'unknown']\n",
    "resultant.iloc[911, :]['Fire Start Time'] = '13:23'\n",
    "resultant.loc[4967, 'Fire Start Time'] = '13:04'\n",
    "resultant.iloc[4975, :]['Fire Start Date'] = '2/18/16'\n",
    "resultant.loc[317, 'Latitude'] = '35.427678'\n",
    "resultant.loc[825, 'Latitude'] = '33.862869' # had tab\n",
    "resultant.loc[883, 'Latitude'] = '33.850691' # had tab\n",
    "resultant.loc[674, 'Longitude'] = '-118.133591'\n",
    "resultant.iloc[4967, :]['Fire Start Time'] = '13:04'\n",
    "resultant.iloc[5130, :]['Fire Start Time'] = '18:26'"
   ]
  },
  {
   "cell_type": "markdown",
   "metadata": {},
   "source": [
    "Using 2 columns, 'Fire Start Date' and 'Fire Start Time' we created a datetime column named 'datetime'."
   ]
  },
  {
   "cell_type": "code",
   "execution_count": 1572,
   "metadata": {},
   "outputs": [],
   "source": [
    "resultant['datetime'] = pd.to_datetime(resultant['Fire Start Date'] + ' ' + resultant['Fire Start Time'], format='mixed')\n",
    "resultant = resultant[~resultant['datetime'].isin(['NaT'])]"
   ]
  },
  {
   "cell_type": "markdown",
   "metadata": {},
   "source": [
    "Converted 'datetime' column into unix timestamp format because API takes 4 arguments: 'Latitude', 'Longitude', 'datetime' (in UNIX format), and 'API Key'."
   ]
  },
  {
   "cell_type": "code",
   "execution_count": 1574,
   "metadata": {},
   "outputs": [],
   "source": [
    "resultant['datetime_unix'] = (resultant['datetime'].apply(lambda x: x.timestamp())).astype(int)"
   ]
  },
  {
   "cell_type": "markdown",
   "metadata": {},
   "source": [
    "The function 'scrape_weather_data' iterates over every single observation within the resultant dataframe, for every observation we have a\n",
    "longitude, latitude, dt object value each of these together will result in an API call with this format: \n",
    "\n",
    "'https://api.openweathermap.org/data/3.0/onecall/timemachine?lat=38.045&lon=-122.25333&dt=1643803200&appid=c4f120b33c59fae75c8b731da1756e0e'\n",
    "\n",
    "For API call we scrape the website for the values for temp, feels_like, pressure, humidity, dew_point, clouds, wind_speed, wind_deg, wind_gust\n",
    "\n",
    "For context, an example of information that exists on a website: \n",
    "\n",
    "'{\"lat\":38.045,\"lon\":-122.2533,\"timezone\":\"America/Los_Angeles\",\"timezone_offset\":-28800,\"data\":[{\"dt\":1643803200,\"sunrise\":1643814756,\"sunset\":1643851969,\"temp\":281.94,\"feels_like\":280.74,\"pressure\":1020,\"humidity\":54,\"dew_point\":273.15,\"clouds\":0,\"wind_speed\":2.24,\"wind_deg\":315,\"wind_gust\":2.68,\"weather\":[{\"id\":800,\"main\":\"Clear\",\"description\":\"clear sky\",\"icon\":\"01n\"}]}]}'\n",
    "\n",
    "After extracting these values, we create a dataframe, containing, longitude, latitude, dt object AND temp, feels_like, pressure, humidity, dew_point, clouds, wind_speed, wind_deg, wind_gust.\n"
   ]
  },
  {
   "cell_type": "code",
   "execution_count": 1576,
   "metadata": {},
   "outputs": [],
   "source": [
    "def scrape_weather_data(resultant):\n",
    "    # Base API URL and API Key\n",
    "    api_base = \"https://api.openweathermap.org/data/3.0/onecall/timemachine\"\n",
    "    api_key = \"c4f120b33c59fae75c8b731da1756e0e\"\n",
    "    \n",
    "    # List to hold the results\n",
    "    weather_data = []\n",
    "    \n",
    "    # Iterate over the DataFrame rows\n",
    "    for _, row in resultant.iterrows():\n",
    "        lat = row['Latitude']\n",
    "        lon = row['Longitude']\n",
    "        dt = row['datetime_unix']\n",
    "        \n",
    "        # Construct the API URL\n",
    "        api_url = f\"{api_base}?lat={lat}&lon={lon}&dt={dt}&appid={api_key}\"\n",
    "        \n",
    "        try:\n",
    "            # Make the API call\n",
    "            response = requests.get(api_url)\n",
    "            response.raise_for_status()  # Raise an error for bad responses\n",
    "            \n",
    "            # Parse the JSON response\n",
    "            data = response.json()\n",
    "            weather = data['data'][0]  # Access the first element in the \"data\" list\n",
    "            \n",
    "            # Extract required fields\n",
    "            extracted = {\n",
    "                \"Latitude\": lat,\n",
    "                \"Longitude\": lon,\n",
    "                \"datetime_unix\": dt,\n",
    "                \"temp\": weather.get(\"temp\"),\n",
    "                \"feels_like\": weather.get(\"feels_like\"),\n",
    "                \"pressure\": weather.get(\"pressure\"),\n",
    "                \"humidity\": weather.get(\"humidity\"),\n",
    "                \"dew_point\": weather.get(\"dew_point\"),\n",
    "                \"clouds\": weather.get(\"clouds\"),\n",
    "                \"wind_speed\": weather.get(\"wind_speed\"),\n",
    "                \"wind_deg\": weather.get(\"wind_deg\"),\n",
    "                \"wind_gust\": weather.get(\"wind_gust\")\n",
    "            }\n",
    "            \n",
    "            # Append the extracted data\n",
    "            weather_data.append(extracted)\n",
    "        \n",
    "        except Exception as e:\n",
    "            print(f\"Error processing row {row.name}: {e}\")\n",
    "    \n",
    "    # Create a DataFrame from the collected data\n",
    "    weather_df = pd.DataFrame(weather_data)\n",
    "    return weather_df"
   ]
  },
  {
   "cell_type": "markdown",
   "metadata": {},
   "source": [
    "Further cleanining the dataset, preparing it for the process_and_save_batches function, the function errors the moment it encounters an input value that is unconventional and wouldn't result in the weather dataframe that we want. As a result, with the interest of perserving as much information as much, we modified each cell, that was putting of the data procurement process."
   ]
  },
  {
   "cell_type": "code",
   "execution_count": 1578,
   "metadata": {},
   "outputs": [],
   "source": [
    "resultant.loc[4983, 'Longitude'] = '-117.12045'"
   ]
  },
  {
   "cell_type": "markdown",
   "metadata": {},
   "source": [
    "Getting the function to extract data for each of the 5200 rows took too long, we broke up the procurement into 600 batches and downloaded them one at a time, then we proceeded to concatenate the batches together, resulting in the weather dataset. "
   ]
  },
  {
   "cell_type": "code",
   "execution_count": 1580,
   "metadata": {},
   "outputs": [],
   "source": [
    "def process_and_save_batches(container, scrape_weather_data, start_index=4694, batch_size=500, start_batch_number=10):\n",
    "    \"\"\"\n",
    "    Process and save DataFrame in batches.\n",
    "\n",
    "    Parameters:\n",
    "        container (pd.DataFrame): The input DataFrame to process.\n",
    "        scrape_weather_data (function): Function to apply to each batch of data.\n",
    "        start_index (int): The starting index for batching. Default is 4694.\n",
    "        batch_size (int): The size of each batch. Default is 500.\n",
    "        start_batch_number (int): The starting file number for naming output files. Default is 10.\n",
    "    \"\"\"\n",
    "    batch_number = start_batch_number  # Initialize batch number\n",
    "\n",
    "    for i in range(start_index, len(container), batch_size):\n",
    "        # Get the current batch\n",
    "        batch = container.iloc[i:i + batch_size]\n",
    "        \n",
    "        # Apply the function to the batch\n",
    "        processed_batch = scrape_weather_data(batch)\n",
    "        \n",
    "        # Save the processed batch to a CSV file\n",
    "        file_name = f\"df_{batch_number}.csv\"\n",
    "        processed_batch.to_csv(file_name, index=False)\n",
    "        print(f'Done processing batch {batch_number}')\n",
    "        \n",
    "        # Increment the batch number\n",
    "        batch_number += 1"
   ]
  },
  {
   "cell_type": "code",
   "execution_count": 1581,
   "metadata": {},
   "outputs": [
    {
     "data": {
      "text/html": [
       "<div>\n",
       "<style scoped>\n",
       "    .dataframe tbody tr th:only-of-type {\n",
       "        vertical-align: middle;\n",
       "    }\n",
       "\n",
       "    .dataframe tbody tr th {\n",
       "        vertical-align: top;\n",
       "    }\n",
       "\n",
       "    .dataframe thead th {\n",
       "        text-align: right;\n",
       "    }\n",
       "</style>\n",
       "<table border=\"1\" class=\"dataframe\">\n",
       "  <thead>\n",
       "    <tr style=\"text-align: right;\">\n",
       "      <th></th>\n",
       "      <th>Latitude</th>\n",
       "      <th>Longitude</th>\n",
       "      <th>datetime_unix</th>\n",
       "      <th>temp</th>\n",
       "      <th>feels_like</th>\n",
       "      <th>pressure</th>\n",
       "      <th>humidity</th>\n",
       "      <th>dew_point</th>\n",
       "      <th>clouds</th>\n",
       "      <th>wind_speed</th>\n",
       "      <th>wind_deg</th>\n",
       "      <th>wind_gust</th>\n",
       "    </tr>\n",
       "  </thead>\n",
       "  <tbody>\n",
       "    <tr>\n",
       "      <th>0</th>\n",
       "      <td>33.903630</td>\n",
       "      <td>-118.038698</td>\n",
       "      <td>1401386400</td>\n",
       "      <td>296.22</td>\n",
       "      <td>296.10</td>\n",
       "      <td>1012</td>\n",
       "      <td>58</td>\n",
       "      <td>287.52</td>\n",
       "      <td>0</td>\n",
       "      <td>3.10</td>\n",
       "      <td>0</td>\n",
       "      <td>NaN</td>\n",
       "    </tr>\n",
       "    <tr>\n",
       "      <th>1</th>\n",
       "      <td>34.555046</td>\n",
       "      <td>-118.117789</td>\n",
       "      <td>1401960000</td>\n",
       "      <td>291.41</td>\n",
       "      <td>290.21</td>\n",
       "      <td>1010</td>\n",
       "      <td>35</td>\n",
       "      <td>275.71</td>\n",
       "      <td>0</td>\n",
       "      <td>2.66</td>\n",
       "      <td>180</td>\n",
       "      <td>NaN</td>\n",
       "    </tr>\n",
       "    <tr>\n",
       "      <th>2</th>\n",
       "      <td>33.680885</td>\n",
       "      <td>-117.948719</td>\n",
       "      <td>1402250400</td>\n",
       "      <td>295.11</td>\n",
       "      <td>295.14</td>\n",
       "      <td>1010</td>\n",
       "      <td>68</td>\n",
       "      <td>288.94</td>\n",
       "      <td>40</td>\n",
       "      <td>3.60</td>\n",
       "      <td>220</td>\n",
       "      <td>NaN</td>\n",
       "    </tr>\n",
       "    <tr>\n",
       "      <th>3</th>\n",
       "      <td>35.715100</td>\n",
       "      <td>-118.511067</td>\n",
       "      <td>1402664400</td>\n",
       "      <td>286.06</td>\n",
       "      <td>284.66</td>\n",
       "      <td>1013</td>\n",
       "      <td>48</td>\n",
       "      <td>275.32</td>\n",
       "      <td>0</td>\n",
       "      <td>1.18</td>\n",
       "      <td>326</td>\n",
       "      <td>NaN</td>\n",
       "    </tr>\n",
       "    <tr>\n",
       "      <th>4</th>\n",
       "      <td>34.162642</td>\n",
       "      <td>-118.676722</td>\n",
       "      <td>1403103600</td>\n",
       "      <td>288.48</td>\n",
       "      <td>288.11</td>\n",
       "      <td>1013</td>\n",
       "      <td>78</td>\n",
       "      <td>284.67</td>\n",
       "      <td>3</td>\n",
       "      <td>1.28</td>\n",
       "      <td>118</td>\n",
       "      <td>NaN</td>\n",
       "    </tr>\n",
       "  </tbody>\n",
       "</table>\n",
       "</div>"
      ],
      "text/plain": [
       "    Latitude   Longitude  datetime_unix    temp  feels_like  pressure  \\\n",
       "0  33.903630 -118.038698     1401386400  296.22      296.10      1012   \n",
       "1  34.555046 -118.117789     1401960000  291.41      290.21      1010   \n",
       "2  33.680885 -117.948719     1402250400  295.11      295.14      1010   \n",
       "3  35.715100 -118.511067     1402664400  286.06      284.66      1013   \n",
       "4  34.162642 -118.676722     1403103600  288.48      288.11      1013   \n",
       "\n",
       "   humidity  dew_point  clouds  wind_speed  wind_deg  wind_gust  \n",
       "0        58     287.52       0        3.10         0        NaN  \n",
       "1        35     275.71       0        2.66       180        NaN  \n",
       "2        68     288.94      40        3.60       220        NaN  \n",
       "3        48     275.32       0        1.18       326        NaN  \n",
       "4        78     284.67       3        1.28       118        NaN  "
      ]
     },
     "execution_count": 1581,
     "metadata": {},
     "output_type": "execute_result"
    }
   ],
   "source": [
    "file_numbers = [1, 2, 2.5, 3, 4, 5, 6, 7, 8, 9, 10]\n",
    "file_names = [f'df_{num}.csv' for num in file_numbers]\n",
    "\n",
    "# Read and concatenate all CSV files\n",
    "weather = pd.concat([pd.read_csv(file) for file in file_names])\n",
    "\n",
    "weather.drop(columns=['Unnamed: 0'], inplace=True)\n",
    "weather.head()"
   ]
  },
  {
   "cell_type": "markdown",
   "metadata": {},
   "source": [
    "We converted the columns into the same column type for the merging."
   ]
  },
  {
   "cell_type": "code",
   "execution_count": 1583,
   "metadata": {},
   "outputs": [],
   "source": [
    "weather['datetime_unix'] = weather['datetime_unix'].astype('object')\n",
    "resultant['datetime_unix'] = resultant['datetime_unix'].astype('object')"
   ]
  },
  {
   "cell_type": "code",
   "execution_count": 1584,
   "metadata": {},
   "outputs": [
    {
     "name": "stdout",
     "output_type": "stream",
     "text": [
      "<class 'pandas.core.frame.DataFrame'>\n",
      "RangeIndex: 5267 entries, 0 to 5266\n",
      "Data columns (total 26 columns):\n",
      " #   Column                            Non-Null Count  Dtype         \n",
      "---  ------                            --------------  -----         \n",
      " 0   Utility Name                      5267 non-null   object        \n",
      " 1   Fire Start Date                   5267 non-null   object        \n",
      " 2   Fire Start Time                   5267 non-null   object        \n",
      " 3   Latitude_x                        5267 non-null   object        \n",
      " 4   Longitude_x                       5267 non-null   object        \n",
      " 5   Material at Origin                5267 non-null   object        \n",
      " 6   Land Use at Origin                5267 non-null   object        \n",
      " 7   Size                              5267 non-null   object        \n",
      " 8   Facility Identification           5267 non-null   object        \n",
      " 9   Voltage\n",
      "(Volts)                   5267 non-null   object        \n",
      " 10  Equipment Involved With Ignition  5267 non-null   object        \n",
      " 11  Type                              5267 non-null   object        \n",
      " 12  Was There an Outage               5267 non-null   object        \n",
      " 13  datetime                          5267 non-null   datetime64[ns]\n",
      " 14  datetime_unix                     5267 non-null   object        \n",
      " 15  Latitude_y                        5267 non-null   float64       \n",
      " 16  Longitude_y                       5267 non-null   float64       \n",
      " 17  temp                              5267 non-null   float64       \n",
      " 18  feels_like                        5267 non-null   float64       \n",
      " 19  pressure                          5267 non-null   int64         \n",
      " 20  humidity                          5267 non-null   int64         \n",
      " 21  dew_point                         5267 non-null   float64       \n",
      " 22  clouds                            5267 non-null   int64         \n",
      " 23  wind_speed                        5267 non-null   float64       \n",
      " 24  wind_deg                          5267 non-null   int64         \n",
      " 25  wind_gust                         764 non-null    float64       \n",
      "dtypes: datetime64[ns](1), float64(7), int64(4), object(14)\n",
      "memory usage: 1.0+ MB\n"
     ]
    }
   ],
   "source": [
    "df = pd.merge(resultant, weather, on=['datetime_unix'], how = 'inner')\n",
    "df.info()"
   ]
  },
  {
   "cell_type": "markdown",
   "metadata": {},
   "source": [
    "## Data Summary and Exploratory Data Analysis (10 points)\n",
    "\n",
    "In this section you should provide a tour through some of the basic trends and patterns in your data.  This includes providing initial plots to summarize the data, such as box plots, histograms, trends over time, scatter plots relating one variable or another.  "
   ]
  },
  {
   "cell_type": "code",
   "execution_count": null,
   "metadata": {},
   "outputs": [],
   "source": []
  },
  {
   "cell_type": "markdown",
   "metadata": {},
   "source": [
    "## Forecasting and Prediction Modeling (25 points)\n",
    "\n",
    "This section is where the rubber meets the road.  In it you must:\n",
    "1. Explore at least 3 prediction modeling approaches for each prediction question, ranging from the simple (e.g. linear regression, KNN) to the complex (e.g. SVM, random forests, Lasso).  \n",
    "2. Motivate all your modeling decisions.  This includes parameter choices (e.g., how many folds in k-fold cross validation, what time window you use for averaging your data) as well as model form (e.g., If you use regression trees, why?  If you include nonlinear features in a regression model, why?). \n",
    "1. Carefully describe your cross validation and model selection process.  You should partition your data into training and testing data sets.  The training data set is what you use for cross-validation (i.e. you sample from within it to create folds, etc.).  The testing data set is held to the very end of your efforts, and used to compare qualitatively different models (e.g. OLS vs random forests).\n",
    "4. Very carefully document your workflow.  We will be reading a lot of projects, so we need you to explain each basic step in your analysis.  \n",
    "5. Seek opportunities to write functions allow you to avoid doing things over and over, and that make your code more succinct and readable. "
   ]
  },
  {
   "cell_type": "markdown",
   "metadata": {},
   "source": [
    "--\n",
    "\n",
    "Power Outage Prediction Models\n",
    "\n",
    "--"
   ]
  },
  {
   "cell_type": "code",
   "execution_count": 1588,
   "metadata": {},
   "outputs": [
    {
     "data": {
      "text/plain": [
       "Index(['Utility Name', 'Fire Start Date', 'Fire Start Time', 'Latitude_x',\n",
       "       'Longitude_x', 'Material at Origin', 'Land Use at Origin', 'Size',\n",
       "       'Facility Identification', 'Voltage\\n(Volts)',\n",
       "       'Equipment Involved With Ignition', 'Type', 'Was There an Outage',\n",
       "       'datetime', 'datetime_unix', 'Latitude_y', 'Longitude_y', 'temp',\n",
       "       'feels_like', 'pressure', 'humidity', 'dew_point', 'clouds',\n",
       "       'wind_speed', 'wind_deg', 'wind_gust'],\n",
       "      dtype='object')"
      ]
     },
     "execution_count": 1588,
     "metadata": {},
     "output_type": "execute_result"
    }
   ],
   "source": [
    "df.columns"
   ]
  },
  {
   "cell_type": "markdown",
   "metadata": {},
   "source": [
    "Converting the dataframe, df into a matrix of numbers, called variable X. To do that we drop columns that do not serve us with the prediction problem of attempting to predict whether an outage occured or not.\n",
    "\n",
    "Created a variable target, which holds the observed y observations for each row within the dataset."
   ]
  },
  {
   "cell_type": "code",
   "execution_count": 1590,
   "metadata": {},
   "outputs": [],
   "source": [
    "df.drop(columns=['Utility Name', 'Fire Start Date', 'Fire Start Time', 'Facility Identification'], inplace=True)\n",
    "target = df['Was There an Outage']"
   ]
  },
  {
   "cell_type": "markdown",
   "metadata": {},
   "source": [
    "Feature Engineering and Preparing Model for Fitting"
   ]
  },
  {
   "cell_type": "code",
   "execution_count": 1592,
   "metadata": {},
   "outputs": [],
   "source": [
    "def one_hot_encode_columns(df, columns):\n",
    "    \"\"\"\n",
    "    Perform sequential one-hot encoding on specified columns of a DataFrame.\n",
    "    \n",
    "    Parameters:\n",
    "        df (pd.DataFrame): The input DataFrame.\n",
    "        columns (list): List of column names to one-hot encode in order.\n",
    "    \n",
    "    Returns:\n",
    "        pd.DataFrame: The resulting DataFrame after applying one-hot encoding.\n",
    "    \"\"\"\n",
    "    for column in columns:\n",
    "        df = pd.get_dummies(df, columns=[column], prefix=column, drop_first=False)\n",
    "    return df\n",
    "\n",
    "# Function to normalize and categorize voltages\n",
    "def categorize_voltage(voltage_series):\n",
    "    def clean_and_convert(value):\n",
    "        # Remove unwanted characters and convert to numerical value\n",
    "        value = str(value).lower().replace(\",\", \"\").replace(\"kv\", \"000\").replace(\"v\", \"\")\n",
    "        value = value.split(\"–\")[0].strip()  # Handle ranges like \"0 – 750\"\n",
    "        try:\n",
    "            return float(value)\n",
    "        except ValueError:\n",
    "            return None\n",
    "\n",
    "    def categorize(value):\n",
    "        if value is None:\n",
    "            return \"Unknown\"\n",
    "        elif value <= 1000:\n",
    "            return \"Low Voltage (0–1kV)\"\n",
    "        elif 1000 < value <= 15000:\n",
    "            return \"Medium Voltage (1–15kV)\"\n",
    "        elif 15000 < value <= 100000:\n",
    "            return \"High Voltage (15–100kV)\"\n",
    "        elif 100000 < value <= 500000:\n",
    "            return \"Extra High Voltage (100–500kV)\"\n",
    "        else:\n",
    "            return \"Ultra High Voltage (>500kV)\"\n",
    "\n",
    "    # Clean and convert the voltages\n",
    "    cleaned_values = voltage_series.apply(clean_and_convert)\n",
    "\n",
    "    # Categorize based on ranges\n",
    "    categories = cleaned_values.apply(categorize)\n",
    "    return categories\n",
    "\n",
    "df['Voltage'] = categorize_voltage(df['Voltage\\n(Volts)'])"
   ]
  },
  {
   "cell_type": "code",
   "execution_count": 1593,
   "metadata": {},
   "outputs": [
    {
     "data": {
      "text/plain": [
       "4503"
      ]
     },
     "execution_count": 1593,
     "metadata": {},
     "output_type": "execute_result"
    }
   ],
   "source": [
    "sum(df['wind_gust'].isna())"
   ]
  },
  {
   "cell_type": "markdown",
   "metadata": {},
   "source": [
    "Further cleaning on the dataframe in order to convert it into a matrix of numbers, called variable X. To do that we drop columns that do not serve us with the prediction problem of attempting to predict whether an outage occured or not.\n",
    "\n",
    "We drop 'wind_gust' as 85% of the observations are null, we can't really make use of that variable to make good predictions."
   ]
  },
  {
   "cell_type": "code",
   "execution_count": 1595,
   "metadata": {},
   "outputs": [
    {
     "data": {
      "text/plain": [
       "Index(['Latitude_x', 'Longitude_x', 'Material at Origin', 'Land Use at Origin',\n",
       "       'Size', 'Voltage\\n(Volts)', 'Equipment Involved With Ignition', 'Type',\n",
       "       'Was There an Outage', 'datetime', 'datetime_unix', 'Latitude_y',\n",
       "       'Longitude_y', 'temp', 'feels_like', 'pressure', 'humidity',\n",
       "       'dew_point', 'clouds', 'wind_speed', 'wind_deg', 'wind_gust',\n",
       "       'Voltage'],\n",
       "      dtype='object')"
      ]
     },
     "execution_count": 1595,
     "metadata": {},
     "output_type": "execute_result"
    }
   ],
   "source": [
    "df.columns"
   ]
  },
  {
   "cell_type": "code",
   "execution_count": 1596,
   "metadata": {},
   "outputs": [],
   "source": [
    "dating = df['datetime'] # dating is for our visualiztions\n",
    "df.drop(columns=['Voltage\\n(Volts)', 'datetime', 'datetime_unix', 'Was There an Outage', 'wind_gust', \n",
    "                'Latitude_x', 'Latitude_y', 'Longitude_x', 'Longitude_y'], inplace=True)"
   ]
  },
  {
   "cell_type": "markdown",
   "metadata": {},
   "source": [
    "Feature Engineering relevant categorical columns. In order to convert the columns into a numerical format, in order to be able to fit the model. In order to perform y = f(X), f takes in only numerical values, we are attempting to get it in that form."
   ]
  },
  {
   "cell_type": "code",
   "execution_count": 1598,
   "metadata": {},
   "outputs": [],
   "source": [
    "columns_to_encode = [\n",
    "    'Land Use at Origin',\n",
    "    'Voltage',\n",
    "    'Material at Origin',\n",
    "    'Equipment Involved With Ignition',\n",
    "    'Type'\n",
    "]\n",
    "\n",
    "# Apply the function\n",
    "resultant_ohe = one_hot_encode_columns(df, columns_to_encode)"
   ]
  },
  {
   "cell_type": "markdown",
   "metadata": {},
   "source": [
    "Feature Engineering Fire Size. The reason for this is because the 'Size' column contained values that feel into inconsistent categories, for example we had 3 categories for the same category, namely: 'Less Than .25 Acres', '< 0.25 Acres', and '<0.25'. Thus we had to do feature engineering to create 5 distinct categories that hosted different sizes of land. This has helped us in order to create X."
   ]
  },
  {
   "cell_type": "code",
   "execution_count": 1600,
   "metadata": {},
   "outputs": [],
   "source": [
    "def linear_meters_to_acres(meters):\n",
    "    square_meters = meters * 1  # Linear meters times width (1 meter)\n",
    "    return square_meters * 0.000247105  # Conversion factor from square meters to acres\n",
    "\n",
    "def classify_acre_size(acres):\n",
    "    if acres < 1:\n",
    "        return '0-0.99 Acres'\n",
    "    elif 1 <= acres < 10:\n",
    "        return '1-9.99 Acres'\n",
    "    elif 10 <= acres < 100:\n",
    "        return '10-99.9 Acres'\n",
    "    elif 100 <= acres < 1000:\n",
    "        return '100-999.9 Acres'\n",
    "    else:\n",
    "        return '1000-5000 Acres and more'\n",
    "\n",
    "size_mapping = {\n",
    "    # Area ranges\n",
    "    'Less Than .25 Acres': '0-0.99 Acres',\n",
    "    '< 0.25 Acres': '0-0.99 Acres',\n",
    "    '<0.25': '0-0.99 Acres',\n",
    "    '.26 - 9.99 Acres': '1-9.99 Acres',\n",
    "    '0.26-9.99': '1-9.99 Acres',\n",
    "    '0.26-9.99 Acres': '1-9.99 Acres',\n",
    "    '10 - 99 Acres': '10-99.9 Acres',\n",
    "    '10-99': '10-99.9 Acres',\n",
    "    '10-99 Acres': '10-99.9 Acres',\n",
    "    '100 - 299 Acres': '100-999.9 Acres',\n",
    "    '300 - 999 Acres': '100-999.9 Acres',\n",
    "    '1000 - 4999 Acres': '1000-5000 Acres and more',\n",
    "    'Greater than 5000 Acres': '1000-5000 Acres and more',\n",
    "    '> 5000 Acres': '1000-5000 Acres and more',\n",
    "    '100+ Acres': '100-999.9 Acres',\n",
    "    '100 + Acres': '100-999.9 Acres',\n",
    "\n",
    "    # Structure-related\n",
    "    'Structure Only': '0-0.99 Acres',\n",
    "    'Structure Only ': '0-0.99 Acres',\n",
    "    'Structure-only': '0-0.99 Acres',\n",
    "\n",
    "    # Small Linear Travel (convert linear meters to acres)\n",
    "    'Less than three (3) meters of linear travel': classify_acre_size(linear_meters_to_acres(3)),\n",
    "    '< 3 meters ': classify_acre_size(linear_meters_to_acres(3)),\n",
    "    '< 3 meters': classify_acre_size(linear_meters_to_acres(3)),\n",
    "    '< 3 Meters': classify_acre_size(linear_meters_to_acres(3)),\n",
    "    '<3 meters of linear travel': classify_acre_size(linear_meters_to_acres(3)),\n",
    "    'Less than three(3) meters of linear travel': classify_acre_size(linear_meters_to_acres(3)),\n",
    "    'Less than three {3} meters of linear travel': classify_acre_size(linear_meters_to_acres(3)),\n",
    "    '< 1 meter': classify_acre_size(linear_meters_to_acres(1)),\n",
    "    '1 meter - < 3 meters': classify_acre_size(linear_meters_to_acres(3)),\n",
    "    '3 meters - 0.25 Acres': '0-0.99 Acres',\n",
    "\n",
    "    # Miscellaneous\n",
    "    'Other': 'Unknown',\n",
    "    'Unknown': 'Unknown',\n",
    "    '0.25 - 10 Acres': '1-9.99 Acres',\n",
    "    '10 - 100 Acres': '10-99.9 Acres'\n",
    "}\n",
    "\n",
    "resultant_ohe['Size'] = resultant_ohe['Size'].replace(size_mapping)\n",
    "res = one_hot_encode(resultant_ohe, 'Size')"
   ]
  },
  {
   "cell_type": "markdown",
   "metadata": {},
   "source": [
    "We standardize the dataframe to a 0–1 range to ensure that features are on a comparable scale, improve model performance and to achieve convergence when when performing prediction."
   ]
  },
  {
   "cell_type": "code",
   "execution_count": 1602,
   "metadata": {},
   "outputs": [
    {
     "data": {
      "text/plain": [
       "(5267, 109)"
      ]
     },
     "execution_count": 1602,
     "metadata": {},
     "output_type": "execute_result"
    }
   ],
   "source": [
    "scaler = MinMaxScaler()\n",
    "columns_to_scale = ['temp', 'feels_like', 'pressure', 'humidity', 'dew_point', 'clouds', 'wind_speed', 'wind_deg']\n",
    "res[columns_to_scale] = scaler.fit_transform(res[columns_to_scale])\n",
    "res.shape"
   ]
  },
  {
   "cell_type": "markdown",
   "metadata": {},
   "source": [
    "At this point we have X (each column is a relevant numerical column) and y (our target variable), we can begin modeling. We begin with a Logistic Regression model.\n",
    "\n"
   ]
  },
  {
   "cell_type": "code",
   "execution_count": 1604,
   "metadata": {},
   "outputs": [],
   "source": [
    "from sklearn.linear_model import LogisticRegression as LR\n",
    "from sklearn.model_selection import train_test_split\n",
    "from sklearn.model_selection import train_test_split\n",
    "from sklearn.tree import DecisionTreeClassifier\n",
    "from sklearn.model_selection import cross_val_score\n",
    "from sklearn import tree"
   ]
  },
  {
   "cell_type": "code",
   "execution_count": 1605,
   "metadata": {},
   "outputs": [],
   "source": [
    "# convert the target variable from boolean values into numerical 1 and 0 values.\n",
    "y_mapped = target.replace({'Y': 'Yes', 'yes': 'Yes', 'no': 'No', 'N': 'No'})\n",
    "y = y_mapped.map({'Yes': 1, 'No': 0})\n",
    "\n",
    "# converting dataframe into a matrix X\n",
    "X = res[list(res.columns)]\n",
    "\n",
    "# splitting X and y into X_train, X_test, Y_train, Y_test\n",
    "X_train, X_test, Y_train, Y_test = train_test_split(X,y, test_size=0.25, random_state=42)\n",
    "def add_bias_column(X):\n",
    "    return np.hstack([np.ones((len(X), 1)), X])\n",
    "\n",
    "X_intercept_train = add_bias_column(X_train)"
   ]
  },
  {
   "cell_type": "code",
   "execution_count": 1606,
   "metadata": {},
   "outputs": [
    {
     "data": {
      "text/html": [
       "<style>#sk-container-id-9 {color: black;background-color: white;}#sk-container-id-9 pre{padding: 0;}#sk-container-id-9 div.sk-toggleable {background-color: white;}#sk-container-id-9 label.sk-toggleable__label {cursor: pointer;display: block;width: 100%;margin-bottom: 0;padding: 0.3em;box-sizing: border-box;text-align: center;}#sk-container-id-9 label.sk-toggleable__label-arrow:before {content: \"▸\";float: left;margin-right: 0.25em;color: #696969;}#sk-container-id-9 label.sk-toggleable__label-arrow:hover:before {color: black;}#sk-container-id-9 div.sk-estimator:hover label.sk-toggleable__label-arrow:before {color: black;}#sk-container-id-9 div.sk-toggleable__content {max-height: 0;max-width: 0;overflow: hidden;text-align: left;background-color: #f0f8ff;}#sk-container-id-9 div.sk-toggleable__content pre {margin: 0.2em;color: black;border-radius: 0.25em;background-color: #f0f8ff;}#sk-container-id-9 input.sk-toggleable__control:checked~div.sk-toggleable__content {max-height: 200px;max-width: 100%;overflow: auto;}#sk-container-id-9 input.sk-toggleable__control:checked~label.sk-toggleable__label-arrow:before {content: \"▾\";}#sk-container-id-9 div.sk-estimator input.sk-toggleable__control:checked~label.sk-toggleable__label {background-color: #d4ebff;}#sk-container-id-9 div.sk-label input.sk-toggleable__control:checked~label.sk-toggleable__label {background-color: #d4ebff;}#sk-container-id-9 input.sk-hidden--visually {border: 0;clip: rect(1px 1px 1px 1px);clip: rect(1px, 1px, 1px, 1px);height: 1px;margin: -1px;overflow: hidden;padding: 0;position: absolute;width: 1px;}#sk-container-id-9 div.sk-estimator {font-family: monospace;background-color: #f0f8ff;border: 1px dotted black;border-radius: 0.25em;box-sizing: border-box;margin-bottom: 0.5em;}#sk-container-id-9 div.sk-estimator:hover {background-color: #d4ebff;}#sk-container-id-9 div.sk-parallel-item::after {content: \"\";width: 100%;border-bottom: 1px solid gray;flex-grow: 1;}#sk-container-id-9 div.sk-label:hover label.sk-toggleable__label {background-color: #d4ebff;}#sk-container-id-9 div.sk-serial::before {content: \"\";position: absolute;border-left: 1px solid gray;box-sizing: border-box;top: 0;bottom: 0;left: 50%;z-index: 0;}#sk-container-id-9 div.sk-serial {display: flex;flex-direction: column;align-items: center;background-color: white;padding-right: 0.2em;padding-left: 0.2em;position: relative;}#sk-container-id-9 div.sk-item {position: relative;z-index: 1;}#sk-container-id-9 div.sk-parallel {display: flex;align-items: stretch;justify-content: center;background-color: white;position: relative;}#sk-container-id-9 div.sk-item::before, #sk-container-id-9 div.sk-parallel-item::before {content: \"\";position: absolute;border-left: 1px solid gray;box-sizing: border-box;top: 0;bottom: 0;left: 50%;z-index: -1;}#sk-container-id-9 div.sk-parallel-item {display: flex;flex-direction: column;z-index: 1;position: relative;background-color: white;}#sk-container-id-9 div.sk-parallel-item:first-child::after {align-self: flex-end;width: 50%;}#sk-container-id-9 div.sk-parallel-item:last-child::after {align-self: flex-start;width: 50%;}#sk-container-id-9 div.sk-parallel-item:only-child::after {width: 0;}#sk-container-id-9 div.sk-dashed-wrapped {border: 1px dashed gray;margin: 0 0.4em 0.5em 0.4em;box-sizing: border-box;padding-bottom: 0.4em;background-color: white;}#sk-container-id-9 div.sk-label label {font-family: monospace;font-weight: bold;display: inline-block;line-height: 1.2em;}#sk-container-id-9 div.sk-label-container {text-align: center;}#sk-container-id-9 div.sk-container {/* jupyter's `normalize.less` sets `[hidden] { display: none; }` but bootstrap.min.css set `[hidden] { display: none !important; }` so we also need the `!important` here to be able to override the default hidden behavior on the sphinx rendered scikit-learn.org. See: https://github.com/scikit-learn/scikit-learn/issues/21755 */display: inline-block !important;position: relative;}#sk-container-id-9 div.sk-text-repr-fallback {display: none;}</style><div id=\"sk-container-id-9\" class=\"sk-top-container\"><div class=\"sk-text-repr-fallback\"><pre>LogisticRegression(penalty=&#x27;l1&#x27;, solver=&#x27;liblinear&#x27;)</pre><b>In a Jupyter environment, please rerun this cell to show the HTML representation or trust the notebook. <br />On GitHub, the HTML representation is unable to render, please try loading this page with nbviewer.org.</b></div><div class=\"sk-container\" hidden><div class=\"sk-item\"><div class=\"sk-estimator sk-toggleable\"><input class=\"sk-toggleable__control sk-hidden--visually\" id=\"sk-estimator-id-15\" type=\"checkbox\" checked><label for=\"sk-estimator-id-15\" class=\"sk-toggleable__label sk-toggleable__label-arrow\">LogisticRegression</label><div class=\"sk-toggleable__content\"><pre>LogisticRegression(penalty=&#x27;l1&#x27;, solver=&#x27;liblinear&#x27;)</pre></div></div></div></div></div>"
      ],
      "text/plain": [
       "LogisticRegression(penalty='l1', solver='liblinear')"
      ]
     },
     "execution_count": 1606,
     "metadata": {},
     "output_type": "execute_result"
    }
   ],
   "source": [
    "my_model = LR(fit_intercept = True, penalty ='l1', solver = \"liblinear\")\n",
    "my_model.fit(X_train, Y_train)"
   ]
  },
  {
   "cell_type": "code",
   "execution_count": 1607,
   "metadata": {},
   "outputs": [
    {
     "data": {
      "text/plain": [
       "0.860253164556962"
      ]
     },
     "execution_count": 1607,
     "metadata": {},
     "output_type": "execute_result"
    }
   ],
   "source": [
    "# Based on the model we have created, we attempt to predict X_train, then we see how accurate it is compared to Y_Train\n",
    "train_predictions = my_model.predict(X_train)\n",
    "training_accuracy = np.mean(train_predictions == Y_train)\n",
    "training_accuracy"
   ]
  },
  {
   "cell_type": "markdown",
   "metadata": {},
   "source": [
    "We attempt to optimize for 2 hyperparameters using sci-kit learns GridSearchCV.\n",
    "\n",
    "C: Inverse of regularization strength; must be a positive float. Like in support vector machines, smaller values specify stronger regularization.\n",
    "\n",
    "max_iter: Maximum number of iterations taken for the solvers to converge.\n",
    "\n",
    "I decide to go with cv = 7 because that number of folds increases has the highest testing accuracy. \n",
    "\n",
    "I used a logistic regression model to predict power outages because it is efficient for binary classification problems, with a probabilistic threshold of 0.5 to determine class membership. A 7-fold cross-validation process was applied to evaluate model performance, where the data is split into 7 subsets, and the model is trained and validated iteratively to ensure generalizability and reduce overfitting."
   ]
  },
  {
   "cell_type": "code",
   "execution_count": 1609,
   "metadata": {},
   "outputs": [
    {
     "name": "stdout",
     "output_type": "stream",
     "text": [
      "[0.85544423 0.85544423 0.85493854 0.85493854 0.8544324  0.8544324\n",
      " 0.85341968 0.85341968 0.85392626 0.85392626 0.85341968 0.85341968\n",
      " 0.85341968 0.85341968 0.85341968 0.85341968 0.85240695 0.85240695]\n"
     ]
    },
    {
     "data": {
      "text/plain": [
       "0.8602885345482156"
      ]
     },
     "execution_count": 1609,
     "metadata": {},
     "output_type": "execute_result"
    }
   ],
   "source": [
    "\n",
    "# Define the parameters to test in the grid search\n",
    "parameters = {\n",
    "    'C': [2, 3, 4, 6, 5, 7, 8, 9, 19],  # List of values for the hyperparameter 'C' (regularization strength)\n",
    "    'max_iter': [1000, 100000]     # Number of iterations to allow for the solver to converge\n",
    "}\n",
    "\n",
    "# Perform Grid Search with Cross-Validation\n",
    "grid = GridSearchCV(  \n",
    "    estimator=my_model,       # The model to tune (e.g., logistic regression, SVM, etc.)\n",
    "    param_grid=parameters,    # The dictionary of hyperparameters to test\n",
    "    cv=7                      # Use 7-fold cross-validation for validation\n",
    ")\n",
    "\n",
    "# Fit the grid search model to the training data\n",
    "grid_result = grid.fit(X_train, Y_train)\n",
    "\n",
    "# Print the mean test scores for each parameter combination\n",
    "print(grid_result.cv_results_['mean_test_score'])\n",
    "\n",
    "# Retrieve the best model (the one with the best cross-validation performance)\n",
    "best_model = grid_result.best_estimator_\n",
    "\n",
    "# Use the best model to make predictions on the test set\n",
    "predictions = best_model.predict(X_test)\n",
    "\n",
    "# Calculate the accuracy on the test set\n",
    "testing_accuracy = np.mean(predictions == Y_test)\n",
    "\n",
    "# Print the final test set accuracy\n",
    "testing_accuracy"
   ]
  },
  {
   "cell_type": "markdown",
   "metadata": {},
   "source": [
    "We proceed to 5 others modeling techniques for the power outage model."
   ]
  },
  {
   "cell_type": "code",
   "execution_count": 1611,
   "metadata": {},
   "outputs": [],
   "source": [
    "# make the test/train split\n",
    "X, X_test, y, y_test = train_test_split(X, y, random_state = 2021, test_size = 0.2)\n",
    "\n",
    "# make the train/validation split\n",
    "X_train, X_val, y_train, y_val = train_test_split(X, y, random_state = 2021, test_size = 0.25)"
   ]
  },
  {
   "cell_type": "markdown",
   "metadata": {},
   "source": [
    "We used the Decision Tree Classifier for its ability to handle non-linear relationships, providing interpretable, rule-based predictions for power outages."
   ]
  },
  {
   "cell_type": "code",
   "execution_count": 1613,
   "metadata": {},
   "outputs": [
    {
     "name": "stdout",
     "output_type": "stream",
     "text": [
      "Number of features: 109\n",
      "Number of nodes: 859\n",
      "Train Score: 0.9993668882557771\n",
      "Validation Score: 0.7827324478178368\n"
     ]
    }
   ],
   "source": [
    "# Instantiate and train the Decision Tree Classifier\n",
    "first_tree = DecisionTreeClassifier(random_state=2021)\n",
    "first_tree.fit(X_train, y_train)\n",
    "\n",
    "# Print tree attributes\n",
    "print(\"Number of features:\", first_tree.tree_.n_features)  # Features used by the tree\n",
    "print(\"Number of nodes:\", first_tree.tree_.node_count)     # Total nodes (internal + leaf)\n",
    "\n",
    "# Evaluate model performance\n",
    "train_score = first_tree.score(X_train, y_train)  # Accuracy on training data\n",
    "val_score = first_tree.score(X_val, y_val)        # Accuracy on validation data\n",
    "\n",
    "print('Train Score:', train_score)\n",
    "print('Validation Score:', val_score)\n"
   ]
  },
  {
   "cell_type": "markdown",
   "metadata": {},
   "source": [
    "We sorted the feature importance and created a function called importance_plot in order to make a visualization in order to see what features were most crucial and valuable in making predictions on whether a prediction occured or not."
   ]
  },
  {
   "cell_type": "code",
   "execution_count": 1615,
   "metadata": {},
   "outputs": [
    {
     "data": {
      "text/html": [
       "<div>\n",
       "<style scoped>\n",
       "    .dataframe tbody tr th:only-of-type {\n",
       "        vertical-align: middle;\n",
       "    }\n",
       "\n",
       "    .dataframe tbody tr th {\n",
       "        vertical-align: top;\n",
       "    }\n",
       "\n",
       "    .dataframe thead th {\n",
       "        text-align: right;\n",
       "    }\n",
       "</style>\n",
       "<table border=\"1\" class=\"dataframe\">\n",
       "  <thead>\n",
       "    <tr style=\"text-align: right;\">\n",
       "      <th></th>\n",
       "      <th>Feature</th>\n",
       "      <th>Importance</th>\n",
       "    </tr>\n",
       "  </thead>\n",
       "  <tbody>\n",
       "    <tr>\n",
       "      <th>4</th>\n",
       "      <td>dew_point</td>\n",
       "      <td>0.126063</td>\n",
       "    </tr>\n",
       "    <tr>\n",
       "      <th>7</th>\n",
       "      <td>wind_deg</td>\n",
       "      <td>0.112111</td>\n",
       "    </tr>\n",
       "    <tr>\n",
       "      <th>6</th>\n",
       "      <td>wind_speed</td>\n",
       "      <td>0.104507</td>\n",
       "    </tr>\n",
       "    <tr>\n",
       "      <th>3</th>\n",
       "      <td>humidity</td>\n",
       "      <td>0.093371</td>\n",
       "    </tr>\n",
       "    <tr>\n",
       "      <th>0</th>\n",
       "      <td>temp</td>\n",
       "      <td>0.092263</td>\n",
       "    </tr>\n",
       "    <tr>\n",
       "      <th>...</th>\n",
       "      <td>...</td>\n",
       "      <td>...</td>\n",
       "    </tr>\n",
       "    <tr>\n",
       "      <th>47</th>\n",
       "      <td>Equipment Involved With Ignition_Cable</td>\n",
       "      <td>0.000000</td>\n",
       "    </tr>\n",
       "    <tr>\n",
       "      <th>46</th>\n",
       "      <td>Equipment Involved With Ignition_Bushing Mount...</td>\n",
       "      <td>0.000000</td>\n",
       "    </tr>\n",
       "    <tr>\n",
       "      <th>45</th>\n",
       "      <td>Equipment Involved With Ignition_Automatic Wir...</td>\n",
       "      <td>0.000000</td>\n",
       "    </tr>\n",
       "    <tr>\n",
       "      <th>44</th>\n",
       "      <td>Material at Origin_vegetation</td>\n",
       "      <td>0.000000</td>\n",
       "    </tr>\n",
       "    <tr>\n",
       "      <th>108</th>\n",
       "      <td>Size_Unknown</td>\n",
       "      <td>0.000000</td>\n",
       "    </tr>\n",
       "  </tbody>\n",
       "</table>\n",
       "<p>109 rows × 2 columns</p>\n",
       "</div>"
      ],
      "text/plain": [
       "                                               Feature  Importance\n",
       "4                                            dew_point    0.126063\n",
       "7                                             wind_deg    0.112111\n",
       "6                                           wind_speed    0.104507\n",
       "3                                             humidity    0.093371\n",
       "0                                                 temp    0.092263\n",
       "..                                                 ...         ...\n",
       "47              Equipment Involved With Ignition_Cable    0.000000\n",
       "46   Equipment Involved With Ignition_Bushing Mount...    0.000000\n",
       "45   Equipment Involved With Ignition_Automatic Wir...    0.000000\n",
       "44                       Material at Origin_vegetation    0.000000\n",
       "108                                       Size_Unknown    0.000000\n",
       "\n",
       "[109 rows x 2 columns]"
      ]
     },
     "execution_count": 1615,
     "metadata": {},
     "output_type": "execute_result"
    }
   ],
   "source": [
    "co = pd.DataFrame({'Feature': X.columns, 'Importance': first_tree.feature_importances_})\n",
    "co.sort_values(by = 'Importance', ascending = False)"
   ]
  },
  {
   "cell_type": "code",
   "execution_count": 1616,
   "metadata": {},
   "outputs": [
    {
     "name": "stdout",
     "output_type": "stream",
     "text": [
      "                                   feature  importance\n",
      "4                                dew_point  100.000000\n",
      "7                                 wind_deg   88.932548\n",
      "6                               wind_speed   82.901096\n",
      "3                                 humidity   74.066706\n",
      "0                                     temp   73.188028\n",
      "1                               feels_like   70.120654\n",
      "2                                 pressure   48.204418\n",
      "26             Voltage_Low Voltage (0–1kV)   47.848126\n",
      "5                                   clouds   30.859879\n",
      "74  Equipment Involved With Ignition_Other   17.684377\n"
     ]
    },
    {
     "data": {
      "image/png": "[encoded data removed]",
      "text/plain": [
       "<Figure size 800x750 with 1 Axes>"
      ]
     },
     "metadata": {},
     "output_type": "display_data"
    }
   ],
   "source": [
    "def importance_plot(tree):\n",
    "    feature_importance = tree.feature_importances_  # get the importance of each feature\n",
    "    \n",
    "    # relative feature importance\n",
    "    feature_importance = 100.0 * (feature_importance / feature_importance.max())\n",
    "    \n",
    "    # Save to a dataframe and remove features with 0 importance\n",
    "    feat_df = pd.DataFrame({'feature': X_train.columns, 'importance': feature_importance})\n",
    "    feat_df = feat_df[feat_df['importance'] > 15]  # Remove zero-importance features\n",
    "    \n",
    "    # Sort features by importance\n",
    "    feat_df = feat_df.sort_values(by='importance', ascending=False)\n",
    "\n",
    "    print(feat_df)\n",
    "    \n",
    "    # Bar plot\n",
    "    plt.figure(figsize=(8, 7.5))\n",
    "    plt.barh(width=feat_df.importance, y=feat_df.feature)\n",
    "    plt.xlabel('Relative feature importance')\n",
    "    plt.show()\n",
    "importance_plot(first_tree)"
   ]
  },
  {
   "cell_type": "markdown",
   "metadata": {},
   "source": [
    "The Bagging Classifier was applied to reduce overfitting by training multiple decision trees on bootstrapped datasets and aggregating their predictions for stability."
   ]
  },
  {
   "cell_type": "code",
   "execution_count": 1618,
   "metadata": {},
   "outputs": [
    {
     "name": "stdout",
     "output_type": "stream",
     "text": [
      "Train Score: 0.9119974675530231\n",
      "Validation Score: 0.8586337760910816\n"
     ]
    }
   ],
   "source": [
    "# Bagging Classifier with 150 estimators and 19 features per estimator\n",
    "bag_tree = BaggingClassifier(random_state=2021, n_estimators=150, max_features=19)\n",
    "bag_tree.fit(X_train, y_train)\n",
    "\n",
    "# Evaluate accuracy\n",
    "bag_train_score = bag_tree.score(X_train, y_train)\n",
    "bag_val_score = bag_tree.score(X_val, y_val)\n",
    "\n",
    "# Print results\n",
    "print('Train Score:', bag_train_score)\n",
    "print('Validation Score:', bag_val_score)"
   ]
  },
  {
   "cell_type": "markdown",
   "metadata": {},
   "source": [
    "We used the Random Forest Classifier to improve accuracy and generalization by averaging predictions from an ensemble of decision trees while reducing variance."
   ]
  },
  {
   "cell_type": "code",
   "execution_count": 1620,
   "metadata": {},
   "outputs": [
    {
     "name": "stdout",
     "output_type": "stream",
     "text": [
      "Train Score: 0.9993668882557771\n",
      "Validation Score: 0.855787476280835\n"
     ]
    }
   ],
   "source": [
    "# Random Forest Classifier with 150 trees\n",
    "rf_tree = RandomForestClassifier(random_state=2021, n_estimators=150)\n",
    "rf_tree.fit(X_train, y_train)\n",
    "\n",
    "# Evaluate accuracy\n",
    "rf_train_score = rf_tree.score(X_train, y_train)\n",
    "rf_val_score = rf_tree.score(X_val, y_val)\n",
    "\n",
    "# Print results\n",
    "print('Train Score:', rf_train_score)\n",
    "print('Validation Score:', rf_val_score)"
   ]
  },
  {
   "cell_type": "markdown",
   "metadata": {},
   "source": [
    "RandomizedSearchCV was employed to efficiently tune hyperparameters by randomly sampling combinations, ensuring optimal model performance with reduced computational cost."
   ]
  },
  {
   "cell_type": "code",
   "execution_count": 1622,
   "metadata": {},
   "outputs": [
    {
     "data": {
      "text/html": [
       "<style>#sk-container-id-10 {color: black;background-color: white;}#sk-container-id-10 pre{padding: 0;}#sk-container-id-10 div.sk-toggleable {background-color: white;}#sk-container-id-10 label.sk-toggleable__label {cursor: pointer;display: block;width: 100%;margin-bottom: 0;padding: 0.3em;box-sizing: border-box;text-align: center;}#sk-container-id-10 label.sk-toggleable__label-arrow:before {content: \"▸\";float: left;margin-right: 0.25em;color: #696969;}#sk-container-id-10 label.sk-toggleable__label-arrow:hover:before {color: black;}#sk-container-id-10 div.sk-estimator:hover label.sk-toggleable__label-arrow:before {color: black;}#sk-container-id-10 div.sk-toggleable__content {max-height: 0;max-width: 0;overflow: hidden;text-align: left;background-color: #f0f8ff;}#sk-container-id-10 div.sk-toggleable__content pre {margin: 0.2em;color: black;border-radius: 0.25em;background-color: #f0f8ff;}#sk-container-id-10 input.sk-toggleable__control:checked~div.sk-toggleable__content {max-height: 200px;max-width: 100%;overflow: auto;}#sk-container-id-10 input.sk-toggleable__control:checked~label.sk-toggleable__label-arrow:before {content: \"▾\";}#sk-container-id-10 div.sk-estimator input.sk-toggleable__control:checked~label.sk-toggleable__label {background-color: #d4ebff;}#sk-container-id-10 div.sk-label input.sk-toggleable__control:checked~label.sk-toggleable__label {background-color: #d4ebff;}#sk-container-id-10 input.sk-hidden--visually {border: 0;clip: rect(1px 1px 1px 1px);clip: rect(1px, 1px, 1px, 1px);height: 1px;margin: -1px;overflow: hidden;padding: 0;position: absolute;width: 1px;}#sk-container-id-10 div.sk-estimator {font-family: monospace;background-color: #f0f8ff;border: 1px dotted black;border-radius: 0.25em;box-sizing: border-box;margin-bottom: 0.5em;}#sk-container-id-10 div.sk-estimator:hover {background-color: #d4ebff;}#sk-container-id-10 div.sk-parallel-item::after {content: \"\";width: 100%;border-bottom: 1px solid gray;flex-grow: 1;}#sk-container-id-10 div.sk-label:hover label.sk-toggleable__label {background-color: #d4ebff;}#sk-container-id-10 div.sk-serial::before {content: \"\";position: absolute;border-left: 1px solid gray;box-sizing: border-box;top: 0;bottom: 0;left: 50%;z-index: 0;}#sk-container-id-10 div.sk-serial {display: flex;flex-direction: column;align-items: center;background-color: white;padding-right: 0.2em;padding-left: 0.2em;position: relative;}#sk-container-id-10 div.sk-item {position: relative;z-index: 1;}#sk-container-id-10 div.sk-parallel {display: flex;align-items: stretch;justify-content: center;background-color: white;position: relative;}#sk-container-id-10 div.sk-item::before, #sk-container-id-10 div.sk-parallel-item::before {content: \"\";position: absolute;border-left: 1px solid gray;box-sizing: border-box;top: 0;bottom: 0;left: 50%;z-index: -1;}#sk-container-id-10 div.sk-parallel-item {display: flex;flex-direction: column;z-index: 1;position: relative;background-color: white;}#sk-container-id-10 div.sk-parallel-item:first-child::after {align-self: flex-end;width: 50%;}#sk-container-id-10 div.sk-parallel-item:last-child::after {align-self: flex-start;width: 50%;}#sk-container-id-10 div.sk-parallel-item:only-child::after {width: 0;}#sk-container-id-10 div.sk-dashed-wrapped {border: 1px dashed gray;margin: 0 0.4em 0.5em 0.4em;box-sizing: border-box;padding-bottom: 0.4em;background-color: white;}#sk-container-id-10 div.sk-label label {font-family: monospace;font-weight: bold;display: inline-block;line-height: 1.2em;}#sk-container-id-10 div.sk-label-container {text-align: center;}#sk-container-id-10 div.sk-container {/* jupyter's `normalize.less` sets `[hidden] { display: none; }` but bootstrap.min.css set `[hidden] { display: none !important; }` so we also need the `!important` here to be able to override the default hidden behavior on the sphinx rendered scikit-learn.org. See: https://github.com/scikit-learn/scikit-learn/issues/21755 */display: inline-block !important;position: relative;}#sk-container-id-10 div.sk-text-repr-fallback {display: none;}</style><div id=\"sk-container-id-10\" class=\"sk-top-container\"><div class=\"sk-text-repr-fallback\"><pre>RandomizedSearchCV(cv=5,\n",
       "                   estimator=RandomForestClassifier(n_estimators=150,\n",
       "                                                    random_state=2021),\n",
       "                   n_iter=5,\n",
       "                   param_distributions={&#x27;max_leaf_nodes&#x27;: array([ 3,  4,  5,  6,  7,  8,  9, 10, 11, 12, 13, 14, 15, 16, 17, 18, 19,\n",
       "       20, 21, 22, 23, 24, 25, 26, 27, 28, 29, 30, 31, 32, 33, 34, 35, 36,\n",
       "       37, 38, 39, 40, 41, 42, 43, 44, 45, 46, 47, 48, 49, 50, 51, 52, 53,\n",
       "       54, 55, 56, 57, 58, 59, 60, 61, 62, 63, 64, 65, 66, 67, 68, 69, 70,\n",
       "       71, 72, 73, 74, 75, 76, 77, 78, 79, 80, 81, 82, 83, 84, 85, 86, 87,\n",
       "       88, 89, 90, 91, 92, 93, 94, 95, 96, 97, 98, 99]),\n",
       "                                        &#x27;min_samples_leaf&#x27;: array([1, 2, 3, 4, 5, 6, 7, 8, 9]),\n",
       "                                        &#x27;min_samples_split&#x27;: array([ 2,  3,  4,  5,  6,  7,  8,  9, 10, 11, 12, 13, 14, 15, 16, 17, 18,\n",
       "       19])},\n",
       "                   random_state=2021)</pre><b>In a Jupyter environment, please rerun this cell to show the HTML representation or trust the notebook. <br />On GitHub, the HTML representation is unable to render, please try loading this page with nbviewer.org.</b></div><div class=\"sk-container\" hidden><div class=\"sk-item sk-dashed-wrapped\"><div class=\"sk-label-container\"><div class=\"sk-label sk-toggleable\"><input class=\"sk-toggleable__control sk-hidden--visually\" id=\"sk-estimator-id-16\" type=\"checkbox\" ><label for=\"sk-estimator-id-16\" class=\"sk-toggleable__label sk-toggleable__label-arrow\">RandomizedSearchCV</label><div class=\"sk-toggleable__content\"><pre>RandomizedSearchCV(cv=5,\n",
       "                   estimator=RandomForestClassifier(n_estimators=150,\n",
       "                                                    random_state=2021),\n",
       "                   n_iter=5,\n",
       "                   param_distributions={&#x27;max_leaf_nodes&#x27;: array([ 3,  4,  5,  6,  7,  8,  9, 10, 11, 12, 13, 14, 15, 16, 17, 18, 19,\n",
       "       20, 21, 22, 23, 24, 25, 26, 27, 28, 29, 30, 31, 32, 33, 34, 35, 36,\n",
       "       37, 38, 39, 40, 41, 42, 43, 44, 45, 46, 47, 48, 49, 50, 51, 52, 53,\n",
       "       54, 55, 56, 57, 58, 59, 60, 61, 62, 63, 64, 65, 66, 67, 68, 69, 70,\n",
       "       71, 72, 73, 74, 75, 76, 77, 78, 79, 80, 81, 82, 83, 84, 85, 86, 87,\n",
       "       88, 89, 90, 91, 92, 93, 94, 95, 96, 97, 98, 99]),\n",
       "                                        &#x27;min_samples_leaf&#x27;: array([1, 2, 3, 4, 5, 6, 7, 8, 9]),\n",
       "                                        &#x27;min_samples_split&#x27;: array([ 2,  3,  4,  5,  6,  7,  8,  9, 10, 11, 12, 13, 14, 15, 16, 17, 18,\n",
       "       19])},\n",
       "                   random_state=2021)</pre></div></div></div><div class=\"sk-parallel\"><div class=\"sk-parallel-item\"><div class=\"sk-item\"><div class=\"sk-label-container\"><div class=\"sk-label sk-toggleable\"><input class=\"sk-toggleable__control sk-hidden--visually\" id=\"sk-estimator-id-17\" type=\"checkbox\" ><label for=\"sk-estimator-id-17\" class=\"sk-toggleable__label sk-toggleable__label-arrow\">estimator: RandomForestClassifier</label><div class=\"sk-toggleable__content\"><pre>RandomForestClassifier(n_estimators=150, random_state=2021)</pre></div></div></div><div class=\"sk-serial\"><div class=\"sk-item\"><div class=\"sk-estimator sk-toggleable\"><input class=\"sk-toggleable__control sk-hidden--visually\" id=\"sk-estimator-id-18\" type=\"checkbox\" ><label for=\"sk-estimator-id-18\" class=\"sk-toggleable__label sk-toggleable__label-arrow\">RandomForestClassifier</label><div class=\"sk-toggleable__content\"><pre>RandomForestClassifier(n_estimators=150, random_state=2021)</pre></div></div></div></div></div></div></div></div></div></div>"
      ],
      "text/plain": [
       "RandomizedSearchCV(cv=5,\n",
       "                   estimator=RandomForestClassifier(n_estimators=150,\n",
       "                                                    random_state=2021),\n",
       "                   n_iter=5,\n",
       "                   param_distributions={'max_leaf_nodes': array([ 3,  4,  5,  6,  7,  8,  9, 10, 11, 12, 13, 14, 15, 16, 17, 18, 19,\n",
       "       20, 21, 22, 23, 24, 25, 26, 27, 28, 29, 30, 31, 32, 33, 34, 35, 36,\n",
       "       37, 38, 39, 40, 41, 42, 43, 44, 45, 46, 47, 48, 49, 50, 51, 52, 53,\n",
       "       54, 55, 56, 57, 58, 59, 60, 61, 62, 63, 64, 65, 66, 67, 68, 69, 70,\n",
       "       71, 72, 73, 74, 75, 76, 77, 78, 79, 80, 81, 82, 83, 84, 85, 86, 87,\n",
       "       88, 89, 90, 91, 92, 93, 94, 95, 96, 97, 98, 99]),\n",
       "                                        'min_samples_leaf': array([1, 2, 3, 4, 5, 6, 7, 8, 9]),\n",
       "                                        'min_samples_split': array([ 2,  3,  4,  5,  6,  7,  8,  9, 10, 11, 12, 13, 14, 15, 16, 17, 18,\n",
       "       19])},\n",
       "                   random_state=2021)"
      ]
     },
     "execution_count": 1622,
     "metadata": {},
     "output_type": "execute_result"
    }
   ],
   "source": [
    "# Randomized Search for Random Forest hyperparameter tuning\n",
    "param_dist = {\n",
    "    'max_leaf_nodes': np.arange(3, 100),     # Random range for max leaf nodes\n",
    "    'min_samples_leaf': np.arange(1, 10),    # Random range for minimum samples per leaf\n",
    "    'min_samples_split': np.arange(2, 20)    # Random range for minimum samples to split a node\n",
    "}\n",
    "\n",
    "# RandomizedSearchCV with 5 iterations and 5-fold cross-validation\n",
    "rf_tree_rnd_search = RandomizedSearchCV(\n",
    "    RandomForestClassifier(n_estimators=150, random_state=2021),\n",
    "    param_distributions=param_dist, \n",
    "    cv=5, n_iter=5, random_state=2021\n",
    ")\n",
    "\n",
    "# Fit the randomized search to the training data\n",
    "rf_tree_rnd_search.fit(X_train, y_train)"
   ]
  },
  {
   "cell_type": "markdown",
   "metadata": {},
   "source": [
    "GradientBoostingClassifier: Gradient Boosting was chosen for its ability to sequentially correct errors from previous models, resulting in a strong ensemble that captures complex patterns in the data.\n"
   ]
  },
  {
   "cell_type": "code",
   "execution_count": 1624,
   "metadata": {},
   "outputs": [
    {
     "name": "stdout",
     "output_type": "stream",
     "text": [
      "{'max_leaf_nodes': 85, 'max_depth': 1}\n"
     ]
    }
   ],
   "source": [
    "# Gradient Boosting Classifier with 150 boosting stages\n",
    "gb_tree = GradientBoostingClassifier(random_state=2021, n_estimators=150)\n",
    "gb_tree.fit(X_train, y_train)\n",
    "# Randomized Search for Gradient Boosting hyperparameter tuning\n",
    "param_dist = {\n",
    "    'max_leaf_nodes': np.arange(3, 100),  # Random range for max leaf nodes\n",
    "    'max_depth': np.arange(1, 10)        # Random range for max depth of trees\n",
    "}\n",
    "\n",
    "# RandomizedSearchCV with 10 iterations and 5-fold cross-validation\n",
    "rnd_gb_search = RandomizedSearchCV(\n",
    "    GradientBoostingClassifier(random_state=2021, n_estimators=150),\n",
    "    param_distributions=param_dist,\n",
    "    cv=5, n_iter=10\n",
    ")\n",
    "\n",
    "# Fit the randomized search to the training data\n",
    "rnd_gb_search.fit(X_train, y_train)\n",
    "\n",
    "# Print best hyperparameters\n",
    "print(rnd_gb_search.best_params_)"
   ]
  },
  {
   "cell_type": "code",
   "execution_count": 1625,
   "metadata": {},
   "outputs": [
    {
     "name": "stdout",
     "output_type": "stream",
     "text": [
      "Train Score:  0.8603988603988604\n",
      "Validation Score:  0.8519924098671727\n"
     ]
    }
   ],
   "source": [
    "# Evaluate accuracy\n",
    "gb_train_score = rnd_gb_search.score(X_train, y_train)\n",
    "gb_val_score = rnd_gb_search.score(X_val, y_val)\n",
    "\n",
    "# Evaluate results\n",
    "print('Train Score: ', gb_train_score)\n",
    "print('Validation Score: ', gb_val_score)"
   ]
  },
  {
   "cell_type": "code",
   "execution_count": 1626,
   "metadata": {},
   "outputs": [
    {
     "name": "stdout",
     "output_type": "stream",
     "text": [
      "Test Score:  0.784629981024668\n",
      "Test Score:  0.8662239089184061\n",
      "Test Score:  0.8662239089184061\n",
      "Test Score:  0.8624288425047438\n",
      "Test Score:  0.8624288425047438\n",
      "Test Score:  0.8652751423149905\n"
     ]
    }
   ],
   "source": [
    "models = [first_tree, bag_tree, rf_tree, rf_tree_rnd_search, gb_tree, my_model]\n",
    "for i in models:\n",
    "    print('Test Score: ', i.score(X_test, y_test))"
   ]
  },
  {
   "cell_type": "code",
   "execution_count": 1627,
   "metadata": {},
   "outputs": [
    {
     "name": "stdout",
     "output_type": "stream",
     "text": [
      "                                   feature  importance\n",
      "4                                dew_point  100.000000\n",
      "1                               feels_like   99.151758\n",
      "0                                     temp   97.466312\n",
      "3                                 humidity   90.926632\n",
      "6                               wind_speed   87.344908\n",
      "7                                 wind_deg   86.532406\n",
      "2                                 pressure   70.839064\n",
      "5                                   clouds   50.119749\n",
      "26             Voltage_Low Voltage (0–1kV)   39.664099\n",
      "27         Voltage_Medium Voltage (1–15kV)   21.508445\n",
      "74  Equipment Involved With Ignition_Other   18.057521\n",
      "21                Land Use at Origin_Urban   15.855292\n"
     ]
    },
    {
     "data": {
      "image/png": "[encoded data removed]",
      "text/plain": [
       "<Figure size 800x750 with 1 Axes>"
      ]
     },
     "metadata": {},
     "output_type": "display_data"
    }
   ],
   "source": [
    "importance_plot(rf_tree)"
   ]
  },
  {
   "cell_type": "code",
   "execution_count": 1628,
   "metadata": {},
   "outputs": [
    {
     "name": "stdout",
     "output_type": "stream",
     "text": [
      "                                   feature  importance\n",
      "26             Voltage_Low Voltage (0–1kV)  100.000000\n",
      "0                                     temp   42.862128\n",
      "1                               feels_like   41.729699\n",
      "4                                dew_point   40.549928\n",
      "6                               wind_speed   39.969632\n",
      "7                                 wind_deg   28.806758\n",
      "28     Voltage_Ultra High Voltage (>500kV)   27.880132\n",
      "3                                 humidity   27.732472\n",
      "2                                 pressure   25.285700\n",
      "74  Equipment Involved With Ignition_Other   23.857555\n"
     ]
    },
    {
     "data": {
      "image/png": "[encoded data removed]",
      "text/plain": [
       "<Figure size 800x750 with 1 Axes>"
      ]
     },
     "metadata": {},
     "output_type": "display_data"
    }
   ],
   "source": [
    "importance_plot(gb_tree)"
   ]
  },
  {
   "cell_type": "markdown",
   "metadata": {},
   "source": [
    "## Fire Size Prediction Model"
   ]
  },
  {
   "cell_type": "code",
   "execution_count": 1630,
   "metadata": {},
   "outputs": [
    {
     "data": {
      "text/html": [
       "<div>\n",
       "<style scoped>\n",
       "    .dataframe tbody tr th:only-of-type {\n",
       "        vertical-align: middle;\n",
       "    }\n",
       "\n",
       "    .dataframe tbody tr th {\n",
       "        vertical-align: top;\n",
       "    }\n",
       "\n",
       "    .dataframe thead th {\n",
       "        text-align: right;\n",
       "    }\n",
       "</style>\n",
       "<table border=\"1\" class=\"dataframe\">\n",
       "  <thead>\n",
       "    <tr style=\"text-align: right;\">\n",
       "      <th></th>\n",
       "      <th>Unnamed: 0</th>\n",
       "      <th>temp</th>\n",
       "      <th>feels_like</th>\n",
       "      <th>pressure</th>\n",
       "      <th>humidity</th>\n",
       "      <th>dew_point</th>\n",
       "      <th>clouds</th>\n",
       "      <th>wind_speed</th>\n",
       "      <th>wind_deg</th>\n",
       "      <th>Land Use at Origin_Agricultural</th>\n",
       "      <th>...</th>\n",
       "      <th>Type_Padmounted</th>\n",
       "      <th>Type_Subsurface</th>\n",
       "      <th>Type_Underbuild</th>\n",
       "      <th>Type_Underground</th>\n",
       "      <th>Size_0-0.99 Acres</th>\n",
       "      <th>Size_1-9.99 Acres</th>\n",
       "      <th>Size_10-99.9 Acres</th>\n",
       "      <th>Size_100-999.9 Acres</th>\n",
       "      <th>Size_1000-5000 Acres and more</th>\n",
       "      <th>Size_Unknown</th>\n",
       "    </tr>\n",
       "  </thead>\n",
       "  <tbody>\n",
       "    <tr>\n",
       "      <th>0</th>\n",
       "      <td>0</td>\n",
       "      <td>0.535001</td>\n",
       "      <td>0.510726</td>\n",
       "      <td>0.444444</td>\n",
       "      <td>0.575758</td>\n",
       "      <td>0.757868</td>\n",
       "      <td>0.0</td>\n",
       "      <td>0.182353</td>\n",
       "      <td>0.0</td>\n",
       "      <td>0</td>\n",
       "      <td>...</td>\n",
       "      <td>0</td>\n",
       "      <td>0</td>\n",
       "      <td>0</td>\n",
       "      <td>0</td>\n",
       "      <td>1</td>\n",
       "      <td>0</td>\n",
       "      <td>0</td>\n",
       "      <td>0</td>\n",
       "      <td>0</td>\n",
       "      <td>0</td>\n",
       "    </tr>\n",
       "    <tr>\n",
       "      <th>1</th>\n",
       "      <td>1</td>\n",
       "      <td>0.437967</td>\n",
       "      <td>0.409645</td>\n",
       "      <td>0.388889</td>\n",
       "      <td>0.343434</td>\n",
       "      <td>0.588159</td>\n",
       "      <td>0.0</td>\n",
       "      <td>0.156471</td>\n",
       "      <td>0.5</td>\n",
       "      <td>0</td>\n",
       "      <td>...</td>\n",
       "      <td>0</td>\n",
       "      <td>0</td>\n",
       "      <td>0</td>\n",
       "      <td>0</td>\n",
       "      <td>1</td>\n",
       "      <td>0</td>\n",
       "      <td>0</td>\n",
       "      <td>0</td>\n",
       "      <td>0</td>\n",
       "      <td>0</td>\n",
       "    </tr>\n",
       "  </tbody>\n",
       "</table>\n",
       "<p>2 rows × 110 columns</p>\n",
       "</div>"
      ],
      "text/plain": [
       "   Unnamed: 0      temp  feels_like  pressure  humidity  dew_point  clouds  \\\n",
       "0           0  0.535001    0.510726  0.444444  0.575758   0.757868     0.0   \n",
       "1           1  0.437967    0.409645  0.388889  0.343434   0.588159     0.0   \n",
       "\n",
       "   wind_speed  wind_deg  Land Use at Origin_Agricultural  ...  \\\n",
       "0    0.182353       0.0                                0  ...   \n",
       "1    0.156471       0.5                                0  ...   \n",
       "\n",
       "   Type_Padmounted  Type_Subsurface  Type_Underbuild  Type_Underground  \\\n",
       "0                0                0                0                 0   \n",
       "1                0                0                0                 0   \n",
       "\n",
       "   Size_0-0.99 Acres  Size_1-9.99 Acres  Size_10-99.9 Acres  \\\n",
       "0                  1                  0                   0   \n",
       "1                  1                  0                   0   \n",
       "\n",
       "   Size_100-999.9 Acres  Size_1000-5000 Acres and more  Size_Unknown  \n",
       "0                     0                              0             0  \n",
       "1                     0                              0             0  \n",
       "\n",
       "[2 rows x 110 columns]"
      ]
     },
     "execution_count": 1630,
     "metadata": {},
     "output_type": "execute_result"
    }
   ],
   "source": [
    "#loading a dataset derived from the previous manipulatons performed above, it contains all columns, already formatted and hot-encoded\n",
    "fire_df = pd.read_csv('ricc.csv')\n",
    "fire_df.head(2)"
   ]
  },
  {
   "cell_type": "code",
   "execution_count": 1631,
   "metadata": {},
   "outputs": [],
   "source": [
    "# Combining one-hot encoded fire size columns into a single target column\n",
    "def combine_fire_size(row):\n",
    "    if row['Size_0-0.99 Acres'] == 1:\n",
    "        return '0-0.99 Acres'\n",
    "    elif row['Size_1-9.99 Acres'] == 1:\n",
    "        return '1-9.99 Acres'\n",
    "    elif row['Size_10-99.9 Acres'] == 1:\n",
    "        return '10-99.9 Acres'\n",
    "    elif row['Size_100-999.9 Acres'] == 1:\n",
    "        return '100-999.9 Acres'\n",
    "    elif row['Size_1000-5000 Acres and more'] == 1:\n",
    "        return '1000-5000 Acres and more'\n",
    "    else:\n",
    "        return 'Unknown'\n",
    "\n",
    "fire_df['fire_size_category'] = fire_df.apply(combine_fire_size, axis=1)"
   ]
  },
  {
   "cell_type": "code",
   "execution_count": 1632,
   "metadata": {},
   "outputs": [],
   "source": [
    "# Dropping the original one-hot encoded columns\n",
    "fire_df = fire_df.drop(columns=['Size_0-0.99 Acres', 'Size_1-9.99 Acres',\n",
    "                                 'Size_10-99.9 Acres', 'Size_100-999.9 Acres',\n",
    "                                 'Size_1000-5000 Acres and more', 'Size_Unknown'])"
   ]
  },
  {
   "cell_type": "code",
   "execution_count": 1633,
   "metadata": {},
   "outputs": [],
   "source": [
    "# Separating features and target variable\n",
    "Xf = fire_df.drop(columns=['fire_size_category'])  # Features\n",
    "yf = fire_df['fire_size_category']  # Target variable\n",
    "# Splitting the dataset into training and testing sets\n",
    "# 80% of the data is being used for training the model, 20% for testing\n",
    "X_trainf, X_testf, y_trainf, y_testf = train_test_split(Xf, yf, test_size=0.2, random_state=42)"
   ]
  },
  {
   "cell_type": "code",
   "execution_count": 1634,
   "metadata": {},
   "outputs": [],
   "source": [
    "# Feature scaling\n",
    "scaler = MinMaxScaler()\n",
    "X_trainf = scaler.fit_transform(X_trainf)\n",
    "X_testf = scaler.transform(X_testf)"
   ]
  },
  {
   "cell_type": "markdown",
   "metadata": {},
   "source": [
    "## Random Forest Prediction Model"
   ]
  },
  {
   "cell_type": "code",
   "execution_count": 1636,
   "metadata": {},
   "outputs": [],
   "source": [
    "# Performing cross-validation and hyperparameter tuning for Random Forest\n",
    "param_grid = {\n",
    "    'n_estimators': [50, 100, 200],   # algorithm will test random forests with 50, 100, and 200 trees.\n",
    "    'max_depth': [None, 10, 20, 30],  # maximum depth of each decision tree in the forest, preventing overfitting\n",
    "    'min_samples_split': [2, 5, 10],  # minimum number of samples required to split an internal node\n",
    "    'min_samples_leaf': [1, 2, 4]     # The minimum number of samples required to be at a leaf node\n",
    "}\n",
    "\n",
    "# Random forest model\n",
    "rf = RandomForestClassifier(random_state=42)\n",
    "# Grid_search with cross-validation\n",
    "grid_search = GridSearchCV(estimator=rf, param_grid=param_grid, cv=5, scoring='accuracy', n_jobs=-1)\n",
    "grid_search.fit(X_trainf, y_trainf)\n",
    "# looking for best model and parameters\n",
    "best_model = grid_search.best_estimator_\n",
    "best_params = grid_search.best_params_"
   ]
  },
  {
   "cell_type": "code",
   "execution_count": 1637,
   "metadata": {},
   "outputs": [],
   "source": [
    "# Evaluating the best model on the test set\n",
    "test_score = best_model.score(X_testf, y_testf)"
   ]
  },
  {
   "cell_type": "code",
   "execution_count": 1638,
   "metadata": {},
   "outputs": [
    {
     "name": "stdout",
     "output_type": "stream",
     "text": [
      "Best Hyperparameters: {'max_depth': None, 'min_samples_leaf': 1, 'min_samples_split': 2, 'n_estimators': 100}\n",
      "Testing Accuracy: 0.8176\n"
     ]
    }
   ],
   "source": [
    "print(f\"Best Hyperparameters: {best_params}\")\n",
    "print(f\"Testing Accuracy: {test_score:.4f}\")"
   ]
  },
  {
   "cell_type": "markdown",
   "metadata": {},
   "source": [
    "### Analysis of RandomForestClassifier Hyperparameters\n",
    "- The decision trees in the forest can grow up to a maximum depth of 30 levels. This allows sufficient depth to capture complex patterns while avoiding excessively deep trees that could overfit the data.\n",
    "- A leaf node must contain at least one sample. This setting is highly flexible but risks overfitting for some datasets. However, Random Forest mitigates this risk with ensemble averaging.\n",
    "- A node can split if it has at least two samples, which allows the trees to grow freely and capture detailed patterns.\n",
    "- The forest is composed of 100 decision trees. This is a common default value, providing a good balance between performance and computation time."
   ]
  },
  {
   "cell_type": "markdown",
   "metadata": {},
   "source": [
    "### Testing Accuracy\n",
    "A testing accuracy of 0.8185 indicates that the model correctly predicts the fire size category approximately 81.85% of the time on unseen data. An accuracy of 81.85% suggests the model is effective but could potentially be improved. The hyperparameter tuning likely reduced overfitting while maintaining good generalization."
   ]
  },
  {
   "cell_type": "markdown",
   "metadata": {},
   "source": [
    "### Potential Improvements\n",
    "Generally, if there's a class imbalance among the fire size categories,the accuracy metric may not fully represent the model's ability to predict all classes equally. We know that the majority of fire sizes fall in the '0-0.99 Acres' category, and this might skew the accuracy. In addition, increasing the number of trees beyonde 100 could provide better performance, at the cost of computation time."
   ]
  },
  {
   "cell_type": "markdown",
   "metadata": {},
   "source": [
    "### Confusion Matrix & Classification Report\n",
    "We're computing a confusion matrix to see which fire size categories are most/least accurately predicted."
   ]
  },
  {
   "cell_type": "code",
   "execution_count": 1643,
   "metadata": {},
   "outputs": [],
   "source": [
    "# y_predf = best_model.predict(X_testf)\n",
    "# conf_matrix = confusion_matrix(y_testf, y_predf, labels=y.unique())\n",
    "\n",
    "# # Plotting\n",
    "# plt.figure(figsize=(10, 7))\n",
    "# sns.heatmap(conf_matrix, annot=True, fmt='d', cmap='Blues', xticklabels=y.unique(), yticklabels=y.unique())\n",
    "# plt.title('Confusion Matrix')\n",
    "# plt.xlabel('Predicted Labels')\n",
    "# plt.ylabel('True Labels')\n",
    "# plt.show()\n",
    "\n",
    "# # Print classification report\n",
    "# print(\"Classification Report:\\n\", classification_report(y_testf, y_predf))"
   ]
  },
  {
   "cell_type": "markdown",
   "metadata": {},
   "source": [
    "### Analysis\n",
    "#### Confusion Matrix\n",
    "The confusion matrix indicates a good performance for the category \"0-0.99 Acres\". This is reasonable as we know the majorty of the data points fall in such category. There appears to be a significant misclassification as true = '1-9.99 Acres' is misclassified as '0-0.99 Acres'. This suggests the model struggles to distinguish between these similar classes. \n",
    "#### Classification Report\n",
    "- All fire categories show high precision but the category '1000-5000 Acres and more'. The model fails to identify these rare categories.\n",
    "- Category '0-0.99 Acres' has perfect recall, identifying all instances of this class correctly. Unfortunately, the remaining catergories show low recall, suggesting under-representation in predictions.\n",
    "\n",
    "Once again, we presume that the large concentration of observations in the '0-0.99 Acres' category causes the model to favor this class, so that rare categories like '1000-5000 Acres and more' are effectively ignore."
   ]
  },
  {
   "cell_type": "code",
   "execution_count": 1645,
   "metadata": {},
   "outputs": [],
   "source": [
    "import pandas as pd\n",
    "import matplotlib.pyplot as plt\n",
    "\n",
    "def importance_plot(tree, fire_df):\n",
    "    # Ensure feature_importances_ and feature names are aligned\n",
    "    feature_importance = tree.feature_importances_  # get the importance of each feature\n",
    "    \n",
    "    # Match size of feature_importance and feature names\n",
    "    min_len = min(len(feature_importance), len(fire_df.columns))\n",
    "    feature_importance = feature_importance[:min_len]  # Truncate importance if needed\n",
    "    features = fire_df.columns[:min_len]              # Truncate features if needed\n",
    "    \n",
    "    # Relative feature importance\n",
    "    feature_importance = 100.0 * (feature_importance / feature_importance.max())\n",
    "    \n",
    "    # Save to a dataframe and remove features with very low importance\n",
    "    feat_df = pd.DataFrame({'feature': features, 'importance': feature_importance})\n",
    "    feat_df = feat_df[feat_df['importance'] > 5]  # Remove low-importance features\n",
    "    feat_df = feat_df[feat_df['feature'] != 'Unnamed: 0']\n",
    "    \n",
    "    # Sort features by importance\n",
    "    feat_df = feat_df.sort_values(by='importance', ascending=True)\n",
    "    \n",
    "    # Bar plot\n",
    "    plt.figure(figsize=(8, 7.5))\n",
    "    plt.barh(width=feat_df['importance'], y=feat_df['feature'])\n",
    "    plt.xlabel('Relative feature importance')\n",
    "    plt.title('Feature Importance Plot')\n",
    "    plt.show()"
   ]
  },
  {
   "cell_type": "code",
   "execution_count": 1646,
   "metadata": {},
   "outputs": [
    {
     "data": {
      "image/png": "[encoded data removed]",
      "text/plain": [
       "<Figure size 800x750 with 1 Axes>"
      ]
     },
     "metadata": {},
     "output_type": "display_data"
    }
   ],
   "source": [
    "importance_plot(best_model, fire_df)"
   ]
  },
  {
   "cell_type": "markdown",
   "metadata": {},
   "source": [
    "## K-Nearest Neighbor Model"
   ]
  },
  {
   "cell_type": "code",
   "execution_count": 1648,
   "metadata": {},
   "outputs": [
    {
     "ename": "KeyError",
     "evalue": "\"['Size_0-0.99 Acres', 'Size_1-9.99 Acres', 'Size_10-99.9 Acres', 'Size_100-999.9 Acres', 'Size_1000-5000 Acres and more', 'Size_Unknown'] not found in axis\"",
     "output_type": "error",
     "traceback": [
      "\u001b[0;31m---------------------------------------------------------------------------\u001b[0m",
      "\u001b[0;31mKeyError\u001b[0m                                  Traceback (most recent call last)",
      "Cell \u001b[0;32mIn[1648], line 6\u001b[0m\n\u001b[1;32m      1\u001b[0m \u001b[38;5;66;03m# Preparing target and features\u001b[39;00m\n\u001b[1;32m      2\u001b[0m target_columns \u001b[38;5;241m=\u001b[39m [\n\u001b[1;32m      3\u001b[0m     \u001b[38;5;124m'\u001b[39m\u001b[38;5;124mSize_0-0.99 Acres\u001b[39m\u001b[38;5;124m'\u001b[39m, \u001b[38;5;124m'\u001b[39m\u001b[38;5;124mSize_1-9.99 Acres\u001b[39m\u001b[38;5;124m'\u001b[39m, \u001b[38;5;124m'\u001b[39m\u001b[38;5;124mSize_10-99.9 Acres\u001b[39m\u001b[38;5;124m'\u001b[39m, \n\u001b[1;32m      4\u001b[0m     \u001b[38;5;124m'\u001b[39m\u001b[38;5;124mSize_100-999.9 Acres\u001b[39m\u001b[38;5;124m'\u001b[39m, \u001b[38;5;124m'\u001b[39m\u001b[38;5;124mSize_1000-5000 Acres and more\u001b[39m\u001b[38;5;124m'\u001b[39m, \u001b[38;5;124m'\u001b[39m\u001b[38;5;124mSize_Unknown\u001b[39m\u001b[38;5;124m'\u001b[39m\n\u001b[1;32m      5\u001b[0m ]\n\u001b[0;32m----> 6\u001b[0m features \u001b[38;5;241m=\u001b[39m fire_df\u001b[38;5;241m.\u001b[39mdrop(columns\u001b[38;5;241m=\u001b[39mtarget_columns)\n\u001b[1;32m      7\u001b[0m target \u001b[38;5;241m=\u001b[39m fire_df[target_columns]\u001b[38;5;241m.\u001b[39midxmax(axis\u001b[38;5;241m=\u001b[39m\u001b[38;5;241m1\u001b[39m)\n",
      "File \u001b[0;32m/opt/anaconda3/lib/python3.11/site-packages/pandas/core/frame.py:5258\u001b[0m, in \u001b[0;36mDataFrame.drop\u001b[0;34m(self, labels, axis, index, columns, level, inplace, errors)\u001b[0m\n\u001b[1;32m   5110\u001b[0m \u001b[38;5;28;01mdef\u001b[39;00m \u001b[38;5;21mdrop\u001b[39m(\n\u001b[1;32m   5111\u001b[0m     \u001b[38;5;28mself\u001b[39m,\n\u001b[1;32m   5112\u001b[0m     labels: IndexLabel \u001b[38;5;241m=\u001b[39m \u001b[38;5;28;01mNone\u001b[39;00m,\n\u001b[0;32m   (...)\u001b[0m\n\u001b[1;32m   5119\u001b[0m     errors: IgnoreRaise \u001b[38;5;241m=\u001b[39m \u001b[38;5;124m\"\u001b[39m\u001b[38;5;124mraise\u001b[39m\u001b[38;5;124m\"\u001b[39m,\n\u001b[1;32m   5120\u001b[0m ) \u001b[38;5;241m-\u001b[39m\u001b[38;5;241m>\u001b[39m DataFrame \u001b[38;5;241m|\u001b[39m \u001b[38;5;28;01mNone\u001b[39;00m:\n\u001b[1;32m   5121\u001b[0m \u001b[38;5;250m    \u001b[39m\u001b[38;5;124;03m\"\"\"\u001b[39;00m\n\u001b[1;32m   5122\u001b[0m \u001b[38;5;124;03m    Drop specified labels from rows or columns.\u001b[39;00m\n\u001b[1;32m   5123\u001b[0m \n\u001b[0;32m   (...)\u001b[0m\n\u001b[1;32m   5256\u001b[0m \u001b[38;5;124;03m            weight  1.0     0.8\u001b[39;00m\n\u001b[1;32m   5257\u001b[0m \u001b[38;5;124;03m    \"\"\"\u001b[39;00m\n\u001b[0;32m-> 5258\u001b[0m     \u001b[38;5;28;01mreturn\u001b[39;00m \u001b[38;5;28msuper\u001b[39m()\u001b[38;5;241m.\u001b[39mdrop(\n\u001b[1;32m   5259\u001b[0m         labels\u001b[38;5;241m=\u001b[39mlabels,\n\u001b[1;32m   5260\u001b[0m         axis\u001b[38;5;241m=\u001b[39maxis,\n\u001b[1;32m   5261\u001b[0m         index\u001b[38;5;241m=\u001b[39mindex,\n\u001b[1;32m   5262\u001b[0m         columns\u001b[38;5;241m=\u001b[39mcolumns,\n\u001b[1;32m   5263\u001b[0m         level\u001b[38;5;241m=\u001b[39mlevel,\n\u001b[1;32m   5264\u001b[0m         inplace\u001b[38;5;241m=\u001b[39minplace,\n\u001b[1;32m   5265\u001b[0m         errors\u001b[38;5;241m=\u001b[39merrors,\n\u001b[1;32m   5266\u001b[0m     )\n",
      "File \u001b[0;32m/opt/anaconda3/lib/python3.11/site-packages/pandas/core/generic.py:4549\u001b[0m, in \u001b[0;36mNDFrame.drop\u001b[0;34m(self, labels, axis, index, columns, level, inplace, errors)\u001b[0m\n\u001b[1;32m   4547\u001b[0m \u001b[38;5;28;01mfor\u001b[39;00m axis, labels \u001b[38;5;129;01min\u001b[39;00m axes\u001b[38;5;241m.\u001b[39mitems():\n\u001b[1;32m   4548\u001b[0m     \u001b[38;5;28;01mif\u001b[39;00m labels \u001b[38;5;129;01mis\u001b[39;00m \u001b[38;5;129;01mnot\u001b[39;00m \u001b[38;5;28;01mNone\u001b[39;00m:\n\u001b[0;32m-> 4549\u001b[0m         obj \u001b[38;5;241m=\u001b[39m obj\u001b[38;5;241m.\u001b[39m_drop_axis(labels, axis, level\u001b[38;5;241m=\u001b[39mlevel, errors\u001b[38;5;241m=\u001b[39merrors)\n\u001b[1;32m   4551\u001b[0m \u001b[38;5;28;01mif\u001b[39;00m inplace:\n\u001b[1;32m   4552\u001b[0m     \u001b[38;5;28mself\u001b[39m\u001b[38;5;241m.\u001b[39m_update_inplace(obj)\n",
      "File \u001b[0;32m/opt/anaconda3/lib/python3.11/site-packages/pandas/core/generic.py:4591\u001b[0m, in \u001b[0;36mNDFrame._drop_axis\u001b[0;34m(self, labels, axis, level, errors, only_slice)\u001b[0m\n\u001b[1;32m   4589\u001b[0m         new_axis \u001b[38;5;241m=\u001b[39m axis\u001b[38;5;241m.\u001b[39mdrop(labels, level\u001b[38;5;241m=\u001b[39mlevel, errors\u001b[38;5;241m=\u001b[39merrors)\n\u001b[1;32m   4590\u001b[0m     \u001b[38;5;28;01melse\u001b[39;00m:\n\u001b[0;32m-> 4591\u001b[0m         new_axis \u001b[38;5;241m=\u001b[39m axis\u001b[38;5;241m.\u001b[39mdrop(labels, errors\u001b[38;5;241m=\u001b[39merrors)\n\u001b[1;32m   4592\u001b[0m     indexer \u001b[38;5;241m=\u001b[39m axis\u001b[38;5;241m.\u001b[39mget_indexer(new_axis)\n\u001b[1;32m   4594\u001b[0m \u001b[38;5;66;03m# Case for non-unique axis\u001b[39;00m\n\u001b[1;32m   4595\u001b[0m \u001b[38;5;28;01melse\u001b[39;00m:\n",
      "File \u001b[0;32m/opt/anaconda3/lib/python3.11/site-packages/pandas/core/indexes/base.py:6699\u001b[0m, in \u001b[0;36mIndex.drop\u001b[0;34m(self, labels, errors)\u001b[0m\n\u001b[1;32m   6697\u001b[0m \u001b[38;5;28;01mif\u001b[39;00m mask\u001b[38;5;241m.\u001b[39many():\n\u001b[1;32m   6698\u001b[0m     \u001b[38;5;28;01mif\u001b[39;00m errors \u001b[38;5;241m!=\u001b[39m \u001b[38;5;124m\"\u001b[39m\u001b[38;5;124mignore\u001b[39m\u001b[38;5;124m\"\u001b[39m:\n\u001b[0;32m-> 6699\u001b[0m         \u001b[38;5;28;01mraise\u001b[39;00m \u001b[38;5;167;01mKeyError\u001b[39;00m(\u001b[38;5;124mf\u001b[39m\u001b[38;5;124m\"\u001b[39m\u001b[38;5;132;01m{\u001b[39;00m\u001b[38;5;28mlist\u001b[39m(labels[mask])\u001b[38;5;132;01m}\u001b[39;00m\u001b[38;5;124m not found in axis\u001b[39m\u001b[38;5;124m\"\u001b[39m)\n\u001b[1;32m   6700\u001b[0m     indexer \u001b[38;5;241m=\u001b[39m indexer[\u001b[38;5;241m~\u001b[39mmask]\n\u001b[1;32m   6701\u001b[0m \u001b[38;5;28;01mreturn\u001b[39;00m \u001b[38;5;28mself\u001b[39m\u001b[38;5;241m.\u001b[39mdelete(indexer)\n",
      "\u001b[0;31mKeyError\u001b[0m: \"['Size_0-0.99 Acres', 'Size_1-9.99 Acres', 'Size_10-99.9 Acres', 'Size_100-999.9 Acres', 'Size_1000-5000 Acres and more', 'Size_Unknown'] not found in axis\""
     ]
    }
   ],
   "source": [
    "# Preparing target and features\n",
    "target_columns = [\n",
    "    'Size_0-0.99 Acres', 'Size_1-9.99 Acres', 'Size_10-99.9 Acres', \n",
    "    'Size_100-999.9 Acres', 'Size_1000-5000 Acres and more', 'Size_Unknown'\n",
    "]\n",
    "features = fire_df.drop(columns=target_columns)\n",
    "target = fire_df[target_columns].idxmax(axis=1)  # Converting one-hot encoded target to single labels"
   ]
  },
  {
   "cell_type": "markdown",
   "metadata": {},
   "source": [
    "## Interpretation and Conclusions (20 points)\n",
    "In this section you must relate your modeling and forecasting results to your original prediction question.  You must:\n",
    "1. Address a resource allocation question.  What do the answers mean? What advice would you give a decision maker on the basis of your results?  How might they allocate their resources differently with the results of your model?  Why should the reader care about your results?  *To get full marks you must provide both a qualitative and quantitative analysis.*\n",
    "2. Discuss caveats and / or reasons your results might be flawed.  No model is perfect, and understanding a model's imperfections is extremely important for the purpose of knowing how to interpret your results.  Often, we know the model output is wrong but we can assign a direction for its bias.  This helps to understand whether or not your answers are conservative.  \n",
    "\n",
    "Shoot for 500-1000 words for this section.\n",
    "\n",
    "The main goal of this paper is to inform the major California utilities on how they should allocate their resources to best mitigate power outages and properly prepare for and minimize potential wildfire acreage. Our blackout model found that dew point was most heavily correlated to predicting a blackout, followed by “feels like” temperature, temperature, humidity, and wind direction (˚). This points out the need for infrastructure adaptation to best handle dangerous dew points/humidities and higher temperatures, as well as wind gusts – particularly from certain directions based on the surrounding geography creating wind tunnels. Similarly, our fire model told a similar story. Dew point, “feels like” temperature, temperature, wind direction (degrees), humidity, and wind speed were all significant indicators of the eventual size of a wildfire spread. Most significantly, wind has a huge impact on fire spread – as expected. The lower dew points, meaning lower humidity, meant drier air; this typically leads to drier environments and more flammable fuel sources for the fire to spread to. \n",
    "With these models in mind, streamlined resource allocation will save money, labor, and time for utilities and emergency management organizations. These savings can be redirected to strengthen infrastructure and improve community preparedness. Investments in these categories will lead to a reduction in the risk to human life and property, which is not only an obligation for the state-regulated utilities but also a financial benefit that pays dividends over time.\n",
    "Our advice to California decision makers includes providing investment in the bolstering of California grid infrastructure: 1. high temperature resistance (this will in turn make transmission more efficient) and 2. Deep anchoring for wind resistance (analyzing wind direction to find the most vulnerable positions). This can be done through subsidies, tax breaks for companies who implement these measures, or even funding for R&D/startups to come up with cheaper, safer solutions to this problem.\n",
    "Currently, we have fairly confident accuracies on our models, with several features showing a strong correlation to indications of blackouts [dew point (100%), “feels like” temperature (96.11%),temperature (91.34%), humidity (89.12%), wind direction (83.65%)] as well as final fire size [dew point (89.83%), “feels like” temperature (88.22%), temperature (87.68%), wind direction (82.53%)]. Efficient implementation of these solutions can be streamlined to make the greatest change with the least amount of money and time by policy makers supporting stricter and more frequent data collection from the utilities on their fire and blackout data. This will give researchers a larger database to test their models on, leading to more accurate results as to where is in most need of these grid infrastructure upgrades.\n",
    "Public education on the basic causes of wildfires and blackouts as well as how to properly respond to different stages/severities of each disaster will mitigate any damages from these events. Policy makers should implement individual evacuation plans for each city based on their unique vulnerabilities to best serve the public.\n",
    "\tDuring our modeling, there were a couple of points that could have been streamlined/modified to ensure a greater testing accuracy and perhaps better model. When creating the blackout model, it would have been better to resample some of the features. For example, there were much more “yes”es than “no”s in the “Was There A Blackout?” column, which made the model bias the blackout instances more when looking for key indicators in the features list. Another caveat to our models was that we deleted some observations that did not have the full latitude longitude data. This further bolsters the need for stricter guidelines on the reporting for utility disasters. Another drawback to the raw data that we used is that we could have provided more features like precipitation, soil depth and quality, and a description of the general surrounding geography from other available APIs out there. However, due to constraints of the OpenWeatherMap API, we were not able to do that. Finally, we could have done a feature selection for the features we knew for sure would be correlated to the risk of a power blackout occurring. This would enhance model accuracy and performance, making the beta values for each feature more accurate.\n",
    "The fire model had a few drawbacks as well. The recurrent trend in all three models analyzed is that they all heavily focus on the smallest fire size category (0-0.99) due to significant imbalance in data share; more than 4,000 of the ~5,200 observations are in this size bucket. This in turn skews the model accuracy, particularly for the other fire size buckets. This effect worsens as the size of the fire gets larger as these instances are more infrequent, meaning the model tends to ignore them. Thus, it is not recommended to use this model to predict if a larger fire will result in an area, but rather use it to find out where small-scale fires will outbreak.\n"
   ]
  },
  {
   "cell_type": "markdown",
   "metadata": {},
   "source": [
    "# ER 131 Data sources (delete this cell from your final project)\n",
    "Many of these links just take you to the main landing page for the data.  Note a number of these links also lead you to many different data sets.\n",
    "\n",
    "## Energy data\n",
    "1. [Integrated Circuit Analysis (ICA) load data from Pacific Gas & Electric (PG&E) company](https://www.pge.com/b2b/distribution-resource-planning/integration-capacity-map.shtml)\n",
    "2. [Cool Climate -- spatially resolved energy and carbon emissions data](https://coolclimate.berkeley.edu/data)\n",
    "3. [Residential Energy Consumption Survey](https://www.eia.gov/consumption/residential/)\n",
    "4. [California Grid Operator market data](http://oasis.caiso.com/mrioasis/logon.do)\n",
    "5. [California Energy Commission data archives -- many different sources of data describing energy production and use in California](https://www.energy.ca.gov/data-reports)\n",
    "5. [Alternative fuels data center](https://afdc.energy.gov/)\n",
    "\n",
    "\n",
    "## Transportation data\n",
    "1. [California Air Resources Board’s Fleet Database](https://arb.ca.gov/emfac/fleet-db)\n",
    "2. [EV Charging Stations Source](https://www.energy.ca.gov/data-reports/energy-insights/zero-emission-vehicle-and-charger-statistics)\n",
    "3. [California vehicle fuel type counts by zip code (there are more years available)](https://www.dmv.ca.gov/portal/uploads/2020/04/MotorVehicleFuelTypes_ZipCode_102018.pdf)\n",
    "4. [Census Bureau means of transport](https://data.census.gov/cedsci/table?q=MEANS%20OF%20TRANSPORTATION%20TO%20WORK%20BY%20VEHICLES&tid=ACSDT1Y2018.B08141&hidePreview=false)\n",
    "4. [Census Bureau number of commuters](https://data.census.gov/cedsci/table?q=vehicle&g=0400000US06&tid=ACSDT1Y2019.B08015&hidePreview=true)\n",
    "4. [Atlas EV Hub](https://www.atlasevhub.com/)\n",
    "\n",
    "## Environmental data \n",
    "1. [Climate Model prediction data](https://cal-adapt.org/data/download/)\n",
    "2. [Water Quality Portal](https://www.waterqualitydata.us/wqp_description/)\n",
    "2. [Methane Plumes Derived from AVIRIS-NG over Point Sources across California, 2016-2017](https://daac.ornl.gov/cgi-bin/dsviewer.pl?ds_id=1727)\n",
    "3. [EPA AirNow pollution data](https://www.epa.gov/outdoor-air-quality-data)\n",
    "\ta. [\"Pre-generated\" files here](https://aqs.epa.gov/aqsweb/airdata/download_files.html)\n",
    "4. [California Department of Water Resources Data Exchange Portal](http://cdec.water.ca.gov/index.html)\n",
    "5. [NOAA Climate data online](https://www.ncdc.noaa.gov/cdo-web/)\n",
    "5. [Methane emitting facilities from US Dept of Commerce](https://daac.ornl.gov/NACP/guides/NACP_Vista_CA_CH4_Inventory.html)\n",
    "4. [California Air Resources Board Emissions Inventory](https://ww3.arb.ca.gov/ei/maps/2017statemap/cntymap.htm)\n",
    "4. [Groundwater level measurements](https://data.cnra.ca.gov/dataset/periodic-groundwater-level-measurements)\n",
    "4. [California Enviroscreen -- includes pollution data by census block](https://oehha.ca.gov/calenviroscreen/report/calenviroscreen-30)\n",
    "5. [NEON Ecological Forecasting Challenge -- provides pre-processed target data for aquatic communities, carbon & water fluxes, tick populations, phenology, and beetle abundance](https://ecoforecast.org/efi-rcn-forecast-challenges/) *Ask Jessica if you have questions about using this data.*\n",
    "\n",
    "\n",
    "## Geographic and census data\n",
    "1. [California County boundaries](https://data.ca.gov/dataset/ca-geographic-boundaries/resource/b0007416-a325-4777-9295-368ea6b710e6)\n",
    "2. [Another CA county boundary dataset](https://catalog.data.gov/dataset/tiger-line-shapefile-2016-state-california-current-county-subdivision-state-based)\n",
    "3. [Census data](https://data.census.gov/cedsci/)\n",
    "\ta. Note these data can be accessed by an API.  [This](https://jtleider.github.io/censusdata/) codebase can help you access the API, which is [here](https://www.census.gov/data/developers.html)\n",
    "2. [Census Data from the US Census Bureau's ACS Demographic and Housing Estimates](https://data.census.gov/cedsci/table?q=United%20States&t=Counts,%20Estimates,%20and%20Projections%3AFamilies%20and%20Living%20Arrangements%3AHousing%3AHousing%20Units%3APopulation%20Total%3APopulations%20and%20People%3ARace%20and%20Ethnicity&g=0400000US06,06%24160000&tid=ACSDP5Y2018.DP05)\n",
    "3. [Labor Force Data](https://www.labormarketinfo.edd.ca.gov/data/industry-employment-and-unemployment-rates-for-counties.html)\n",
    "4. [USGS National Land Cover Database](https://www.mrlc.gov/data?f%5B0%5D=category%3Aland%20cover&f%5B1%5D=year%3A2016)\n",
    "4. [California Enviroscreen -- includes demographic data by census block, derived from census data](https://oehha.ca.gov/calenviroscreen/report/calenviroscreen-30)\n",
    "5. [USAID Demographic and Health Survey Data](https://dhsprogram.com/) *Ask Jessica if you have questions about using this data.*\n",
    "\n",
    "## Other\n",
    "1. [USDA Cow Density Data](https://www.nass.usda.gov/Charts_and_Maps/Cattle/)\n"
   ]
  },
  {
   "cell_type": "code",
   "execution_count": null,
   "metadata": {},
   "outputs": [],
   "source": []
  }
 ],
 "metadata": {
  "kernelspec": {
   "display_name": "Python 3 (ipykernel)",
   "language": "python",
   "name": "python3"
  },
  "language_info": {
   "codemirror_mode": {
    "name": "ipython",
    "version": 3
   },
   "file_extension": ".py",
   "mimetype": "text/x-python",
   "name": "python",
   "nbconvert_exporter": "python",
   "pygments_lexer": "ipython3",
   "version": "3.11.8"
  }
 },
 "nbformat": 4,
 "nbformat_minor": 4
}
